{
 "cells": [
  {
   "cell_type": "code",
   "execution_count": 1,
   "metadata": {
    "colab": {},
    "colab_type": "code",
    "id": "sue6GMKsozmN"
   },
   "outputs": [],
   "source": [
    "#from google.colab import drive\n",
    "import numpy as np\n",
    "#from collections import Counter\n",
    "import pandas as pd\n",
    "import matplotlib.pyplot as plt\n",
    "import time\n",
    "#import statistics\n",
    "import pandas as pd\n",
    "import sqlite3\n",
    "import os.path\n",
    "import seaborn as sns; sns.set()"
   ]
  },
  {
   "cell_type": "code",
   "execution_count": 2,
   "metadata": {
    "colab": {
     "base_uri": "https://localhost:8080/",
     "height": 128
    },
    "colab_type": "code",
    "id": "Z5Sf4tImpmvu",
    "outputId": "c1b8b89d-ca57-4b96-ed18-299ddbac64a5"
   },
   "outputs": [
    {
     "name": "stdout",
     "output_type": "stream",
     "text": [
      "Go to this URL in a browser: https://accounts.google.com/o/oauth2/auth?client_id=947318989803-6bn6qk8qdgf4n4g3pfee6491hc0brc4i.apps.googleusercontent.com&redirect_uri=urn%3Aietf%3Awg%3Aoauth%3A2.0%3Aoob&scope=email%20https%3A%2F%2Fwww.googleapis.com%2Fauth%2Fdocs.test%20https%3A%2F%2Fwww.googleapis.com%2Fauth%2Fdrive%20https%3A%2F%2Fwww.googleapis.com%2Fauth%2Fdrive.photos.readonly%20https%3A%2F%2Fwww.googleapis.com%2Fauth%2Fpeopleapi.readonly&response_type=code\n",
      "\n",
      "Enter your authorization code:\n",
      "··········\n",
      "Mounted at /content/gdrive\n"
     ]
    }
   ],
   "source": [
    "#drive.mount('/content/gdrive')"
   ]
  },
  {
   "cell_type": "code",
   "execution_count": 2,
   "metadata": {
    "colab": {},
    "colab_type": "code",
    "id": "ZoJtJd7LpupG"
   },
   "outputs": [],
   "source": [
    "#fn = \"/content/gdrive/My Drive/chess_data/chessDB.db\"\n",
    "fn = \"chessDB.db\""
   ]
  },
  {
   "cell_type": "code",
   "execution_count": 3,
   "metadata": {
    "colab": {},
    "colab_type": "code",
    "id": "NjH8XAfjreAV"
   },
   "outputs": [],
   "source": [
    "conn = sqlite3.connect(fn)\n",
    "c = conn.cursor()\n",
    "#c.execute(\"SELECT * FROM users;\")\n",
    "#users = c.fetchall()\n",
    "#print(\"Number of users: \", len(users))"
   ]
  },
  {
   "cell_type": "code",
   "execution_count": 116,
   "metadata": {
    "colab": {},
    "colab_type": "code",
    "id": "NKDszKwCuYGK"
   },
   "outputs": [],
   "source": [
    "user_date_df = pd.read_sql_query(\"SELECT users.uid, min(user_events.date) FROM users INNER JOIN user_events ON users.uid = user_events.user_id GROUP BY users.uid;\", conn)"
   ]
  },
  {
   "cell_type": "code",
   "execution_count": 117,
   "metadata": {
    "colab": {
     "base_uri": "https://localhost:8080/",
     "height": 677
    },
    "colab_type": "code",
    "id": "J1AWj3Rxucj4",
    "outputId": "fe7cae6d-2a4e-4c7d-d2d3-7ee463536f1a"
   },
   "outputs": [
    {
     "data": {
      "text/html": [
       "<div>\n",
       "<style scoped>\n",
       "    .dataframe tbody tr th:only-of-type {\n",
       "        vertical-align: middle;\n",
       "    }\n",
       "\n",
       "    .dataframe tbody tr th {\n",
       "        vertical-align: top;\n",
       "    }\n",
       "\n",
       "    .dataframe thead th {\n",
       "        text-align: right;\n",
       "    }\n",
       "</style>\n",
       "<table border=\"1\" class=\"dataframe\">\n",
       "  <thead>\n",
       "    <tr style=\"text-align: right;\">\n",
       "      <th></th>\n",
       "      <th>uid</th>\n",
       "      <th>min(user_events.date)</th>\n",
       "    </tr>\n",
       "  </thead>\n",
       "  <tbody>\n",
       "    <tr>\n",
       "      <th>0</th>\n",
       "      <td>12435050</td>\n",
       "      <td>1992-02-02</td>\n",
       "    </tr>\n",
       "    <tr>\n",
       "      <th>1</th>\n",
       "      <td>12435066</td>\n",
       "      <td>1991-11-24</td>\n",
       "    </tr>\n",
       "    <tr>\n",
       "      <th>2</th>\n",
       "      <td>12435088</td>\n",
       "      <td>2017-05-20</td>\n",
       "    </tr>\n",
       "    <tr>\n",
       "      <th>3</th>\n",
       "      <td>12435092</td>\n",
       "      <td>1994-11-20</td>\n",
       "    </tr>\n",
       "    <tr>\n",
       "      <th>4</th>\n",
       "      <td>12435105</td>\n",
       "      <td>1992-09-12</td>\n",
       "    </tr>\n",
       "    <tr>\n",
       "      <th>5</th>\n",
       "      <td>12435108</td>\n",
       "      <td>1999-08-18</td>\n",
       "    </tr>\n",
       "    <tr>\n",
       "      <th>6</th>\n",
       "      <td>12435118</td>\n",
       "      <td>1993-02-23</td>\n",
       "    </tr>\n",
       "    <tr>\n",
       "      <th>7</th>\n",
       "      <td>12435133</td>\n",
       "      <td>1991-11-10</td>\n",
       "    </tr>\n",
       "    <tr>\n",
       "      <th>8</th>\n",
       "      <td>12435144</td>\n",
       "      <td>1995-07-15</td>\n",
       "    </tr>\n",
       "    <tr>\n",
       "      <th>9</th>\n",
       "      <td>12435145</td>\n",
       "      <td>2008-04-26</td>\n",
       "    </tr>\n",
       "    <tr>\n",
       "      <th>10</th>\n",
       "      <td>12435147</td>\n",
       "      <td>1995-12-17</td>\n",
       "    </tr>\n",
       "    <tr>\n",
       "      <th>11</th>\n",
       "      <td>12435149</td>\n",
       "      <td>1991-12-01</td>\n",
       "    </tr>\n",
       "    <tr>\n",
       "      <th>12</th>\n",
       "      <td>12435157</td>\n",
       "      <td>1991-11-17</td>\n",
       "    </tr>\n",
       "    <tr>\n",
       "      <th>13</th>\n",
       "      <td>12435176</td>\n",
       "      <td>1991-11-10</td>\n",
       "    </tr>\n",
       "    <tr>\n",
       "      <th>14</th>\n",
       "      <td>12435177</td>\n",
       "      <td>1993-05-09</td>\n",
       "    </tr>\n",
       "    <tr>\n",
       "      <th>15</th>\n",
       "      <td>12435180</td>\n",
       "      <td>2000-03-12</td>\n",
       "    </tr>\n",
       "    <tr>\n",
       "      <th>16</th>\n",
       "      <td>12435188</td>\n",
       "      <td>2018-04-21</td>\n",
       "    </tr>\n",
       "    <tr>\n",
       "      <th>17</th>\n",
       "      <td>12435197</td>\n",
       "      <td>1995-05-21</td>\n",
       "    </tr>\n",
       "    <tr>\n",
       "      <th>18</th>\n",
       "      <td>12435199</td>\n",
       "      <td>2000-08-13</td>\n",
       "    </tr>\n",
       "    <tr>\n",
       "      <th>19</th>\n",
       "      <td>12435203</td>\n",
       "      <td>1996-12-22</td>\n",
       "    </tr>\n",
       "  </tbody>\n",
       "</table>\n",
       "</div>"
      ],
      "text/plain": [
       "         uid min(user_events.date)\n",
       "0   12435050            1992-02-02\n",
       "1   12435066            1991-11-24\n",
       "2   12435088            2017-05-20\n",
       "3   12435092            1994-11-20\n",
       "4   12435105            1992-09-12\n",
       "5   12435108            1999-08-18\n",
       "6   12435118            1993-02-23\n",
       "7   12435133            1991-11-10\n",
       "8   12435144            1995-07-15\n",
       "9   12435145            2008-04-26\n",
       "10  12435147            1995-12-17\n",
       "11  12435149            1991-12-01\n",
       "12  12435157            1991-11-17\n",
       "13  12435176            1991-11-10\n",
       "14  12435177            1993-05-09\n",
       "15  12435180            2000-03-12\n",
       "16  12435188            2018-04-21\n",
       "17  12435197            1995-05-21\n",
       "18  12435199            2000-08-13\n",
       "19  12435203            1996-12-22"
      ]
     },
     "execution_count": 117,
     "metadata": {},
     "output_type": "execute_result"
    }
   ],
   "source": [
    "user_date_df.head(20)"
   ]
  },
  {
   "cell_type": "code",
   "execution_count": 118,
   "metadata": {
    "colab": {},
    "colab_type": "code",
    "id": "RJQgYng8yjub"
   },
   "outputs": [],
   "source": [
    "year_count = user_date_df.groupby('min(user_events.date)').count()"
   ]
  },
  {
   "cell_type": "code",
   "execution_count": 119,
   "metadata": {
    "colab": {},
    "colab_type": "code",
    "id": "aJTRGIqwzuD6"
   },
   "outputs": [],
   "source": [
    "year_count['cumsum'] = year_count['uid'].cumsum()"
   ]
  },
  {
   "cell_type": "markdown",
   "metadata": {
    "colab_type": "text",
    "id": "0qXbtD37tVd-"
   },
   "source": [
    "# Number of players who register every day"
   ]
  },
  {
   "cell_type": "code",
   "execution_count": 120,
   "metadata": {
    "colab": {},
    "colab_type": "code",
    "id": "sObxZHF4z6IC"
   },
   "outputs": [],
   "source": [
    "year_count.index = pd.to_datetime(year_count.index)"
   ]
  },
  {
   "cell_type": "code",
   "execution_count": 121,
   "metadata": {
    "colab": {
     "base_uri": "https://localhost:8080/",
     "height": 2023
    },
    "colab_type": "code",
    "id": "MXtnrs9vs1zL",
    "outputId": "f3a39a2c-6163-4077-a7a2-17c92be9b58e"
   },
   "outputs": [
    {
     "data": {
      "text/html": [
       "<div>\n",
       "<style scoped>\n",
       "    .dataframe tbody tr th:only-of-type {\n",
       "        vertical-align: middle;\n",
       "    }\n",
       "\n",
       "    .dataframe tbody tr th {\n",
       "        vertical-align: top;\n",
       "    }\n",
       "\n",
       "    .dataframe thead th {\n",
       "        text-align: right;\n",
       "    }\n",
       "</style>\n",
       "<table border=\"1\" class=\"dataframe\">\n",
       "  <thead>\n",
       "    <tr style=\"text-align: right;\">\n",
       "      <th></th>\n",
       "      <th>uid</th>\n",
       "      <th>cumsum</th>\n",
       "    </tr>\n",
       "    <tr>\n",
       "      <th>min(user_events.date)</th>\n",
       "      <th></th>\n",
       "      <th></th>\n",
       "    </tr>\n",
       "  </thead>\n",
       "  <tbody>\n",
       "    <tr>\n",
       "      <th>2018-03-10</th>\n",
       "      <td>1</td>\n",
       "      <td>290301</td>\n",
       "    </tr>\n",
       "    <tr>\n",
       "      <th>2018-03-29</th>\n",
       "      <td>1</td>\n",
       "      <td>290302</td>\n",
       "    </tr>\n",
       "    <tr>\n",
       "      <th>2018-03-30</th>\n",
       "      <td>1</td>\n",
       "      <td>290303</td>\n",
       "    </tr>\n",
       "    <tr>\n",
       "      <th>2018-03-31</th>\n",
       "      <td>1</td>\n",
       "      <td>290304</td>\n",
       "    </tr>\n",
       "    <tr>\n",
       "      <th>2018-04-05</th>\n",
       "      <td>1</td>\n",
       "      <td>290305</td>\n",
       "    </tr>\n",
       "    <tr>\n",
       "      <th>2018-04-07</th>\n",
       "      <td>1</td>\n",
       "      <td>290306</td>\n",
       "    </tr>\n",
       "    <tr>\n",
       "      <th>2018-04-08</th>\n",
       "      <td>1</td>\n",
       "      <td>290307</td>\n",
       "    </tr>\n",
       "    <tr>\n",
       "      <th>2018-04-10</th>\n",
       "      <td>1</td>\n",
       "      <td>290308</td>\n",
       "    </tr>\n",
       "    <tr>\n",
       "      <th>2018-04-13</th>\n",
       "      <td>1</td>\n",
       "      <td>290309</td>\n",
       "    </tr>\n",
       "    <tr>\n",
       "      <th>2018-04-14</th>\n",
       "      <td>2</td>\n",
       "      <td>290311</td>\n",
       "    </tr>\n",
       "    <tr>\n",
       "      <th>2018-04-15</th>\n",
       "      <td>1</td>\n",
       "      <td>290312</td>\n",
       "    </tr>\n",
       "    <tr>\n",
       "      <th>2018-04-21</th>\n",
       "      <td>5</td>\n",
       "      <td>290317</td>\n",
       "    </tr>\n",
       "    <tr>\n",
       "      <th>2018-04-22</th>\n",
       "      <td>1</td>\n",
       "      <td>290318</td>\n",
       "    </tr>\n",
       "    <tr>\n",
       "      <th>2018-04-24</th>\n",
       "      <td>1</td>\n",
       "      <td>290319</td>\n",
       "    </tr>\n",
       "    <tr>\n",
       "      <th>2018-04-27</th>\n",
       "      <td>1</td>\n",
       "      <td>290320</td>\n",
       "    </tr>\n",
       "    <tr>\n",
       "      <th>2018-04-28</th>\n",
       "      <td>1</td>\n",
       "      <td>290321</td>\n",
       "    </tr>\n",
       "    <tr>\n",
       "      <th>2018-04-29</th>\n",
       "      <td>5</td>\n",
       "      <td>290326</td>\n",
       "    </tr>\n",
       "    <tr>\n",
       "      <th>2018-05-05</th>\n",
       "      <td>2</td>\n",
       "      <td>290328</td>\n",
       "    </tr>\n",
       "    <tr>\n",
       "      <th>2018-05-06</th>\n",
       "      <td>1</td>\n",
       "      <td>290329</td>\n",
       "    </tr>\n",
       "    <tr>\n",
       "      <th>2018-05-08</th>\n",
       "      <td>1</td>\n",
       "      <td>290330</td>\n",
       "    </tr>\n",
       "    <tr>\n",
       "      <th>2018-05-12</th>\n",
       "      <td>4</td>\n",
       "      <td>290334</td>\n",
       "    </tr>\n",
       "    <tr>\n",
       "      <th>2018-05-13</th>\n",
       "      <td>1</td>\n",
       "      <td>290335</td>\n",
       "    </tr>\n",
       "    <tr>\n",
       "      <th>2018-05-19</th>\n",
       "      <td>1</td>\n",
       "      <td>290336</td>\n",
       "    </tr>\n",
       "    <tr>\n",
       "      <th>2018-05-20</th>\n",
       "      <td>2</td>\n",
       "      <td>290338</td>\n",
       "    </tr>\n",
       "    <tr>\n",
       "      <th>2018-05-25</th>\n",
       "      <td>1</td>\n",
       "      <td>290339</td>\n",
       "    </tr>\n",
       "    <tr>\n",
       "      <th>2018-05-26</th>\n",
       "      <td>1</td>\n",
       "      <td>290340</td>\n",
       "    </tr>\n",
       "    <tr>\n",
       "      <th>2018-05-28</th>\n",
       "      <td>2</td>\n",
       "      <td>290342</td>\n",
       "    </tr>\n",
       "    <tr>\n",
       "      <th>2018-06-07</th>\n",
       "      <td>1</td>\n",
       "      <td>290343</td>\n",
       "    </tr>\n",
       "    <tr>\n",
       "      <th>2018-06-12</th>\n",
       "      <td>1</td>\n",
       "      <td>290344</td>\n",
       "    </tr>\n",
       "    <tr>\n",
       "      <th>2018-06-19</th>\n",
       "      <td>1</td>\n",
       "      <td>290345</td>\n",
       "    </tr>\n",
       "    <tr>\n",
       "      <th>...</th>\n",
       "      <td>...</td>\n",
       "      <td>...</td>\n",
       "    </tr>\n",
       "    <tr>\n",
       "      <th>2018-12-29</th>\n",
       "      <td>2</td>\n",
       "      <td>290396</td>\n",
       "    </tr>\n",
       "    <tr>\n",
       "      <th>2019-01-04</th>\n",
       "      <td>1</td>\n",
       "      <td>290397</td>\n",
       "    </tr>\n",
       "    <tr>\n",
       "      <th>2019-01-05</th>\n",
       "      <td>1</td>\n",
       "      <td>290398</td>\n",
       "    </tr>\n",
       "    <tr>\n",
       "      <th>2019-01-06</th>\n",
       "      <td>1</td>\n",
       "      <td>290399</td>\n",
       "    </tr>\n",
       "    <tr>\n",
       "      <th>2019-01-18</th>\n",
       "      <td>1</td>\n",
       "      <td>290400</td>\n",
       "    </tr>\n",
       "    <tr>\n",
       "      <th>2019-01-20</th>\n",
       "      <td>1</td>\n",
       "      <td>290401</td>\n",
       "    </tr>\n",
       "    <tr>\n",
       "      <th>2019-01-26</th>\n",
       "      <td>2</td>\n",
       "      <td>290403</td>\n",
       "    </tr>\n",
       "    <tr>\n",
       "      <th>2019-01-29</th>\n",
       "      <td>1</td>\n",
       "      <td>290404</td>\n",
       "    </tr>\n",
       "    <tr>\n",
       "      <th>2019-01-31</th>\n",
       "      <td>1</td>\n",
       "      <td>290405</td>\n",
       "    </tr>\n",
       "    <tr>\n",
       "      <th>2019-02-02</th>\n",
       "      <td>2</td>\n",
       "      <td>290407</td>\n",
       "    </tr>\n",
       "    <tr>\n",
       "      <th>2019-02-03</th>\n",
       "      <td>1</td>\n",
       "      <td>290408</td>\n",
       "    </tr>\n",
       "    <tr>\n",
       "      <th>2019-02-06</th>\n",
       "      <td>1</td>\n",
       "      <td>290409</td>\n",
       "    </tr>\n",
       "    <tr>\n",
       "      <th>2019-02-07</th>\n",
       "      <td>1</td>\n",
       "      <td>290410</td>\n",
       "    </tr>\n",
       "    <tr>\n",
       "      <th>2019-02-09</th>\n",
       "      <td>2</td>\n",
       "      <td>290412</td>\n",
       "    </tr>\n",
       "    <tr>\n",
       "      <th>2019-02-10</th>\n",
       "      <td>2</td>\n",
       "      <td>290414</td>\n",
       "    </tr>\n",
       "    <tr>\n",
       "      <th>2019-02-16</th>\n",
       "      <td>1</td>\n",
       "      <td>290415</td>\n",
       "    </tr>\n",
       "    <tr>\n",
       "      <th>2019-02-17</th>\n",
       "      <td>3</td>\n",
       "      <td>290418</td>\n",
       "    </tr>\n",
       "    <tr>\n",
       "      <th>2019-02-18</th>\n",
       "      <td>1</td>\n",
       "      <td>290419</td>\n",
       "    </tr>\n",
       "    <tr>\n",
       "      <th>2019-02-23</th>\n",
       "      <td>1</td>\n",
       "      <td>290420</td>\n",
       "    </tr>\n",
       "    <tr>\n",
       "      <th>2019-02-24</th>\n",
       "      <td>3</td>\n",
       "      <td>290423</td>\n",
       "    </tr>\n",
       "    <tr>\n",
       "      <th>2019-02-27</th>\n",
       "      <td>1</td>\n",
       "      <td>290424</td>\n",
       "    </tr>\n",
       "    <tr>\n",
       "      <th>2019-03-01</th>\n",
       "      <td>1</td>\n",
       "      <td>290425</td>\n",
       "    </tr>\n",
       "    <tr>\n",
       "      <th>2019-03-03</th>\n",
       "      <td>1</td>\n",
       "      <td>290426</td>\n",
       "    </tr>\n",
       "    <tr>\n",
       "      <th>2019-03-05</th>\n",
       "      <td>1</td>\n",
       "      <td>290427</td>\n",
       "    </tr>\n",
       "    <tr>\n",
       "      <th>2019-03-10</th>\n",
       "      <td>1</td>\n",
       "      <td>290428</td>\n",
       "    </tr>\n",
       "    <tr>\n",
       "      <th>2019-03-17</th>\n",
       "      <td>1</td>\n",
       "      <td>290429</td>\n",
       "    </tr>\n",
       "    <tr>\n",
       "      <th>2019-03-21</th>\n",
       "      <td>1</td>\n",
       "      <td>290430</td>\n",
       "    </tr>\n",
       "    <tr>\n",
       "      <th>2019-03-23</th>\n",
       "      <td>1</td>\n",
       "      <td>290431</td>\n",
       "    </tr>\n",
       "    <tr>\n",
       "      <th>2019-03-24</th>\n",
       "      <td>1</td>\n",
       "      <td>290432</td>\n",
       "    </tr>\n",
       "    <tr>\n",
       "      <th>2019-03-30</th>\n",
       "      <td>2</td>\n",
       "      <td>290434</td>\n",
       "    </tr>\n",
       "  </tbody>\n",
       "</table>\n",
       "<p>100 rows × 2 columns</p>\n",
       "</div>"
      ],
      "text/plain": [
       "                       uid  cumsum\n",
       "min(user_events.date)             \n",
       "2018-03-10               1  290301\n",
       "2018-03-29               1  290302\n",
       "2018-03-30               1  290303\n",
       "2018-03-31               1  290304\n",
       "2018-04-05               1  290305\n",
       "2018-04-07               1  290306\n",
       "2018-04-08               1  290307\n",
       "2018-04-10               1  290308\n",
       "2018-04-13               1  290309\n",
       "2018-04-14               2  290311\n",
       "2018-04-15               1  290312\n",
       "2018-04-21               5  290317\n",
       "2018-04-22               1  290318\n",
       "2018-04-24               1  290319\n",
       "2018-04-27               1  290320\n",
       "2018-04-28               1  290321\n",
       "2018-04-29               5  290326\n",
       "2018-05-05               2  290328\n",
       "2018-05-06               1  290329\n",
       "2018-05-08               1  290330\n",
       "2018-05-12               4  290334\n",
       "2018-05-13               1  290335\n",
       "2018-05-19               1  290336\n",
       "2018-05-20               2  290338\n",
       "2018-05-25               1  290339\n",
       "2018-05-26               1  290340\n",
       "2018-05-28               2  290342\n",
       "2018-06-07               1  290343\n",
       "2018-06-12               1  290344\n",
       "2018-06-19               1  290345\n",
       "...                    ...     ...\n",
       "2018-12-29               2  290396\n",
       "2019-01-04               1  290397\n",
       "2019-01-05               1  290398\n",
       "2019-01-06               1  290399\n",
       "2019-01-18               1  290400\n",
       "2019-01-20               1  290401\n",
       "2019-01-26               2  290403\n",
       "2019-01-29               1  290404\n",
       "2019-01-31               1  290405\n",
       "2019-02-02               2  290407\n",
       "2019-02-03               1  290408\n",
       "2019-02-06               1  290409\n",
       "2019-02-07               1  290410\n",
       "2019-02-09               2  290412\n",
       "2019-02-10               2  290414\n",
       "2019-02-16               1  290415\n",
       "2019-02-17               3  290418\n",
       "2019-02-18               1  290419\n",
       "2019-02-23               1  290420\n",
       "2019-02-24               3  290423\n",
       "2019-02-27               1  290424\n",
       "2019-03-01               1  290425\n",
       "2019-03-03               1  290426\n",
       "2019-03-05               1  290427\n",
       "2019-03-10               1  290428\n",
       "2019-03-17               1  290429\n",
       "2019-03-21               1  290430\n",
       "2019-03-23               1  290431\n",
       "2019-03-24               1  290432\n",
       "2019-03-30               2  290434\n",
       "\n",
       "[100 rows x 2 columns]"
      ]
     },
     "execution_count": 121,
     "metadata": {},
     "output_type": "execute_result"
    }
   ],
   "source": [
    "year_count[-100:]"
   ]
  },
  {
   "cell_type": "code",
   "execution_count": 122,
   "metadata": {
    "colab": {
     "base_uri": "https://localhost:8080/",
     "height": 368
    },
    "colab_type": "code",
    "id": "ewh139VTtc4q",
    "outputId": "eebd8fc6-bc08-4f37-d9db-710cb35a4f36"
   },
   "outputs": [
    {
     "data": {
      "text/plain": [
       "Text(0, 0.5, 'Number of chess players')"
      ]
     },
     "execution_count": 122,
     "metadata": {},
     "output_type": "execute_result"
    },
    {
     "data": {
      "image/png": "[encoded data removed]",
      "text/plain": [
       "<Figure size 720x360 with 1 Axes>"
      ]
     },
     "metadata": {},
     "output_type": "display_data"
    }
   ],
   "source": [
    "plt.figure(figsize=(10, 5))\n",
    "plt.plot(year_count.index, year_count['cumsum'].values)\n",
    "plt.title(\"Number of chess players registered in the US by year who played in a tournament\")\n",
    "plt.xlabel(\"Year\")\n",
    "plt.ylabel(\"Number of chess players\")"
   ]
  },
  {
   "cell_type": "markdown",
   "metadata": {},
   "source": [
    "Slope from 1992 to 2004 and 2004 to 2019"
   ]
  },
  {
   "cell_type": "code",
   "execution_count": 138,
   "metadata": {},
   "outputs": [
    {
     "data": {
      "text/plain": [
       "(Timestamp('1992-01-04 00:00:00'), Timestamp('2004-04-02 00:00:00'))"
      ]
     },
     "execution_count": 138,
     "metadata": {},
     "output_type": "execute_result"
    }
   ],
   "source": [
    "year_count.index[110], year_count.index[4500]"
   ]
  },
  {
   "cell_type": "code",
   "execution_count": 141,
   "metadata": {},
   "outputs": [
    {
     "data": {
      "text/plain": [
       "6530"
      ]
     },
     "execution_count": 141,
     "metadata": {},
     "output_type": "execute_result"
    }
   ],
   "source": [
    "len(year_count)"
   ]
  },
  {
   "cell_type": "code",
   "execution_count": 140,
   "metadata": {},
   "outputs": [
    {
     "data": {
      "text/plain": [
       "62.515034168564924"
      ]
     },
     "execution_count": 140,
     "metadata": {},
     "output_type": "execute_result"
    }
   ],
   "source": [
    "slope1 = (year_count['cumsum'].values[4500] - year_count['cumsum'].values[110]) / (4500 - 110)\n",
    "slope1"
   ]
  },
  {
   "cell_type": "code",
   "execution_count": 142,
   "metadata": {},
   "outputs": [
    {
     "data": {
      "text/plain": [
       "3.9310004928536224"
      ]
     },
     "execution_count": 142,
     "metadata": {},
     "output_type": "execute_result"
    }
   ],
   "source": [
    "slope2 = (year_count['cumsum'].values[6529] - year_count['cumsum'].values[4500]) / (6529 - 4500)\n",
    "slope2"
   ]
  },
  {
   "cell_type": "markdown",
   "metadata": {},
   "source": [
    "From 1992 to 2004, we see about 63 people new people registering and playing in a tournament every year. This has droped significantly down to 4 from 2004 - present"
   ]
  },
  {
   "cell_type": "markdown",
   "metadata": {
    "colab_type": "text",
    "id": "LH0OPNSzwDGz"
   },
   "source": [
    "# Average rating and standard deviation by year"
   ]
  },
  {
   "cell_type": "code",
   "execution_count": 17,
   "metadata": {
    "colab": {
     "base_uri": "https://localhost:8080/",
     "height": 988
    },
    "colab_type": "code",
    "id": "b6ws0ptTwX0u",
    "outputId": "b938bdf5-e82e-4a9d-deb3-982c987124b1"
   },
   "outputs": [],
   "source": [
    "ratings_df = pd.read_sql_query(\"SELECT date, user_events.reg_after, users.uid FROM users INNER JOIN user_events ON users.uid = user_events.user_id;\", conn)"
   ]
  },
  {
   "cell_type": "code",
   "execution_count": 18,
   "metadata": {},
   "outputs": [
    {
     "data": {
      "text/html": [
       "<div>\n",
       "<style scoped>\n",
       "    .dataframe tbody tr th:only-of-type {\n",
       "        vertical-align: middle;\n",
       "    }\n",
       "\n",
       "    .dataframe tbody tr th {\n",
       "        vertical-align: top;\n",
       "    }\n",
       "\n",
       "    .dataframe thead th {\n",
       "        text-align: right;\n",
       "    }\n",
       "</style>\n",
       "<table border=\"1\" class=\"dataframe\">\n",
       "  <thead>\n",
       "    <tr style=\"text-align: right;\">\n",
       "      <th></th>\n",
       "      <th>date</th>\n",
       "      <th>reg_after</th>\n",
       "      <th>uid</th>\n",
       "    </tr>\n",
       "  </thead>\n",
       "  <tbody>\n",
       "    <tr>\n",
       "      <th>0</th>\n",
       "      <td>1996-08-25</td>\n",
       "      <td>1385 (P5)</td>\n",
       "      <td>12683802</td>\n",
       "    </tr>\n",
       "    <tr>\n",
       "      <th>1</th>\n",
       "      <td>1994-12-10</td>\n",
       "      <td>735 (P8)</td>\n",
       "      <td>12632612</td>\n",
       "    </tr>\n",
       "    <tr>\n",
       "      <th>2</th>\n",
       "      <td>1994-11-06</td>\n",
       "      <td>711 (P4)</td>\n",
       "      <td>12632612</td>\n",
       "    </tr>\n",
       "    <tr>\n",
       "      <th>3</th>\n",
       "      <td>2001-02-10</td>\n",
       "      <td>576 (P5)</td>\n",
       "      <td>12831758</td>\n",
       "    </tr>\n",
       "    <tr>\n",
       "      <th>4</th>\n",
       "      <td>1993-04-15</td>\n",
       "      <td>None</td>\n",
       "      <td>12582004</td>\n",
       "    </tr>\n",
       "  </tbody>\n",
       "</table>\n",
       "</div>"
      ],
      "text/plain": [
       "         date  reg_after       uid\n",
       "0  1996-08-25  1385 (P5)  12683802\n",
       "1  1994-12-10   735 (P8)  12632612\n",
       "2  1994-11-06   711 (P4)  12632612\n",
       "3  2001-02-10   576 (P5)  12831758\n",
       "4  1993-04-15       None  12582004"
      ]
     },
     "execution_count": 18,
     "metadata": {},
     "output_type": "execute_result"
    }
   ],
   "source": [
    "ratings_df.head()"
   ]
  },
  {
   "cell_type": "code",
   "execution_count": 19,
   "metadata": {},
   "outputs": [],
   "source": [
    "ratings_date_df = pd.DataFrame()"
   ]
  },
  {
   "cell_type": "markdown",
   "metadata": {},
   "source": [
    "Rows are dates (one date column), columns is the rating for each uid (300k uid columns)"
   ]
  },
  {
   "cell_type": "code",
   "execution_count": 20,
   "metadata": {},
   "outputs": [],
   "source": [
    "dates = list(sorted(set(ratings_df['date'])))"
   ]
  },
  {
   "cell_type": "code",
   "execution_count": 21,
   "metadata": {},
   "outputs": [
    {
     "data": {
      "text/plain": [
       "10057"
      ]
     },
     "execution_count": 21,
     "metadata": {},
     "output_type": "execute_result"
    }
   ],
   "source": [
    "len(dates)"
   ]
  },
  {
   "cell_type": "code",
   "execution_count": 22,
   "metadata": {},
   "outputs": [
    {
     "data": {
      "text/plain": [
       "('1991-01-28', '2019-04-09')"
      ]
     },
     "execution_count": 22,
     "metadata": {},
     "output_type": "execute_result"
    }
   ],
   "source": [
    "dates[0], dates[-2]"
   ]
  },
  {
   "cell_type": "code",
   "execution_count": 23,
   "metadata": {},
   "outputs": [],
   "source": [
    "ratings_date_df['dates'] = dates"
   ]
  },
  {
   "cell_type": "code",
   "execution_count": 24,
   "metadata": {},
   "outputs": [
    {
     "data": {
      "text/html": [
       "<div>\n",
       "<style scoped>\n",
       "    .dataframe tbody tr th:only-of-type {\n",
       "        vertical-align: middle;\n",
       "    }\n",
       "\n",
       "    .dataframe tbody tr th {\n",
       "        vertical-align: top;\n",
       "    }\n",
       "\n",
       "    .dataframe thead th {\n",
       "        text-align: right;\n",
       "    }\n",
       "</style>\n",
       "<table border=\"1\" class=\"dataframe\">\n",
       "  <thead>\n",
       "    <tr style=\"text-align: right;\">\n",
       "      <th></th>\n",
       "      <th>dates</th>\n",
       "    </tr>\n",
       "  </thead>\n",
       "  <tbody>\n",
       "    <tr>\n",
       "      <th>0</th>\n",
       "      <td>1991-01-28</td>\n",
       "    </tr>\n",
       "    <tr>\n",
       "      <th>1</th>\n",
       "      <td>1991-01-31</td>\n",
       "    </tr>\n",
       "    <tr>\n",
       "      <th>2</th>\n",
       "      <td>1991-02-18</td>\n",
       "    </tr>\n",
       "    <tr>\n",
       "      <th>3</th>\n",
       "      <td>1991-02-26</td>\n",
       "    </tr>\n",
       "    <tr>\n",
       "      <th>4</th>\n",
       "      <td>1991-03-17</td>\n",
       "    </tr>\n",
       "  </tbody>\n",
       "</table>\n",
       "</div>"
      ],
      "text/plain": [
       "        dates\n",
       "0  1991-01-28\n",
       "1  1991-01-31\n",
       "2  1991-02-18\n",
       "3  1991-02-26\n",
       "4  1991-03-17"
      ]
     },
     "execution_count": 24,
     "metadata": {},
     "output_type": "execute_result"
    }
   ],
   "source": [
    "ratings_date_df.head()"
   ]
  },
  {
   "cell_type": "code",
   "execution_count": 25,
   "metadata": {},
   "outputs": [
    {
     "data": {
      "text/plain": [
       "3283074"
      ]
     },
     "execution_count": 25,
     "metadata": {},
     "output_type": "execute_result"
    }
   ],
   "source": [
    "len(ratings_df)"
   ]
  },
  {
   "cell_type": "markdown",
   "metadata": {},
   "source": [
    "Let's just keep track of rating by year, and the latest rating for that year"
   ]
  },
  {
   "cell_type": "code",
   "execution_count": 26,
   "metadata": {},
   "outputs": [
    {
     "name": "stdout",
     "output_type": "stream",
     "text": [
      "0\n",
      "100000\n",
      "200000\n",
      "300000\n",
      "400000\n",
      "500000\n",
      "600000\n",
      "700000\n",
      "800000\n",
      "900000\n",
      "1000000\n",
      "1100000\n",
      "1200000\n",
      "1300000\n",
      "1400000\n",
      "1500000\n",
      "1600000\n",
      "1700000\n",
      "1800000\n",
      "1900000\n",
      "2000000\n",
      "2100000\n",
      "2200000\n",
      "2300000\n",
      "2400000\n",
      "2500000\n",
      "2600000\n",
      "2700000\n",
      "2800000\n",
      "2900000\n",
      "3000000\n",
      "3100000\n",
      "3200000\n",
      "950.0583763122559  seconds\n"
     ]
    }
   ],
   "source": [
    "uid_date_d = {}\n",
    "start = time.time()\n",
    "for index, row in ratings_df.iterrows():\n",
    "    if index % 100000 == 0:\n",
    "        print(index)\n",
    "    if not row.uid in uid_date_d.keys():\n",
    "        uid_date_d[row.uid] = {}\n",
    "    year = row.date[:4]\n",
    "    #uid_date_d[row.uid][row.date] = row.reg_after\n",
    "    # get rid of provisional part\n",
    "    uid_date_d[row.uid][year] = int(row.reg_after.split(\" \")[0]) if row.reg_after else None\n",
    "end = time.time()\n",
    "print(end - start, \" seconds\")"
   ]
  },
  {
   "cell_type": "code",
   "execution_count": 36,
   "metadata": {},
   "outputs": [
    {
     "data": {
      "text/plain": [
       "290434"
      ]
     },
     "execution_count": 36,
     "metadata": {},
     "output_type": "execute_result"
    }
   ],
   "source": [
    "len(list(uid_date_d.keys()))"
   ]
  },
  {
   "cell_type": "code",
   "execution_count": 37,
   "metadata": {},
   "outputs": [
    {
     "data": {
      "text/plain": [
       "{'1996': 1385,\n",
       " '1991': 'NA',\n",
       " '1992': 'NA',\n",
       " '1993': 'NA',\n",
       " '1994': 'NA',\n",
       " '1995': 'NA',\n",
       " '1997': 1385,\n",
       " '1998': 1385,\n",
       " '1999': 1385,\n",
       " '2000': 1385,\n",
       " '2001': 1385,\n",
       " '2002': 1385,\n",
       " '2003': 1385,\n",
       " '2004': 1385,\n",
       " '2005': 1385,\n",
       " '2006': 1385,\n",
       " '2007': 1385,\n",
       " '2008': 1385,\n",
       " '2009': 1385,\n",
       " '2010': 1385,\n",
       " '2011': 1385,\n",
       " '2012': 1385,\n",
       " '2013': 1385,\n",
       " '2014': 1385,\n",
       " '2015': 1385,\n",
       " '2016': 1385,\n",
       " '2017': 1385,\n",
       " '2018': 1385,\n",
       " '2019': 1385}"
      ]
     },
     "execution_count": 37,
     "metadata": {},
     "output_type": "execute_result"
    }
   ],
   "source": [
    "uid_date_d[12683802]"
   ]
  },
  {
   "cell_type": "code",
   "execution_count": 38,
   "metadata": {},
   "outputs": [
    {
     "data": {
      "text/plain": [
       "1385"
      ]
     },
     "execution_count": 38,
     "metadata": {},
     "output_type": "execute_result"
    }
   ],
   "source": [
    "#uid_date_d[12683802]['1996'].split(\" \")[0]\n",
    "int(\"1385\")"
   ]
  },
  {
   "cell_type": "code",
   "execution_count": 39,
   "metadata": {},
   "outputs": [
    {
     "data": {
      "text/plain": [
       "'1385'"
      ]
     },
     "execution_count": 39,
     "metadata": {},
     "output_type": "execute_result"
    }
   ],
   "source": [
    "\"1385\".split(\" \")[0]"
   ]
  },
  {
   "cell_type": "code",
   "execution_count": 40,
   "metadata": {},
   "outputs": [],
   "source": [
    "uid_set = set(ratings_df['uid'])"
   ]
  },
  {
   "cell_type": "code",
   "execution_count": 41,
   "metadata": {},
   "outputs": [],
   "source": [
    "uids = list(uid_set)"
   ]
  },
  {
   "cell_type": "code",
   "execution_count": 42,
   "metadata": {},
   "outputs": [
    {
     "data": {
      "text/plain": [
       "290434"
      ]
     },
     "execution_count": 42,
     "metadata": {},
     "output_type": "execute_result"
    }
   ],
   "source": [
    "len(uids)"
   ]
  },
  {
   "cell_type": "code",
   "execution_count": 43,
   "metadata": {},
   "outputs": [
    {
     "data": {
      "text/plain": [
       "['1991',\n",
       " '1992',\n",
       " '1993',\n",
       " '1994',\n",
       " '1995',\n",
       " '1996',\n",
       " '1997',\n",
       " '1998',\n",
       " '1999',\n",
       " '2000',\n",
       " '2001',\n",
       " '2002',\n",
       " '2003',\n",
       " '2004',\n",
       " '2005',\n",
       " '2006',\n",
       " '2007',\n",
       " '2008',\n",
       " '2009',\n",
       " '2010',\n",
       " '2011',\n",
       " '2012',\n",
       " '2013',\n",
       " '2014',\n",
       " '2015',\n",
       " '2016',\n",
       " '2017',\n",
       " '2018',\n",
       " '2019']"
      ]
     },
     "execution_count": 43,
     "metadata": {},
     "output_type": "execute_result"
    }
   ],
   "source": [
    "# years: 1991 - 2019\n",
    "years = [str(x) for x in range(1991, 2020)]\n",
    "years"
   ]
  },
  {
   "cell_type": "code",
   "execution_count": 44,
   "metadata": {},
   "outputs": [],
   "source": [
    "for num, uid in enumerate(uids):\n",
    "    for index, year in enumerate(years):\n",
    "        if year not in uid_date_d[uid]:\n",
    "            try:\n",
    "                uid_date_d[uid][year] = uid_date_d[uid][years[index - 1]]\n",
    "            except:\n",
    "                uid_date_d[uid][year] = \"NA\"\n",
    "        elif uid_date_d[uid][year] == None:\n",
    "            try:\n",
    "                uid_date_d[uid][year] = uid_date_d[uid][years[index - 1]]\n",
    "            except:\n",
    "                uid_date_d[uid][year] = \"NA\"\n",
    "import pickle"
   ]
  },
  {
   "cell_type": "code",
   "execution_count": 45,
   "metadata": {},
   "outputs": [],
   "source": [
    "pickle.dump(uid_date_d, open( \"uid_date_d.pickle\", \"wb\" ))"
   ]
  },
  {
   "cell_type": "code",
   "execution_count": 46,
   "metadata": {},
   "outputs": [
    {
     "name": "stdout",
     "output_type": "stream",
     "text": [
      "0\n",
      "10000\n",
      "20000\n",
      "30000\n",
      "40000\n",
      "50000\n",
      "60000\n",
      "70000\n",
      "80000\n",
      "90000\n",
      "100000\n",
      "110000\n",
      "120000\n",
      "130000\n",
      "140000\n",
      "150000\n",
      "160000\n",
      "170000\n",
      "180000\n",
      "190000\n",
      "200000\n",
      "210000\n",
      "220000\n",
      "230000\n",
      "240000\n",
      "250000\n",
      "260000\n",
      "270000\n",
      "280000\n",
      "290000\n",
      "6132.803323030472 seconds\n"
     ]
    }
   ],
   "source": [
    "df = pd.DataFrame(index=years)\n",
    "start = time.time()\n",
    "for num, uid in enumerate(uids):\n",
    "    if num % 10000 == 0:\n",
    "        print(num)\n",
    "    u = []\n",
    "    for year in years:\n",
    "        u.append(uid_date_d[uid][year])\n",
    "    df[uid] = u\n",
    "end = time.time()\n",
    "print(end - start, \"seconds\")"
   ]
  },
  {
   "cell_type": "code",
   "execution_count": 47,
   "metadata": {},
   "outputs": [
    {
     "data": {
      "text/plain": [
       "1991    1469.460505\n",
       "1992    1469.567591\n",
       "1993    1476.286349\n",
       "1994    1479.513102\n",
       "1995    1478.230063\n",
       "1996    1475.899347\n",
       "1997    1471.365812\n",
       "1998    1465.221455\n",
       "1999    1457.432788\n",
       "2000    1450.476871\n",
       "2001    1443.122789\n",
       "2002    1440.520764\n",
       "2003    1436.994135\n",
       "2004    1437.610538\n",
       "2005    1445.361082\n",
       "2006    1451.171223\n",
       "2007    1455.811560\n",
       "2008    1460.367420\n",
       "2009    1464.976540\n",
       "2010    1469.812222\n",
       "2011    1473.800965\n",
       "2012    1478.176615\n",
       "2013    1481.488033\n",
       "2014    1484.912118\n",
       "2015    1487.496926\n",
       "2016    1489.286444\n",
       "2017    1491.377069\n",
       "2018    1492.500993\n",
       "2019    1494.856873\n",
       "dtype: float64"
      ]
     },
     "execution_count": 47,
     "metadata": {},
     "output_type": "execute_result"
    }
   ],
   "source": [
    "df.mean(axis=1)"
   ]
  },
  {
   "cell_type": "code",
   "execution_count": 48,
   "metadata": {},
   "outputs": [],
   "source": [
    "df_aggs = df.copy(deep=True)\n",
    "df_aggs['mean'] = df.mean(axis=1)\n",
    "df_aggs['std'] = df.std(axis=1)"
   ]
  },
  {
   "cell_type": "code",
   "execution_count": 49,
   "metadata": {},
   "outputs": [
    {
     "data": {
      "text/html": [
       "<div>\n",
       "<style scoped>\n",
       "    .dataframe tbody tr th:only-of-type {\n",
       "        vertical-align: middle;\n",
       "    }\n",
       "\n",
       "    .dataframe tbody tr th {\n",
       "        vertical-align: top;\n",
       "    }\n",
       "\n",
       "    .dataframe thead th {\n",
       "        text-align: right;\n",
       "    }\n",
       "</style>\n",
       "<table border=\"1\" class=\"dataframe\">\n",
       "  <thead>\n",
       "    <tr style=\"text-align: right;\">\n",
       "      <th></th>\n",
       "      <th>12582912</th>\n",
       "      <th>12582913</th>\n",
       "      <th>12582914</th>\n",
       "      <th>12582916</th>\n",
       "      <th>12582917</th>\n",
       "      <th>12582918</th>\n",
       "      <th>12582919</th>\n",
       "      <th>12582920</th>\n",
       "      <th>12582921</th>\n",
       "      <th>12582922</th>\n",
       "      <th>...</th>\n",
       "      <th>12582904</th>\n",
       "      <th>12582905</th>\n",
       "      <th>12582906</th>\n",
       "      <th>12582907</th>\n",
       "      <th>12582908</th>\n",
       "      <th>12582909</th>\n",
       "      <th>12582910</th>\n",
       "      <th>12582911</th>\n",
       "      <th>mean</th>\n",
       "      <th>std</th>\n",
       "    </tr>\n",
       "  </thead>\n",
       "  <tbody>\n",
       "    <tr>\n",
       "      <th>1991</th>\n",
       "      <td>NA</td>\n",
       "      <td>NA</td>\n",
       "      <td>NA</td>\n",
       "      <td>NA</td>\n",
       "      <td>NA</td>\n",
       "      <td>NA</td>\n",
       "      <td>NA</td>\n",
       "      <td>NA</td>\n",
       "      <td>NA</td>\n",
       "      <td>NA</td>\n",
       "      <td>...</td>\n",
       "      <td>NA</td>\n",
       "      <td>NA</td>\n",
       "      <td>NA</td>\n",
       "      <td>NA</td>\n",
       "      <td>NA</td>\n",
       "      <td>NA</td>\n",
       "      <td>NA</td>\n",
       "      <td>NA</td>\n",
       "      <td>1469.460505</td>\n",
       "      <td>404.693575</td>\n",
       "    </tr>\n",
       "    <tr>\n",
       "      <th>1992</th>\n",
       "      <td>1451</td>\n",
       "      <td>2356</td>\n",
       "      <td>NA</td>\n",
       "      <td>1125</td>\n",
       "      <td>1535</td>\n",
       "      <td>1203</td>\n",
       "      <td>1237</td>\n",
       "      <td>1522</td>\n",
       "      <td>882</td>\n",
       "      <td>792</td>\n",
       "      <td>...</td>\n",
       "      <td>417</td>\n",
       "      <td>619</td>\n",
       "      <td>1528</td>\n",
       "      <td>1377</td>\n",
       "      <td>1765</td>\n",
       "      <td>1056</td>\n",
       "      <td>870</td>\n",
       "      <td>607</td>\n",
       "      <td>1469.567591</td>\n",
       "      <td>401.143367</td>\n",
       "    </tr>\n",
       "    <tr>\n",
       "      <th>1993</th>\n",
       "      <td>1434</td>\n",
       "      <td>2259</td>\n",
       "      <td>1213</td>\n",
       "      <td>1125</td>\n",
       "      <td>1535</td>\n",
       "      <td>1203</td>\n",
       "      <td>1237</td>\n",
       "      <td>1574</td>\n",
       "      <td>882</td>\n",
       "      <td>792</td>\n",
       "      <td>...</td>\n",
       "      <td>545</td>\n",
       "      <td>619</td>\n",
       "      <td>1501</td>\n",
       "      <td>1291</td>\n",
       "      <td>1355</td>\n",
       "      <td>756</td>\n",
       "      <td>1017</td>\n",
       "      <td>607</td>\n",
       "      <td>1476.286349</td>\n",
       "      <td>399.984928</td>\n",
       "    </tr>\n",
       "    <tr>\n",
       "      <th>1994</th>\n",
       "      <td>1485</td>\n",
       "      <td>2259</td>\n",
       "      <td>1125</td>\n",
       "      <td>1125</td>\n",
       "      <td>1535</td>\n",
       "      <td>1203</td>\n",
       "      <td>1237</td>\n",
       "      <td>1574</td>\n",
       "      <td>882</td>\n",
       "      <td>792</td>\n",
       "      <td>...</td>\n",
       "      <td>618</td>\n",
       "      <td>619</td>\n",
       "      <td>1477</td>\n",
       "      <td>1646</td>\n",
       "      <td>1355</td>\n",
       "      <td>756</td>\n",
       "      <td>1017</td>\n",
       "      <td>607</td>\n",
       "      <td>1479.513102</td>\n",
       "      <td>400.431339</td>\n",
       "    </tr>\n",
       "    <tr>\n",
       "      <th>1995</th>\n",
       "      <td>1485</td>\n",
       "      <td>2259</td>\n",
       "      <td>1125</td>\n",
       "      <td>1192</td>\n",
       "      <td>1535</td>\n",
       "      <td>1203</td>\n",
       "      <td>1237</td>\n",
       "      <td>1574</td>\n",
       "      <td>882</td>\n",
       "      <td>792</td>\n",
       "      <td>...</td>\n",
       "      <td>618</td>\n",
       "      <td>619</td>\n",
       "      <td>1481</td>\n",
       "      <td>1760</td>\n",
       "      <td>1355</td>\n",
       "      <td>781</td>\n",
       "      <td>1017</td>\n",
       "      <td>607</td>\n",
       "      <td>1478.230063</td>\n",
       "      <td>401.704975</td>\n",
       "    </tr>\n",
       "  </tbody>\n",
       "</table>\n",
       "<p>5 rows × 290436 columns</p>\n",
       "</div>"
      ],
      "text/plain": [
       "     12582912 12582913 12582914 12582916 12582917 12582918 12582919 12582920  \\\n",
       "1991       NA       NA       NA       NA       NA       NA       NA       NA   \n",
       "1992     1451     2356       NA     1125     1535     1203     1237     1522   \n",
       "1993     1434     2259     1213     1125     1535     1203     1237     1574   \n",
       "1994     1485     2259     1125     1125     1535     1203     1237     1574   \n",
       "1995     1485     2259     1125     1192     1535     1203     1237     1574   \n",
       "\n",
       "     12582921 12582922  ... 12582904 12582905 12582906 12582907 12582908  \\\n",
       "1991       NA       NA  ...       NA       NA       NA       NA       NA   \n",
       "1992      882      792  ...      417      619     1528     1377     1765   \n",
       "1993      882      792  ...      545      619     1501     1291     1355   \n",
       "1994      882      792  ...      618      619     1477     1646     1355   \n",
       "1995      882      792  ...      618      619     1481     1760     1355   \n",
       "\n",
       "     12582909 12582910 12582911         mean         std  \n",
       "1991       NA       NA       NA  1469.460505  404.693575  \n",
       "1992     1056      870      607  1469.567591  401.143367  \n",
       "1993      756     1017      607  1476.286349  399.984928  \n",
       "1994      756     1017      607  1479.513102  400.431339  \n",
       "1995      781     1017      607  1478.230063  401.704975  \n",
       "\n",
       "[5 rows x 290436 columns]"
      ]
     },
     "execution_count": 49,
     "metadata": {},
     "output_type": "execute_result"
    }
   ],
   "source": [
    "df_aggs.head()"
   ]
  },
  {
   "cell_type": "code",
   "execution_count": 50,
   "metadata": {},
   "outputs": [
    {
     "data": {
      "text/plain": [
       "Text(0, 0.5, 'Average rating')"
      ]
     },
     "execution_count": 50,
     "metadata": {},
     "output_type": "execute_result"
    },
    {
     "data": {
      "image/png": "[encoded data removed]",
      "text/plain": [
       "<Figure size 1440x360 with 1 Axes>"
      ]
     },
     "metadata": {},
     "output_type": "display_data"
    }
   ],
   "source": [
    "plt.figure(figsize=(20, 5))\n",
    "plt.plot(df_aggs.index, df_aggs['mean'].values)\n",
    "plt.title(\"Average rating per year\")\n",
    "plt.xlabel(\"Year\")\n",
    "plt.ylabel(\"Average rating\")"
   ]
  },
  {
   "cell_type": "markdown",
   "metadata": {},
   "source": [
    "The rating average appears to peak around 1994, dip down near 2003 and has been on the increase ever since."
   ]
  },
  {
   "cell_type": "code",
   "execution_count": 143,
   "metadata": {},
   "outputs": [],
   "source": [
    "df_aggs.to_csv(\"df_aggs.csv\")"
   ]
  },
  {
   "cell_type": "code",
   "execution_count": 96,
   "metadata": {},
   "outputs": [],
   "source": [
    "df.to_pickle(\"df_aggs.pkl\")"
   ]
  },
  {
   "cell_type": "code",
   "execution_count": 4,
   "metadata": {},
   "outputs": [],
   "source": [
    "df_aggs = pd.read_csv(\"df_aggs.csv\", index_col=0)"
   ]
  },
  {
   "cell_type": "code",
   "execution_count": 6,
   "metadata": {},
   "outputs": [],
   "source": [
    "df_original = df_aggs.copy(deep=True)"
   ]
  },
  {
   "cell_type": "code",
   "execution_count": 12,
   "metadata": {},
   "outputs": [],
   "source": [
    "df_aggs = df_aggs.iloc[:, 0:-2]"
   ]
  },
  {
   "cell_type": "code",
   "execution_count": 16,
   "metadata": {},
   "outputs": [
    {
     "data": {
      "text/html": [
       "<div>\n",
       "<style scoped>\n",
       "    .dataframe tbody tr th:only-of-type {\n",
       "        vertical-align: middle;\n",
       "    }\n",
       "\n",
       "    .dataframe tbody tr th {\n",
       "        vertical-align: top;\n",
       "    }\n",
       "\n",
       "    .dataframe thead th {\n",
       "        text-align: right;\n",
       "    }\n",
       "</style>\n",
       "<table border=\"1\" class=\"dataframe\">\n",
       "  <thead>\n",
       "    <tr style=\"text-align: right;\">\n",
       "      <th></th>\n",
       "      <th>12582912</th>\n",
       "      <th>12582913</th>\n",
       "      <th>12582914</th>\n",
       "      <th>12582916</th>\n",
       "      <th>12582917</th>\n",
       "      <th>12582918</th>\n",
       "      <th>12582919</th>\n",
       "      <th>12582920</th>\n",
       "      <th>12582921</th>\n",
       "      <th>12582922</th>\n",
       "      <th>...</th>\n",
       "      <th>12582902</th>\n",
       "      <th>12582903</th>\n",
       "      <th>12582904</th>\n",
       "      <th>12582905</th>\n",
       "      <th>12582906</th>\n",
       "      <th>12582907</th>\n",
       "      <th>12582908</th>\n",
       "      <th>12582909</th>\n",
       "      <th>12582910</th>\n",
       "      <th>12582911</th>\n",
       "    </tr>\n",
       "  </thead>\n",
       "  <tbody>\n",
       "    <tr>\n",
       "      <th>1991</th>\n",
       "      <td>NaN</td>\n",
       "      <td>NaN</td>\n",
       "      <td>NaN</td>\n",
       "      <td>NaN</td>\n",
       "      <td>NaN</td>\n",
       "      <td>NaN</td>\n",
       "      <td>NaN</td>\n",
       "      <td>NaN</td>\n",
       "      <td>NaN</td>\n",
       "      <td>NaN</td>\n",
       "      <td>...</td>\n",
       "      <td>NaN</td>\n",
       "      <td>NaN</td>\n",
       "      <td>NaN</td>\n",
       "      <td>NaN</td>\n",
       "      <td>NaN</td>\n",
       "      <td>NaN</td>\n",
       "      <td>NaN</td>\n",
       "      <td>NaN</td>\n",
       "      <td>NaN</td>\n",
       "      <td>NaN</td>\n",
       "    </tr>\n",
       "    <tr>\n",
       "      <th>1992</th>\n",
       "      <td>1451.0</td>\n",
       "      <td>2356.0</td>\n",
       "      <td>NaN</td>\n",
       "      <td>1125.0</td>\n",
       "      <td>1535.0</td>\n",
       "      <td>1203.0</td>\n",
       "      <td>1237.0</td>\n",
       "      <td>1522.0</td>\n",
       "      <td>882.0</td>\n",
       "      <td>792.0</td>\n",
       "      <td>...</td>\n",
       "      <td>356.0</td>\n",
       "      <td>843.0</td>\n",
       "      <td>417.0</td>\n",
       "      <td>619.0</td>\n",
       "      <td>1528.0</td>\n",
       "      <td>1377.0</td>\n",
       "      <td>1765.0</td>\n",
       "      <td>1056.0</td>\n",
       "      <td>870.0</td>\n",
       "      <td>607.0</td>\n",
       "    </tr>\n",
       "    <tr>\n",
       "      <th>1993</th>\n",
       "      <td>1434.0</td>\n",
       "      <td>2259.0</td>\n",
       "      <td>1213.0</td>\n",
       "      <td>1125.0</td>\n",
       "      <td>1535.0</td>\n",
       "      <td>1203.0</td>\n",
       "      <td>1237.0</td>\n",
       "      <td>1574.0</td>\n",
       "      <td>882.0</td>\n",
       "      <td>792.0</td>\n",
       "      <td>...</td>\n",
       "      <td>481.0</td>\n",
       "      <td>650.0</td>\n",
       "      <td>545.0</td>\n",
       "      <td>619.0</td>\n",
       "      <td>1501.0</td>\n",
       "      <td>1291.0</td>\n",
       "      <td>1355.0</td>\n",
       "      <td>756.0</td>\n",
       "      <td>1017.0</td>\n",
       "      <td>607.0</td>\n",
       "    </tr>\n",
       "    <tr>\n",
       "      <th>1994</th>\n",
       "      <td>1485.0</td>\n",
       "      <td>2259.0</td>\n",
       "      <td>1125.0</td>\n",
       "      <td>1125.0</td>\n",
       "      <td>1535.0</td>\n",
       "      <td>1203.0</td>\n",
       "      <td>1237.0</td>\n",
       "      <td>1574.0</td>\n",
       "      <td>882.0</td>\n",
       "      <td>792.0</td>\n",
       "      <td>...</td>\n",
       "      <td>481.0</td>\n",
       "      <td>650.0</td>\n",
       "      <td>618.0</td>\n",
       "      <td>619.0</td>\n",
       "      <td>1477.0</td>\n",
       "      <td>1646.0</td>\n",
       "      <td>1355.0</td>\n",
       "      <td>756.0</td>\n",
       "      <td>1017.0</td>\n",
       "      <td>607.0</td>\n",
       "    </tr>\n",
       "    <tr>\n",
       "      <th>1995</th>\n",
       "      <td>1485.0</td>\n",
       "      <td>2259.0</td>\n",
       "      <td>1125.0</td>\n",
       "      <td>1192.0</td>\n",
       "      <td>1535.0</td>\n",
       "      <td>1203.0</td>\n",
       "      <td>1237.0</td>\n",
       "      <td>1574.0</td>\n",
       "      <td>882.0</td>\n",
       "      <td>792.0</td>\n",
       "      <td>...</td>\n",
       "      <td>481.0</td>\n",
       "      <td>650.0</td>\n",
       "      <td>618.0</td>\n",
       "      <td>619.0</td>\n",
       "      <td>1481.0</td>\n",
       "      <td>1760.0</td>\n",
       "      <td>1355.0</td>\n",
       "      <td>781.0</td>\n",
       "      <td>1017.0</td>\n",
       "      <td>607.0</td>\n",
       "    </tr>\n",
       "  </tbody>\n",
       "</table>\n",
       "<p>5 rows × 290434 columns</p>\n",
       "</div>"
      ],
      "text/plain": [
       "      12582912  12582913  12582914  12582916  12582917  12582918  12582919  \\\n",
       "1991       NaN       NaN       NaN       NaN       NaN       NaN       NaN   \n",
       "1992    1451.0    2356.0       NaN    1125.0    1535.0    1203.0    1237.0   \n",
       "1993    1434.0    2259.0    1213.0    1125.0    1535.0    1203.0    1237.0   \n",
       "1994    1485.0    2259.0    1125.0    1125.0    1535.0    1203.0    1237.0   \n",
       "1995    1485.0    2259.0    1125.0    1192.0    1535.0    1203.0    1237.0   \n",
       "\n",
       "      12582920  12582921  12582922  ...  12582902  12582903  12582904  \\\n",
       "1991       NaN       NaN       NaN  ...       NaN       NaN       NaN   \n",
       "1992    1522.0     882.0     792.0  ...     356.0     843.0     417.0   \n",
       "1993    1574.0     882.0     792.0  ...     481.0     650.0     545.0   \n",
       "1994    1574.0     882.0     792.0  ...     481.0     650.0     618.0   \n",
       "1995    1574.0     882.0     792.0  ...     481.0     650.0     618.0   \n",
       "\n",
       "      12582905  12582906  12582907  12582908  12582909  12582910  12582911  \n",
       "1991       NaN       NaN       NaN       NaN       NaN       NaN       NaN  \n",
       "1992     619.0    1528.0    1377.0    1765.0    1056.0     870.0     607.0  \n",
       "1993     619.0    1501.0    1291.0    1355.0     756.0    1017.0     607.0  \n",
       "1994     619.0    1477.0    1646.0    1355.0     756.0    1017.0     607.0  \n",
       "1995     619.0    1481.0    1760.0    1355.0     781.0    1017.0     607.0  \n",
       "\n",
       "[5 rows x 290434 columns]"
      ]
     },
     "execution_count": 16,
     "metadata": {},
     "output_type": "execute_result"
    }
   ],
   "source": [
    "df_aggs.head()"
   ]
  },
  {
   "cell_type": "code",
   "execution_count": 51,
   "metadata": {},
   "outputs": [
    {
     "data": {
      "text/plain": [
       "1991    1469.359799\n",
       "1992    1469.466538\n",
       "1993    1476.184552\n",
       "1994    1479.411042\n",
       "1995    1478.128245\n",
       "1996    1475.797841\n",
       "1997    1471.264858\n",
       "1998    1465.121150\n",
       "1999    1457.333203\n",
       "2000    1450.377840\n",
       "2001    1443.024476\n",
       "2002    1440.422686\n",
       "2003    1436.896367\n",
       "2004    1437.512641\n",
       "2005    1445.262085\n",
       "2006    1451.071570\n",
       "2007    1455.711430\n",
       "2008    1460.266887\n",
       "2009    1464.875648\n",
       "2010    1469.711073\n",
       "2011    1473.699558\n",
       "2012    1478.074895\n",
       "2013    1481.386126\n",
       "2014    1484.810043\n",
       "2015    1487.394707\n",
       "2016    1489.184080\n",
       "2017    1491.274451\n",
       "2018    1492.398193\n",
       "2019    1494.753660\n",
       "dtype: float64"
      ]
     },
     "execution_count": 51,
     "metadata": {},
     "output_type": "execute_result"
    }
   ],
   "source": [
    "df_aggs.mean(axis=1)"
   ]
  },
  {
   "cell_type": "markdown",
   "metadata": {},
   "source": [
    "# Rating by gender per year"
   ]
  },
  {
   "cell_type": "code",
   "execution_count": 70,
   "metadata": {},
   "outputs": [],
   "source": [
    "female_df = pd.read_sql_query(\"SELECT users.uid FROM users WHERE users.gender = 'F';\", conn)"
   ]
  },
  {
   "cell_type": "code",
   "execution_count": 71,
   "metadata": {},
   "outputs": [
    {
     "data": {
      "text/plain": [
       "46942"
      ]
     },
     "execution_count": 71,
     "metadata": {},
     "output_type": "execute_result"
    }
   ],
   "source": [
    "len(female_df)"
   ]
  },
  {
   "cell_type": "code",
   "execution_count": 72,
   "metadata": {},
   "outputs": [],
   "source": [
    "male_df = pd.read_sql_query(\"SELECT users.uid FROM users WHERE users.gender = 'M';\", conn)"
   ]
  },
  {
   "cell_type": "code",
   "execution_count": 73,
   "metadata": {},
   "outputs": [
    {
     "data": {
      "text/plain": [
       "401926"
      ]
     },
     "execution_count": 73,
     "metadata": {},
     "output_type": "execute_result"
    }
   ],
   "source": [
    "len(male_df)"
   ]
  },
  {
   "cell_type": "code",
   "execution_count": 74,
   "metadata": {},
   "outputs": [],
   "source": [
    "unknown_df = pd.read_sql_query(\"SELECT users.uid FROM users WHERE users.gender = 'U';\", conn)"
   ]
  },
  {
   "cell_type": "code",
   "execution_count": 75,
   "metadata": {},
   "outputs": [
    {
     "data": {
      "text/plain": [
       "39718"
      ]
     },
     "execution_count": 75,
     "metadata": {},
     "output_type": "execute_result"
    }
   ],
   "source": [
    "len(unknown_df)"
   ]
  },
  {
   "cell_type": "code",
   "execution_count": 76,
   "metadata": {},
   "outputs": [],
   "source": [
    "users_df = pd.read_sql_query(\"SELECT users.uid FROM users;\", conn)"
   ]
  },
  {
   "cell_type": "code",
   "execution_count": 77,
   "metadata": {},
   "outputs": [
    {
     "data": {
      "text/plain": [
       "(488586, 290439)"
      ]
     },
     "execution_count": 77,
     "metadata": {},
     "output_type": "execute_result"
    }
   ],
   "source": [
    "len(users_df), len(df_aggs.columns)"
   ]
  },
  {
   "cell_type": "code",
   "execution_count": 78,
   "metadata": {},
   "outputs": [],
   "source": [
    "female_uids = female_df['uid']\n",
    "male_uids = male_df['uid']\n",
    "unknown_uids = unknown_df['uid']\n",
    "#female_uids = [str(x) for x in female_uids]\n",
    "#male_uids = [str(x) for x in male_uids]\n",
    "#unknown_uids = [str(x) for x in unknown_uids]"
   ]
  },
  {
   "cell_type": "code",
   "execution_count": 79,
   "metadata": {},
   "outputs": [],
   "source": [
    "female_df = df_aggs[df_aggs.columns.intersection(female_uids)]\n",
    "male_df = df_aggs[df_aggs.columns.intersection(male_uids)]\n",
    "unknown_df = df_aggs[df_aggs.columns.intersection(unknown_uids)]"
   ]
  },
  {
   "cell_type": "code",
   "execution_count": 80,
   "metadata": {},
   "outputs": [
    {
     "data": {
      "text/plain": [
       "(290434, 290439)"
      ]
     },
     "execution_count": 80,
     "metadata": {},
     "output_type": "execute_result"
    }
   ],
   "source": [
    "len(female_df.columns) + len(male_df.columns) + len(unknown_df.columns), len(df_aggs.columns)"
   ]
  },
  {
   "cell_type": "code",
   "execution_count": 81,
   "metadata": {},
   "outputs": [],
   "source": [
    "male_df_aggs = male_df.copy(deep=True)\n",
    "male_df_aggs['mean'] = male_df.mean(axis=1)\n",
    "male_df_aggs['std'] = male_df.std(axis=1)\n",
    "male_df_aggs['median'] = male_df.median(axis=1)\n",
    "male_df_aggs['max'] = male_df.max(axis=1)\n",
    "male_df_aggs['min'] = male_df.min(axis=1)"
   ]
  },
  {
   "cell_type": "code",
   "execution_count": 82,
   "metadata": {},
   "outputs": [],
   "source": [
    "female_df_aggs = female_df.copy(deep=True)\n",
    "female_df_aggs['mean'] = female_df.mean(axis=1)\n",
    "female_df_aggs['std'] = female_df.std(axis=1)\n",
    "female_df_aggs['median'] = female_df.median(axis=1)\n",
    "female_df_aggs['max'] = female_df.max(axis=1)\n",
    "female_df_aggs['min'] = female_df.min(axis=1)"
   ]
  },
  {
   "cell_type": "code",
   "execution_count": 83,
   "metadata": {},
   "outputs": [],
   "source": [
    "unknown_df_aggs = unknown_df.copy(deep=True)\n",
    "unknown_df_aggs['mean'] = unknown_df.mean(axis=1)\n",
    "unknown_df_aggs['std'] = unknown_df.std(axis=1)\n",
    "unknown_df_aggs['median'] = unknown_df.median(axis=1)\n",
    "unknown_df_aggs['max'] = unknown_df.max(axis=1)\n",
    "unknown_df_aggs['min'] = unknown_df.min(axis=1)"
   ]
  },
  {
   "cell_type": "code",
   "execution_count": 66,
   "metadata": {},
   "outputs": [],
   "source": [
    "df_aggs['median'] = df_aggs.median(axis=1)\n",
    "df_aggs['max'] = df_aggs.max(axis=1)\n",
    "df_aggs['min'] = df_aggs.min(axis=1)"
   ]
  },
  {
   "cell_type": "code",
   "execution_count": 92,
   "metadata": {},
   "outputs": [
    {
     "data": {
      "text/plain": [
       "<matplotlib.legend.Legend at 0x1abc4a6d860>"
      ]
     },
     "execution_count": 92,
     "metadata": {},
     "output_type": "execute_result"
    },
    {
     "data": {
      "image/png": "[encoded data removed]",
      "text/plain": [
       "<Figure size 1440x360 with 1 Axes>"
      ]
     },
     "metadata": {},
     "output_type": "display_data"
    }
   ],
   "source": [
    "plt.figure(figsize=(20, 5))\n",
    "plt.plot(male_df_aggs.index, male_df_aggs['mean'].values, label=\"male\")\n",
    "plt.plot(female_df_aggs.index, female_df_aggs['mean'].values, label=\"female\")\n",
    "plt.plot(df_aggs.index, df_aggs['mean'].values, label=\"all\")\n",
    "plt.plot(df_aggs.index, unknown_df_aggs['mean'].values, label=\"unknown\")\n",
    "plt.title(\"Average rating per year by gender with one standard deviation\")\n",
    "plt.xlabel(\"Year\")\n",
    "plt.ylabel(\"Average rating\")\n",
    "plt.legend()"
   ]
  },
  {
   "cell_type": "markdown",
   "metadata": {},
   "source": [
    "There is a significant difference between the average male and female chess ratings and the difference, about 250 remains relatively consistent over this timeframe. The average for males is about 1450 and for females is about 1200."
   ]
  },
  {
   "cell_type": "code",
   "execution_count": 95,
   "metadata": {},
   "outputs": [
    {
     "data": {
      "text/plain": [
       "<matplotlib.legend.Legend at 0x1abd33b53c8>"
      ]
     },
     "execution_count": 95,
     "metadata": {},
     "output_type": "execute_result"
    },
    {
     "data": {
      "image/png": "[encoded data removed]",
      "text/plain": [
       "<Figure size 1440x360 with 1 Axes>"
      ]
     },
     "metadata": {},
     "output_type": "display_data"
    }
   ],
   "source": [
    "plt.figure(figsize=(20, 5))\n",
    "plt.plot(male_df_aggs.index, male_df_aggs['median'].values, label=\"male\")\n",
    "plt.plot(female_df_aggs.index, female_df_aggs['median'].values, label=\"female\")\n",
    "plt.plot(unknown_df_aggs.index, unknown_df_aggs['median'].values, label=\"unknown\")\n",
    "plt.plot(df_aggs.index, df_aggs['median'].values, label=\"all\")\n",
    "#plt.errorbar(df_aggs.index, df_aggs['mean'].values, df_aggs['std'].values, label=\"average\")\n",
    "plt.title(\"Median rating per year by gender\")\n",
    "plt.xlabel(\"Year\")\n",
    "plt.ylabel(\"Median rating\")\n",
    "plt.legend()"
   ]
  },
  {
   "cell_type": "code",
   "execution_count": 94,
   "metadata": {},
   "outputs": [
    {
     "data": {
      "text/plain": [
       "<matplotlib.legend.Legend at 0x1abd4290eb8>"
      ]
     },
     "execution_count": 94,
     "metadata": {},
     "output_type": "execute_result"
    },
    {
     "data": {
      "image/png": "[encoded data removed]",
      "text/plain": [
       "<Figure size 1440x360 with 1 Axes>"
      ]
     },
     "metadata": {},
     "output_type": "display_data"
    }
   ],
   "source": [
    "plt.figure(figsize=(20, 5))\n",
    "plt.plot(male_df_aggs.index, male_df_aggs['max'].values, label=\"male\")\n",
    "plt.plot(female_df_aggs.index, female_df_aggs['max'].values, label=\"female\")\n",
    "plt.plot(unknown_df_aggs.index, unknown_df_aggs['max'].values, label=\"unknown\")\n",
    "plt.plot(df_aggs.index, df_aggs['max'].values, label=\"all\")\n",
    "#plt.errorbar(df_aggs.index, df_aggs['mean'].values, df_aggs['std'].values, label=\"average\")\n",
    "plt.title(\"Max rating per year by gender\")\n",
    "plt.xlabel(\"Year\")\n",
    "plt.ylabel(\"Max rating\")\n",
    "plt.legend()"
   ]
  },
  {
   "cell_type": "code",
   "execution_count": 87,
   "metadata": {},
   "outputs": [
    {
     "data": {
      "text/plain": [
       "<matplotlib.legend.Legend at 0x1abb6acdfd0>"
      ]
     },
     "execution_count": 87,
     "metadata": {},
     "output_type": "execute_result"
    },
    {
     "data": {
      "image/png": "[encoded data removed]",
      "text/plain": [
       "<Figure size 1440x360 with 1 Axes>"
      ]
     },
     "metadata": {},
     "output_type": "display_data"
    }
   ],
   "source": [
    "plt.figure(figsize=(20, 5))\n",
    "plt.plot(male_df_aggs.index, male_df_aggs['min'].values, label=\"male\")\n",
    "plt.plot(female_df_aggs.index, female_df_aggs['min'].values, label=\"female\")\n",
    "#plt.errorbar(df_aggs.index, df_aggs['mean'].values, df_aggs['std'].values, label=\"average\")\n",
    "plt.title(\"Min rating per year by gender\")\n",
    "plt.xlabel(\"Year\")\n",
    "plt.ylabel(\"Min rating\")\n",
    "plt.legend()"
   ]
  },
  {
   "cell_type": "markdown",
   "metadata": {},
   "source": [
    "Try Seaborn again with update version"
   ]
  },
  {
   "cell_type": "markdown",
   "metadata": {
    "colab_type": "text",
    "id": "Qf10sjW7wY4C"
   },
   "source": [
    "# Close Connection"
   ]
  },
  {
   "cell_type": "code",
   "execution_count": 0,
   "metadata": {
    "colab": {},
    "colab_type": "code",
    "id": "WlxicEaCrurM"
   },
   "outputs": [],
   "source": [
    "conn.close()"
   ]
  }
 ],
 "metadata": {
  "accelerator": "GPU",
  "colab": {
   "collapsed_sections": [],
   "name": "chess_exploration.ipynb",
   "provenance": [],
   "version": "0.3.2"
  },
  "kernelspec": {
   "display_name": "Python 3",
   "language": "python",
   "name": "python3"
  },
  "language_info": {
   "codemirror_mode": {
    "name": "ipython",
    "version": 3
   },
   "file_extension": ".py",
   "mimetype": "text/x-python",
   "name": "python",
   "nbconvert_exporter": "python",
   "pygments_lexer": "ipython3",
   "version": "3.6.5"
  }
 },
 "nbformat": 4,
 "nbformat_minor": 1
}
