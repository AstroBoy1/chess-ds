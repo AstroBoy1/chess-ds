{
 "cells": [
  {
   "cell_type": "code",
   "execution_count": 10,
   "metadata": {},
   "outputs": [
    {
     "data": {
      "text/html": [
       "<script>\n",
       "code_show=true; \n",
       "function code_toggle() {\n",
       " if (code_show){\n",
       " $('div.input').hide();\n",
       " } else {\n",
       " $('div.input').show();\n",
       " }\n",
       " code_show = !code_show\n",
       "} \n",
       "$( document ).ready(code_toggle);\n",
       "</script>\n",
       "<form action=\"javascript:code_toggle()\"><input type=\"submit\" value=\"Click here to toggle on/off the raw code.\"></form>"
      ],
      "text/plain": [
       "<IPython.core.display.HTML object>"
      ]
     },
     "execution_count": 10,
     "metadata": {},
     "output_type": "execute_result"
    }
   ],
   "source": [
    "from IPython.display import HTML\n",
    "HTML('''<script>\n",
    "code_show=true; \n",
    "function code_toggle() {\n",
    " if (code_show){\n",
    " $('div.input').hide();\n",
    " } else {\n",
    " $('div.input').show();\n",
    " }\n",
    " code_show = !code_show\n",
    "} \n",
    "$( document ).ready(code_toggle);\n",
    "</script>\n",
    "<form action=\"javascript:code_toggle()\"><input type=\"submit\" value=\"Click here to toggle on/off the raw code.\"></form>''')"
   ]
  },
  {
   "cell_type": "code",
   "execution_count": 1,
   "metadata": {
    "colab": {},
    "colab_type": "code",
    "id": "sue6GMKsozmN"
   },
   "outputs": [],
   "source": [
    "# from google.colab import drive\n",
    "import numpy as np\n",
    "#from collections import Counter\n",
    "import pandas as pd\n",
    "import matplotlib.pyplot as plt\n",
    "import time\n",
    "#import statistics\n",
    "import pandas as pd\n",
    "import sqlite3\n",
    "import os.path\n",
    "import seaborn as sns; sns.set()\n",
    "import pickle"
   ]
  },
  {
   "cell_type": "code",
   "execution_count": 2,
   "metadata": {
    "colab": {},
    "colab_type": "code",
    "id": "ZoJtJd7LpupG"
   },
   "outputs": [],
   "source": [
    "fn = \"chessDB.db\""
   ]
  },
  {
   "cell_type": "code",
   "execution_count": 3,
   "metadata": {
    "colab": {},
    "colab_type": "code",
    "id": "NjH8XAfjreAV"
   },
   "outputs": [],
   "source": [
    "conn = sqlite3.connect(fn)\n",
    "c = conn.cursor()"
   ]
  },
  {
   "cell_type": "code",
   "execution_count": 14,
   "metadata": {
    "colab": {},
    "colab_type": "code",
    "id": "NKDszKwCuYGK"
   },
   "outputs": [],
   "source": [
    "user_date_df = pd.read_sql_query(\"SELECT users.uid, min(user_events.date) FROM users INNER JOIN user_events ON users.uid = user_events.user_id GROUP BY users.uid;\", conn)"
   ]
  },
  {
   "cell_type": "code",
   "execution_count": 15,
   "metadata": {},
   "outputs": [],
   "source": [
    "user_date_max = pd.read_sql_query(\"SELECT users.uid, max(user_events.date) FROM users INNER JOIN user_events ON users.uid = user_events.user_id GROUP BY users.uid;\", conn)"
   ]
  },
  {
   "cell_type": "code",
   "execution_count": 16,
   "metadata": {},
   "outputs": [
    {
     "data": {
      "text/plain": [
       "(0     1992-02-02\n",
       " 1     1991-11-24\n",
       " 2     2017-05-20\n",
       " 3     1994-11-20\n",
       " 4     1992-09-12\n",
       " 5     1999-08-18\n",
       " 6     1993-02-23\n",
       " 7     1991-11-10\n",
       " 8     1995-07-15\n",
       " 9     2008-04-26\n",
       " 10    1995-12-17\n",
       " 11    1991-12-01\n",
       " 12    1991-11-17\n",
       " 13    1991-11-10\n",
       " 14    1993-05-09\n",
       " 15    2000-03-12\n",
       " 16    2018-04-21\n",
       " 17    1995-05-21\n",
       " 18    2000-08-13\n",
       " 19    1996-12-22\n",
       " Name: min(user_events.date), dtype: object, 0     2018-12-01\n",
       " 1     2018-12-29\n",
       " 2     2017-05-20\n",
       " 3     1995-09-10\n",
       " 4     2012-01-14\n",
       " 5     2015-04-13\n",
       " 6     1993-02-23\n",
       " 7     2015-11-08\n",
       " 8     1998-03-07\n",
       " 9     2011-05-07\n",
       " 10    1995-12-17\n",
       " 11    1997-06-15\n",
       " 12    2003-12-02\n",
       " 13    2016-10-04\n",
       " 14    1994-08-24\n",
       " 15    2006-04-30\n",
       " 16    2018-09-30\n",
       " 17    1995-05-21\n",
       " 18    2000-08-13\n",
       " 19    1996-12-22\n",
       " Name: max(user_events.date), dtype: object)"
      ]
     },
     "execution_count": 16,
     "metadata": {},
     "output_type": "execute_result"
    }
   ],
   "source": [
    "user_date_df.head(20)['min(user_events.date)'], user_date_max.head(20)['max(user_events.date)']"
   ]
  },
  {
   "cell_type": "code",
   "execution_count": 10,
   "metadata": {},
   "outputs": [
    {
     "data": {
      "text/html": [
       "<div>\n",
       "<style scoped>\n",
       "    .dataframe tbody tr th:only-of-type {\n",
       "        vertical-align: middle;\n",
       "    }\n",
       "\n",
       "    .dataframe tbody tr th {\n",
       "        vertical-align: top;\n",
       "    }\n",
       "\n",
       "    .dataframe thead th {\n",
       "        text-align: right;\n",
       "    }\n",
       "</style>\n",
       "<table border=\"1\" class=\"dataframe\">\n",
       "  <thead>\n",
       "    <tr style=\"text-align: right;\">\n",
       "      <th></th>\n",
       "      <th>uid</th>\n",
       "      <th>max(user_events.date)</th>\n",
       "    </tr>\n",
       "  </thead>\n",
       "  <tbody>\n",
       "    <tr>\n",
       "      <th>0</th>\n",
       "      <td>12435050</td>\n",
       "      <td>2018-12-01</td>\n",
       "    </tr>\n",
       "    <tr>\n",
       "      <th>1</th>\n",
       "      <td>12435066</td>\n",
       "      <td>2018-12-29</td>\n",
       "    </tr>\n",
       "    <tr>\n",
       "      <th>2</th>\n",
       "      <td>12435088</td>\n",
       "      <td>2017-05-20</td>\n",
       "    </tr>\n",
       "    <tr>\n",
       "      <th>3</th>\n",
       "      <td>12435092</td>\n",
       "      <td>1995-09-10</td>\n",
       "    </tr>\n",
       "    <tr>\n",
       "      <th>4</th>\n",
       "      <td>12435105</td>\n",
       "      <td>2012-01-14</td>\n",
       "    </tr>\n",
       "    <tr>\n",
       "      <th>5</th>\n",
       "      <td>12435108</td>\n",
       "      <td>2015-04-13</td>\n",
       "    </tr>\n",
       "    <tr>\n",
       "      <th>6</th>\n",
       "      <td>12435118</td>\n",
       "      <td>1993-02-23</td>\n",
       "    </tr>\n",
       "    <tr>\n",
       "      <th>7</th>\n",
       "      <td>12435133</td>\n",
       "      <td>2015-11-08</td>\n",
       "    </tr>\n",
       "    <tr>\n",
       "      <th>8</th>\n",
       "      <td>12435144</td>\n",
       "      <td>1998-03-07</td>\n",
       "    </tr>\n",
       "    <tr>\n",
       "      <th>9</th>\n",
       "      <td>12435145</td>\n",
       "      <td>2011-05-07</td>\n",
       "    </tr>\n",
       "    <tr>\n",
       "      <th>10</th>\n",
       "      <td>12435147</td>\n",
       "      <td>1995-12-17</td>\n",
       "    </tr>\n",
       "    <tr>\n",
       "      <th>11</th>\n",
       "      <td>12435149</td>\n",
       "      <td>1997-06-15</td>\n",
       "    </tr>\n",
       "    <tr>\n",
       "      <th>12</th>\n",
       "      <td>12435157</td>\n",
       "      <td>2003-12-02</td>\n",
       "    </tr>\n",
       "    <tr>\n",
       "      <th>13</th>\n",
       "      <td>12435176</td>\n",
       "      <td>2016-10-04</td>\n",
       "    </tr>\n",
       "    <tr>\n",
       "      <th>14</th>\n",
       "      <td>12435177</td>\n",
       "      <td>1994-08-24</td>\n",
       "    </tr>\n",
       "    <tr>\n",
       "      <th>15</th>\n",
       "      <td>12435180</td>\n",
       "      <td>2006-04-30</td>\n",
       "    </tr>\n",
       "    <tr>\n",
       "      <th>16</th>\n",
       "      <td>12435188</td>\n",
       "      <td>2018-09-30</td>\n",
       "    </tr>\n",
       "    <tr>\n",
       "      <th>17</th>\n",
       "      <td>12435197</td>\n",
       "      <td>1995-05-21</td>\n",
       "    </tr>\n",
       "    <tr>\n",
       "      <th>18</th>\n",
       "      <td>12435199</td>\n",
       "      <td>2000-08-13</td>\n",
       "    </tr>\n",
       "    <tr>\n",
       "      <th>19</th>\n",
       "      <td>12435203</td>\n",
       "      <td>1996-12-22</td>\n",
       "    </tr>\n",
       "  </tbody>\n",
       "</table>\n",
       "</div>"
      ],
      "text/plain": [
       "         uid max(user_events.date)\n",
       "0   12435050            2018-12-01\n",
       "1   12435066            2018-12-29\n",
       "2   12435088            2017-05-20\n",
       "3   12435092            1995-09-10\n",
       "4   12435105            2012-01-14\n",
       "5   12435108            2015-04-13\n",
       "6   12435118            1993-02-23\n",
       "7   12435133            2015-11-08\n",
       "8   12435144            1998-03-07\n",
       "9   12435145            2011-05-07\n",
       "10  12435147            1995-12-17\n",
       "11  12435149            1997-06-15\n",
       "12  12435157            2003-12-02\n",
       "13  12435176            2016-10-04\n",
       "14  12435177            1994-08-24\n",
       "15  12435180            2006-04-30\n",
       "16  12435188            2018-09-30\n",
       "17  12435197            1995-05-21\n",
       "18  12435199            2000-08-13\n",
       "19  12435203            1996-12-22"
      ]
     },
     "execution_count": 10,
     "metadata": {},
     "output_type": "execute_result"
    }
   ],
   "source": []
  },
  {
   "cell_type": "code",
   "execution_count": 17,
   "metadata": {},
   "outputs": [
    {
     "data": {
      "text/plain": [
       "290434"
      ]
     },
     "execution_count": 17,
     "metadata": {},
     "output_type": "execute_result"
    }
   ],
   "source": [
    "len(user_date_df)"
   ]
  },
  {
   "cell_type": "code",
   "execution_count": 18,
   "metadata": {},
   "outputs": [],
   "source": [
    "male_date_df = pd.read_sql_query(\"SELECT users.uid, min(user_events.date) FROM users INNER JOIN user_events ON users.uid = user_events.user_id WHERE users.gender = 'M' GROUP BY users.uid;\", conn)"
   ]
  },
  {
   "cell_type": "code",
   "execution_count": 19,
   "metadata": {},
   "outputs": [
    {
     "data": {
      "text/plain": [
       "234227"
      ]
     },
     "execution_count": 19,
     "metadata": {},
     "output_type": "execute_result"
    }
   ],
   "source": [
    "len(male_date_df)"
   ]
  },
  {
   "cell_type": "code",
   "execution_count": 20,
   "metadata": {},
   "outputs": [],
   "source": [
    "female_date_df = pd.read_sql_query(\"SELECT users.uid, min(user_events.date) FROM users INNER JOIN user_events ON users.uid = user_events.user_id WHERE users.gender = 'F' GROUP BY users.uid;\", conn)"
   ]
  },
  {
   "cell_type": "code",
   "execution_count": 21,
   "metadata": {},
   "outputs": [
    {
     "data": {
      "text/plain": [
       "30755"
      ]
     },
     "execution_count": 21,
     "metadata": {},
     "output_type": "execute_result"
    }
   ],
   "source": [
    "len(female_date_df)"
   ]
  },
  {
   "cell_type": "code",
   "execution_count": 22,
   "metadata": {},
   "outputs": [],
   "source": [
    "unknown_date_df = pd.read_sql_query(\"SELECT users.uid, min(user_events.date) FROM users INNER JOIN user_events ON users.uid = user_events.user_id WHERE users.gender = 'U' GROUP BY users.uid;\", conn)"
   ]
  },
  {
   "cell_type": "code",
   "execution_count": 23,
   "metadata": {},
   "outputs": [
    {
     "data": {
      "text/plain": [
       "25452"
      ]
     },
     "execution_count": 23,
     "metadata": {},
     "output_type": "execute_result"
    }
   ],
   "source": [
    "len(unknown_date_df)"
   ]
  },
  {
   "cell_type": "code",
   "execution_count": 24,
   "metadata": {
    "colab": {
     "base_uri": "https://localhost:8080/",
     "height": 677
    },
    "colab_type": "code",
    "id": "J1AWj3Rxucj4",
    "outputId": "fe7cae6d-2a4e-4c7d-d2d3-7ee463536f1a"
   },
   "outputs": [
    {
     "data": {
      "text/html": [
       "<div>\n",
       "<style scoped>\n",
       "    .dataframe tbody tr th:only-of-type {\n",
       "        vertical-align: middle;\n",
       "    }\n",
       "\n",
       "    .dataframe tbody tr th {\n",
       "        vertical-align: top;\n",
       "    }\n",
       "\n",
       "    .dataframe thead th {\n",
       "        text-align: right;\n",
       "    }\n",
       "</style>\n",
       "<table border=\"1\" class=\"dataframe\">\n",
       "  <thead>\n",
       "    <tr style=\"text-align: right;\">\n",
       "      <th></th>\n",
       "      <th>uid</th>\n",
       "      <th>min(user_events.date)</th>\n",
       "    </tr>\n",
       "  </thead>\n",
       "  <tbody>\n",
       "    <tr>\n",
       "      <th>0</th>\n",
       "      <td>12435050</td>\n",
       "      <td>1992-02-02</td>\n",
       "    </tr>\n",
       "    <tr>\n",
       "      <th>1</th>\n",
       "      <td>12435066</td>\n",
       "      <td>1991-11-24</td>\n",
       "    </tr>\n",
       "    <tr>\n",
       "      <th>2</th>\n",
       "      <td>12435088</td>\n",
       "      <td>2017-05-20</td>\n",
       "    </tr>\n",
       "    <tr>\n",
       "      <th>3</th>\n",
       "      <td>12435092</td>\n",
       "      <td>1994-11-20</td>\n",
       "    </tr>\n",
       "    <tr>\n",
       "      <th>4</th>\n",
       "      <td>12435105</td>\n",
       "      <td>1992-09-12</td>\n",
       "    </tr>\n",
       "    <tr>\n",
       "      <th>5</th>\n",
       "      <td>12435108</td>\n",
       "      <td>1999-08-18</td>\n",
       "    </tr>\n",
       "    <tr>\n",
       "      <th>6</th>\n",
       "      <td>12435118</td>\n",
       "      <td>1993-02-23</td>\n",
       "    </tr>\n",
       "    <tr>\n",
       "      <th>7</th>\n",
       "      <td>12435133</td>\n",
       "      <td>1991-11-10</td>\n",
       "    </tr>\n",
       "    <tr>\n",
       "      <th>8</th>\n",
       "      <td>12435144</td>\n",
       "      <td>1995-07-15</td>\n",
       "    </tr>\n",
       "    <tr>\n",
       "      <th>9</th>\n",
       "      <td>12435145</td>\n",
       "      <td>2008-04-26</td>\n",
       "    </tr>\n",
       "    <tr>\n",
       "      <th>10</th>\n",
       "      <td>12435147</td>\n",
       "      <td>1995-12-17</td>\n",
       "    </tr>\n",
       "    <tr>\n",
       "      <th>11</th>\n",
       "      <td>12435149</td>\n",
       "      <td>1991-12-01</td>\n",
       "    </tr>\n",
       "    <tr>\n",
       "      <th>12</th>\n",
       "      <td>12435157</td>\n",
       "      <td>1991-11-17</td>\n",
       "    </tr>\n",
       "    <tr>\n",
       "      <th>13</th>\n",
       "      <td>12435176</td>\n",
       "      <td>1991-11-10</td>\n",
       "    </tr>\n",
       "    <tr>\n",
       "      <th>14</th>\n",
       "      <td>12435177</td>\n",
       "      <td>1993-05-09</td>\n",
       "    </tr>\n",
       "    <tr>\n",
       "      <th>15</th>\n",
       "      <td>12435180</td>\n",
       "      <td>2000-03-12</td>\n",
       "    </tr>\n",
       "    <tr>\n",
       "      <th>16</th>\n",
       "      <td>12435188</td>\n",
       "      <td>2018-04-21</td>\n",
       "    </tr>\n",
       "    <tr>\n",
       "      <th>17</th>\n",
       "      <td>12435197</td>\n",
       "      <td>1995-05-21</td>\n",
       "    </tr>\n",
       "    <tr>\n",
       "      <th>18</th>\n",
       "      <td>12435199</td>\n",
       "      <td>2000-08-13</td>\n",
       "    </tr>\n",
       "    <tr>\n",
       "      <th>19</th>\n",
       "      <td>12435203</td>\n",
       "      <td>1996-12-22</td>\n",
       "    </tr>\n",
       "  </tbody>\n",
       "</table>\n",
       "</div>"
      ],
      "text/plain": [
       "         uid min(user_events.date)\n",
       "0   12435050            1992-02-02\n",
       "1   12435066            1991-11-24\n",
       "2   12435088            2017-05-20\n",
       "3   12435092            1994-11-20\n",
       "4   12435105            1992-09-12\n",
       "5   12435108            1999-08-18\n",
       "6   12435118            1993-02-23\n",
       "7   12435133            1991-11-10\n",
       "8   12435144            1995-07-15\n",
       "9   12435145            2008-04-26\n",
       "10  12435147            1995-12-17\n",
       "11  12435149            1991-12-01\n",
       "12  12435157            1991-11-17\n",
       "13  12435176            1991-11-10\n",
       "14  12435177            1993-05-09\n",
       "15  12435180            2000-03-12\n",
       "16  12435188            2018-04-21\n",
       "17  12435197            1995-05-21\n",
       "18  12435199            2000-08-13\n",
       "19  12435203            1996-12-22"
      ]
     },
     "execution_count": 24,
     "metadata": {},
     "output_type": "execute_result"
    }
   ],
   "source": [
    "user_date_df.head(20)"
   ]
  },
  {
   "cell_type": "code",
   "execution_count": 25,
   "metadata": {
    "colab": {},
    "colab_type": "code",
    "id": "RJQgYng8yjub"
   },
   "outputs": [],
   "source": [
    "year_count = user_date_df.groupby('min(user_events.date)').count()\n",
    "year_count_m = male_date_df.groupby('min(user_events.date)').count()\n",
    "year_count_f = female_date_df.groupby('min(user_events.date)').count()\n",
    "year_count_u = unknown_date_df.groupby('min(user_events.date)').count()"
   ]
  },
  {
   "cell_type": "code",
   "execution_count": 26,
   "metadata": {},
   "outputs": [
    {
     "data": {
      "text/html": [
       "<div>\n",
       "<style scoped>\n",
       "    .dataframe tbody tr th:only-of-type {\n",
       "        vertical-align: middle;\n",
       "    }\n",
       "\n",
       "    .dataframe tbody tr th {\n",
       "        vertical-align: top;\n",
       "    }\n",
       "\n",
       "    .dataframe thead th {\n",
       "        text-align: right;\n",
       "    }\n",
       "</style>\n",
       "<table border=\"1\" class=\"dataframe\">\n",
       "  <thead>\n",
       "    <tr style=\"text-align: right;\">\n",
       "      <th></th>\n",
       "      <th>uid</th>\n",
       "    </tr>\n",
       "    <tr>\n",
       "      <th>min(user_events.date)</th>\n",
       "      <th></th>\n",
       "    </tr>\n",
       "  </thead>\n",
       "  <tbody>\n",
       "    <tr>\n",
       "      <th>1991-01-28</th>\n",
       "      <td>10</td>\n",
       "    </tr>\n",
       "    <tr>\n",
       "      <th>1991-01-31</th>\n",
       "      <td>20</td>\n",
       "    </tr>\n",
       "    <tr>\n",
       "      <th>1991-02-18</th>\n",
       "      <td>3</td>\n",
       "    </tr>\n",
       "    <tr>\n",
       "      <th>1991-02-26</th>\n",
       "      <td>1</td>\n",
       "    </tr>\n",
       "    <tr>\n",
       "      <th>1991-03-17</th>\n",
       "      <td>65</td>\n",
       "    </tr>\n",
       "  </tbody>\n",
       "</table>\n",
       "</div>"
      ],
      "text/plain": [
       "                       uid\n",
       "min(user_events.date)     \n",
       "1991-01-28              10\n",
       "1991-01-31              20\n",
       "1991-02-18               3\n",
       "1991-02-26               1\n",
       "1991-03-17              65"
      ]
     },
     "execution_count": 26,
     "metadata": {},
     "output_type": "execute_result"
    }
   ],
   "source": [
    "year_count.head()"
   ]
  },
  {
   "cell_type": "code",
   "execution_count": 27,
   "metadata": {
    "colab": {},
    "colab_type": "code",
    "id": "aJTRGIqwzuD6"
   },
   "outputs": [],
   "source": [
    "year_count['cumsum'] = year_count['uid'].cumsum()\n",
    "year_count_m['cumsum'] = year_count_m['uid'].cumsum()\n",
    "year_count_f['cumsum'] = year_count_f['uid'].cumsum()\n",
    "year_count_u['cumsum'] = year_count_u['uid'].cumsum()"
   ]
  },
  {
   "cell_type": "code",
   "execution_count": 28,
   "metadata": {},
   "outputs": [
    {
     "data": {
      "text/html": [
       "<div>\n",
       "<style scoped>\n",
       "    .dataframe tbody tr th:only-of-type {\n",
       "        vertical-align: middle;\n",
       "    }\n",
       "\n",
       "    .dataframe tbody tr th {\n",
       "        vertical-align: top;\n",
       "    }\n",
       "\n",
       "    .dataframe thead th {\n",
       "        text-align: right;\n",
       "    }\n",
       "</style>\n",
       "<table border=\"1\" class=\"dataframe\">\n",
       "  <thead>\n",
       "    <tr style=\"text-align: right;\">\n",
       "      <th></th>\n",
       "      <th>uid</th>\n",
       "      <th>cumsum</th>\n",
       "    </tr>\n",
       "    <tr>\n",
       "      <th>min(user_events.date)</th>\n",
       "      <th></th>\n",
       "      <th></th>\n",
       "    </tr>\n",
       "  </thead>\n",
       "  <tbody>\n",
       "    <tr>\n",
       "      <th>1991-01-28</th>\n",
       "      <td>10</td>\n",
       "      <td>10</td>\n",
       "    </tr>\n",
       "    <tr>\n",
       "      <th>1991-01-31</th>\n",
       "      <td>20</td>\n",
       "      <td>30</td>\n",
       "    </tr>\n",
       "    <tr>\n",
       "      <th>1991-02-18</th>\n",
       "      <td>3</td>\n",
       "      <td>33</td>\n",
       "    </tr>\n",
       "    <tr>\n",
       "      <th>1991-02-26</th>\n",
       "      <td>1</td>\n",
       "      <td>34</td>\n",
       "    </tr>\n",
       "    <tr>\n",
       "      <th>1991-03-17</th>\n",
       "      <td>65</td>\n",
       "      <td>99</td>\n",
       "    </tr>\n",
       "  </tbody>\n",
       "</table>\n",
       "</div>"
      ],
      "text/plain": [
       "                       uid  cumsum\n",
       "min(user_events.date)             \n",
       "1991-01-28              10      10\n",
       "1991-01-31              20      30\n",
       "1991-02-18               3      33\n",
       "1991-02-26               1      34\n",
       "1991-03-17              65      99"
      ]
     },
     "execution_count": 28,
     "metadata": {},
     "output_type": "execute_result"
    }
   ],
   "source": [
    "year_count.head()"
   ]
  },
  {
   "cell_type": "markdown",
   "metadata": {
    "colab_type": "text",
    "id": "0qXbtD37tVd-"
   },
   "source": [
    "# Number of players who register every day"
   ]
  },
  {
   "cell_type": "code",
   "execution_count": 29,
   "metadata": {
    "colab": {},
    "colab_type": "code",
    "id": "sObxZHF4z6IC"
   },
   "outputs": [],
   "source": [
    "year_count.index = pd.to_datetime(year_count.index)\n",
    "year_count_m.index = pd.to_datetime(year_count_m.index)\n",
    "year_count_f.index = pd.to_datetime(year_count_f.index)\n",
    "year_count_u.index = pd.to_datetime(year_count_u.index)"
   ]
  },
  {
   "cell_type": "code",
   "execution_count": 30,
   "metadata": {},
   "outputs": [],
   "source": [
    "year_percents_gender = pd.DataFrame()"
   ]
  },
  {
   "cell_type": "code",
   "execution_count": 31,
   "metadata": {},
   "outputs": [
    {
     "data": {
      "text/plain": [
       "(6530, 6470, 2647, 3322)"
      ]
     },
     "execution_count": 31,
     "metadata": {},
     "output_type": "execute_result"
    }
   ],
   "source": [
    "len(year_count.index), len(year_count_m.index), len(year_count_f.index), len(year_count_u.index)"
   ]
  },
  {
   "cell_type": "code",
   "execution_count": 32,
   "metadata": {},
   "outputs": [],
   "source": [
    "year_count_y = year_count.asfreq(freq='Y', method='pad')\n",
    "year_count_m_y = year_count_m.asfreq(freq='Y', method='pad')\n",
    "year_count_f_y = year_count_f.asfreq(freq='Y', method='pad')\n",
    "year_count_u_y = year_count_u.asfreq(freq='Y', method='pad')"
   ]
  },
  {
   "cell_type": "code",
   "execution_count": 33,
   "metadata": {},
   "outputs": [
    {
     "data": {
      "text/plain": [
       "(28, 28, 28, 25)"
      ]
     },
     "execution_count": 33,
     "metadata": {},
     "output_type": "execute_result"
    }
   ],
   "source": [
    "len(year_count_y), len(year_count_m_y), len(year_count_f_y), len(year_count_u_y)"
   ]
  },
  {
   "cell_type": "code",
   "execution_count": 34,
   "metadata": {},
   "outputs": [],
   "source": [
    "year_percents_gender['m_percent'] = [m / a for m, a in zip(year_count_m_y['cumsum'], year_count_y['cumsum'])]\n",
    "year_percents_gender['f_percent'] = [m / a for m, a in zip(year_count_f_y['cumsum'], year_count_y['cumsum'])]\n",
    "#year_percents_gender['u_percent'] = [m / a for m, a in zip(year_count_u_y['cumsum'], year_count_y['cumsum'])]\n",
    "year_percents_gender['u_percent'] = [1 - x - y for x, y in zip(year_percents_gender['m_percent'], year_percents_gender['f_percent'])]"
   ]
  },
  {
   "cell_type": "code",
   "execution_count": 35,
   "metadata": {},
   "outputs": [],
   "source": [
    "year_percents_gender.index = year_count_y.index"
   ]
  },
  {
   "cell_type": "code",
   "execution_count": 36,
   "metadata": {
    "colab": {
     "base_uri": "https://localhost:8080/",
     "height": 2023
    },
    "colab_type": "code",
    "id": "MXtnrs9vs1zL",
    "outputId": "f3a39a2c-6163-4077-a7a2-17c92be9b58e"
   },
   "outputs": [
    {
     "data": {
      "text/html": [
       "<div>\n",
       "<style scoped>\n",
       "    .dataframe tbody tr th:only-of-type {\n",
       "        vertical-align: middle;\n",
       "    }\n",
       "\n",
       "    .dataframe tbody tr th {\n",
       "        vertical-align: top;\n",
       "    }\n",
       "\n",
       "    .dataframe thead th {\n",
       "        text-align: right;\n",
       "    }\n",
       "</style>\n",
       "<table border=\"1\" class=\"dataframe\">\n",
       "  <thead>\n",
       "    <tr style=\"text-align: right;\">\n",
       "      <th></th>\n",
       "      <th>uid</th>\n",
       "      <th>cumsum</th>\n",
       "    </tr>\n",
       "    <tr>\n",
       "      <th>min(user_events.date)</th>\n",
       "      <th></th>\n",
       "      <th></th>\n",
       "    </tr>\n",
       "  </thead>\n",
       "  <tbody>\n",
       "    <tr>\n",
       "      <th>2018-03-10</th>\n",
       "      <td>1</td>\n",
       "      <td>290301</td>\n",
       "    </tr>\n",
       "    <tr>\n",
       "      <th>2018-03-29</th>\n",
       "      <td>1</td>\n",
       "      <td>290302</td>\n",
       "    </tr>\n",
       "    <tr>\n",
       "      <th>2018-03-30</th>\n",
       "      <td>1</td>\n",
       "      <td>290303</td>\n",
       "    </tr>\n",
       "    <tr>\n",
       "      <th>2018-03-31</th>\n",
       "      <td>1</td>\n",
       "      <td>290304</td>\n",
       "    </tr>\n",
       "    <tr>\n",
       "      <th>2018-04-05</th>\n",
       "      <td>1</td>\n",
       "      <td>290305</td>\n",
       "    </tr>\n",
       "    <tr>\n",
       "      <th>2018-04-07</th>\n",
       "      <td>1</td>\n",
       "      <td>290306</td>\n",
       "    </tr>\n",
       "    <tr>\n",
       "      <th>2018-04-08</th>\n",
       "      <td>1</td>\n",
       "      <td>290307</td>\n",
       "    </tr>\n",
       "    <tr>\n",
       "      <th>2018-04-10</th>\n",
       "      <td>1</td>\n",
       "      <td>290308</td>\n",
       "    </tr>\n",
       "    <tr>\n",
       "      <th>2018-04-13</th>\n",
       "      <td>1</td>\n",
       "      <td>290309</td>\n",
       "    </tr>\n",
       "    <tr>\n",
       "      <th>2018-04-14</th>\n",
       "      <td>2</td>\n",
       "      <td>290311</td>\n",
       "    </tr>\n",
       "    <tr>\n",
       "      <th>2018-04-15</th>\n",
       "      <td>1</td>\n",
       "      <td>290312</td>\n",
       "    </tr>\n",
       "    <tr>\n",
       "      <th>2018-04-21</th>\n",
       "      <td>5</td>\n",
       "      <td>290317</td>\n",
       "    </tr>\n",
       "    <tr>\n",
       "      <th>2018-04-22</th>\n",
       "      <td>1</td>\n",
       "      <td>290318</td>\n",
       "    </tr>\n",
       "    <tr>\n",
       "      <th>2018-04-24</th>\n",
       "      <td>1</td>\n",
       "      <td>290319</td>\n",
       "    </tr>\n",
       "    <tr>\n",
       "      <th>2018-04-27</th>\n",
       "      <td>1</td>\n",
       "      <td>290320</td>\n",
       "    </tr>\n",
       "    <tr>\n",
       "      <th>2018-04-28</th>\n",
       "      <td>1</td>\n",
       "      <td>290321</td>\n",
       "    </tr>\n",
       "    <tr>\n",
       "      <th>2018-04-29</th>\n",
       "      <td>5</td>\n",
       "      <td>290326</td>\n",
       "    </tr>\n",
       "    <tr>\n",
       "      <th>2018-05-05</th>\n",
       "      <td>2</td>\n",
       "      <td>290328</td>\n",
       "    </tr>\n",
       "    <tr>\n",
       "      <th>2018-05-06</th>\n",
       "      <td>1</td>\n",
       "      <td>290329</td>\n",
       "    </tr>\n",
       "    <tr>\n",
       "      <th>2018-05-08</th>\n",
       "      <td>1</td>\n",
       "      <td>290330</td>\n",
       "    </tr>\n",
       "    <tr>\n",
       "      <th>2018-05-12</th>\n",
       "      <td>4</td>\n",
       "      <td>290334</td>\n",
       "    </tr>\n",
       "    <tr>\n",
       "      <th>2018-05-13</th>\n",
       "      <td>1</td>\n",
       "      <td>290335</td>\n",
       "    </tr>\n",
       "    <tr>\n",
       "      <th>2018-05-19</th>\n",
       "      <td>1</td>\n",
       "      <td>290336</td>\n",
       "    </tr>\n",
       "    <tr>\n",
       "      <th>2018-05-20</th>\n",
       "      <td>2</td>\n",
       "      <td>290338</td>\n",
       "    </tr>\n",
       "    <tr>\n",
       "      <th>2018-05-25</th>\n",
       "      <td>1</td>\n",
       "      <td>290339</td>\n",
       "    </tr>\n",
       "    <tr>\n",
       "      <th>2018-05-26</th>\n",
       "      <td>1</td>\n",
       "      <td>290340</td>\n",
       "    </tr>\n",
       "    <tr>\n",
       "      <th>2018-05-28</th>\n",
       "      <td>2</td>\n",
       "      <td>290342</td>\n",
       "    </tr>\n",
       "    <tr>\n",
       "      <th>2018-06-07</th>\n",
       "      <td>1</td>\n",
       "      <td>290343</td>\n",
       "    </tr>\n",
       "    <tr>\n",
       "      <th>2018-06-12</th>\n",
       "      <td>1</td>\n",
       "      <td>290344</td>\n",
       "    </tr>\n",
       "    <tr>\n",
       "      <th>2018-06-19</th>\n",
       "      <td>1</td>\n",
       "      <td>290345</td>\n",
       "    </tr>\n",
       "    <tr>\n",
       "      <th>...</th>\n",
       "      <td>...</td>\n",
       "      <td>...</td>\n",
       "    </tr>\n",
       "    <tr>\n",
       "      <th>2018-12-29</th>\n",
       "      <td>2</td>\n",
       "      <td>290396</td>\n",
       "    </tr>\n",
       "    <tr>\n",
       "      <th>2019-01-04</th>\n",
       "      <td>1</td>\n",
       "      <td>290397</td>\n",
       "    </tr>\n",
       "    <tr>\n",
       "      <th>2019-01-05</th>\n",
       "      <td>1</td>\n",
       "      <td>290398</td>\n",
       "    </tr>\n",
       "    <tr>\n",
       "      <th>2019-01-06</th>\n",
       "      <td>1</td>\n",
       "      <td>290399</td>\n",
       "    </tr>\n",
       "    <tr>\n",
       "      <th>2019-01-18</th>\n",
       "      <td>1</td>\n",
       "      <td>290400</td>\n",
       "    </tr>\n",
       "    <tr>\n",
       "      <th>2019-01-20</th>\n",
       "      <td>1</td>\n",
       "      <td>290401</td>\n",
       "    </tr>\n",
       "    <tr>\n",
       "      <th>2019-01-26</th>\n",
       "      <td>2</td>\n",
       "      <td>290403</td>\n",
       "    </tr>\n",
       "    <tr>\n",
       "      <th>2019-01-29</th>\n",
       "      <td>1</td>\n",
       "      <td>290404</td>\n",
       "    </tr>\n",
       "    <tr>\n",
       "      <th>2019-01-31</th>\n",
       "      <td>1</td>\n",
       "      <td>290405</td>\n",
       "    </tr>\n",
       "    <tr>\n",
       "      <th>2019-02-02</th>\n",
       "      <td>2</td>\n",
       "      <td>290407</td>\n",
       "    </tr>\n",
       "    <tr>\n",
       "      <th>2019-02-03</th>\n",
       "      <td>1</td>\n",
       "      <td>290408</td>\n",
       "    </tr>\n",
       "    <tr>\n",
       "      <th>2019-02-06</th>\n",
       "      <td>1</td>\n",
       "      <td>290409</td>\n",
       "    </tr>\n",
       "    <tr>\n",
       "      <th>2019-02-07</th>\n",
       "      <td>1</td>\n",
       "      <td>290410</td>\n",
       "    </tr>\n",
       "    <tr>\n",
       "      <th>2019-02-09</th>\n",
       "      <td>2</td>\n",
       "      <td>290412</td>\n",
       "    </tr>\n",
       "    <tr>\n",
       "      <th>2019-02-10</th>\n",
       "      <td>2</td>\n",
       "      <td>290414</td>\n",
       "    </tr>\n",
       "    <tr>\n",
       "      <th>2019-02-16</th>\n",
       "      <td>1</td>\n",
       "      <td>290415</td>\n",
       "    </tr>\n",
       "    <tr>\n",
       "      <th>2019-02-17</th>\n",
       "      <td>3</td>\n",
       "      <td>290418</td>\n",
       "    </tr>\n",
       "    <tr>\n",
       "      <th>2019-02-18</th>\n",
       "      <td>1</td>\n",
       "      <td>290419</td>\n",
       "    </tr>\n",
       "    <tr>\n",
       "      <th>2019-02-23</th>\n",
       "      <td>1</td>\n",
       "      <td>290420</td>\n",
       "    </tr>\n",
       "    <tr>\n",
       "      <th>2019-02-24</th>\n",
       "      <td>3</td>\n",
       "      <td>290423</td>\n",
       "    </tr>\n",
       "    <tr>\n",
       "      <th>2019-02-27</th>\n",
       "      <td>1</td>\n",
       "      <td>290424</td>\n",
       "    </tr>\n",
       "    <tr>\n",
       "      <th>2019-03-01</th>\n",
       "      <td>1</td>\n",
       "      <td>290425</td>\n",
       "    </tr>\n",
       "    <tr>\n",
       "      <th>2019-03-03</th>\n",
       "      <td>1</td>\n",
       "      <td>290426</td>\n",
       "    </tr>\n",
       "    <tr>\n",
       "      <th>2019-03-05</th>\n",
       "      <td>1</td>\n",
       "      <td>290427</td>\n",
       "    </tr>\n",
       "    <tr>\n",
       "      <th>2019-03-10</th>\n",
       "      <td>1</td>\n",
       "      <td>290428</td>\n",
       "    </tr>\n",
       "    <tr>\n",
       "      <th>2019-03-17</th>\n",
       "      <td>1</td>\n",
       "      <td>290429</td>\n",
       "    </tr>\n",
       "    <tr>\n",
       "      <th>2019-03-21</th>\n",
       "      <td>1</td>\n",
       "      <td>290430</td>\n",
       "    </tr>\n",
       "    <tr>\n",
       "      <th>2019-03-23</th>\n",
       "      <td>1</td>\n",
       "      <td>290431</td>\n",
       "    </tr>\n",
       "    <tr>\n",
       "      <th>2019-03-24</th>\n",
       "      <td>1</td>\n",
       "      <td>290432</td>\n",
       "    </tr>\n",
       "    <tr>\n",
       "      <th>2019-03-30</th>\n",
       "      <td>2</td>\n",
       "      <td>290434</td>\n",
       "    </tr>\n",
       "  </tbody>\n",
       "</table>\n",
       "<p>100 rows × 2 columns</p>\n",
       "</div>"
      ],
      "text/plain": [
       "                       uid  cumsum\n",
       "min(user_events.date)             \n",
       "2018-03-10               1  290301\n",
       "2018-03-29               1  290302\n",
       "2018-03-30               1  290303\n",
       "2018-03-31               1  290304\n",
       "2018-04-05               1  290305\n",
       "2018-04-07               1  290306\n",
       "2018-04-08               1  290307\n",
       "2018-04-10               1  290308\n",
       "2018-04-13               1  290309\n",
       "2018-04-14               2  290311\n",
       "2018-04-15               1  290312\n",
       "2018-04-21               5  290317\n",
       "2018-04-22               1  290318\n",
       "2018-04-24               1  290319\n",
       "2018-04-27               1  290320\n",
       "2018-04-28               1  290321\n",
       "2018-04-29               5  290326\n",
       "2018-05-05               2  290328\n",
       "2018-05-06               1  290329\n",
       "2018-05-08               1  290330\n",
       "2018-05-12               4  290334\n",
       "2018-05-13               1  290335\n",
       "2018-05-19               1  290336\n",
       "2018-05-20               2  290338\n",
       "2018-05-25               1  290339\n",
       "2018-05-26               1  290340\n",
       "2018-05-28               2  290342\n",
       "2018-06-07               1  290343\n",
       "2018-06-12               1  290344\n",
       "2018-06-19               1  290345\n",
       "...                    ...     ...\n",
       "2018-12-29               2  290396\n",
       "2019-01-04               1  290397\n",
       "2019-01-05               1  290398\n",
       "2019-01-06               1  290399\n",
       "2019-01-18               1  290400\n",
       "2019-01-20               1  290401\n",
       "2019-01-26               2  290403\n",
       "2019-01-29               1  290404\n",
       "2019-01-31               1  290405\n",
       "2019-02-02               2  290407\n",
       "2019-02-03               1  290408\n",
       "2019-02-06               1  290409\n",
       "2019-02-07               1  290410\n",
       "2019-02-09               2  290412\n",
       "2019-02-10               2  290414\n",
       "2019-02-16               1  290415\n",
       "2019-02-17               3  290418\n",
       "2019-02-18               1  290419\n",
       "2019-02-23               1  290420\n",
       "2019-02-24               3  290423\n",
       "2019-02-27               1  290424\n",
       "2019-03-01               1  290425\n",
       "2019-03-03               1  290426\n",
       "2019-03-05               1  290427\n",
       "2019-03-10               1  290428\n",
       "2019-03-17               1  290429\n",
       "2019-03-21               1  290430\n",
       "2019-03-23               1  290431\n",
       "2019-03-24               1  290432\n",
       "2019-03-30               2  290434\n",
       "\n",
       "[100 rows x 2 columns]"
      ]
     },
     "execution_count": 36,
     "metadata": {},
     "output_type": "execute_result"
    }
   ],
   "source": [
    "year_count[-100:]"
   ]
  },
  {
   "cell_type": "code",
   "execution_count": 46,
   "metadata": {
    "colab": {
     "base_uri": "https://localhost:8080/",
     "height": 368
    },
    "colab_type": "code",
    "id": "ewh139VTtc4q",
    "outputId": "eebd8fc6-bc08-4f37-d9db-710cb35a4f36"
   },
   "outputs": [
    {
     "data": {
      "image/png": "[encoded data removed]",
      "text/plain": [
       "<Figure size 1440x720 with 1 Axes>"
      ]
     },
     "metadata": {},
     "output_type": "display_data"
    }
   ],
   "source": [
    "plt.figure(figsize=(20, 10))\n",
    "plt.plot(year_count.index, year_count['cumsum'].values, label=\"all\")\n",
    "plt.plot(year_count_m.index, year_count_m['cumsum'].values, label=\"male\")\n",
    "plt.plot(year_count_f.index, year_count_f['cumsum'].values, label=\"female\")\n",
    "plt.plot(year_count_u.index, year_count_u['cumsum'].values, label=\"unknown\")\n",
    "plt.title(\"Number of chess players registered in the US by year who played in a tournament by gender\", fontsize=20)\n",
    "plt.xlabel(\"Year\", fontsize=15)\n",
    "plt.ylabel(\"Number of chess players\", fontsize=15)\n",
    "plt.legend()\n",
    "plt.savefig('number_of_chess_players.jpg')"
   ]
  },
  {
   "cell_type": "code",
   "execution_count": 39,
   "metadata": {},
   "outputs": [],
   "source": [
    "x = year_percents_gender.index\n",
    "#y = np.vstack([year_percents_gender['m_percent'], year_percents_gender['f_percent'], year_percents_gender['u_percent']])\n",
    "labels = [\"male_percent\", \"female_percent\", \"unknown_percent\"]\n",
    "colors = [\"sandybrown\", \"tomato\", \"skyblue\"]"
   ]
  },
  {
   "cell_type": "code",
   "execution_count": 43,
   "metadata": {},
   "outputs": [
    {
     "data": {
      "image/png": "[encoded data removed]",
      "text/plain": [
       "<Figure size 1440x720 with 1 Axes>"
      ]
     },
     "metadata": {},
     "output_type": "display_data"
    }
   ],
   "source": [
    "fig, ax = plt.subplots(figsize=(20, 10))\n",
    "ax.stackplot(x, year_percents_gender['m_percent'], year_percents_gender['f_percent'], year_percents_gender['u_percent'], labels=labels)\n",
    "ax.legend(loc='center left', bbox_to_anchor=(1, 0.5), fontsize=15)\n",
    "plt.title(\"Gender Percentages from 1992 - 2019\", fontsize=20)\n",
    "plt.xlabel(\"year\", fontsize=15)\n",
    "plt.ylabel(\"percentage\", fontsize=15)\n",
    "plt.savefig('gender_ratios.jpg')"
   ]
  },
  {
   "cell_type": "markdown",
   "metadata": {},
   "source": [
    "Slope from 1992 to 2004 and 2004 to 2019. The graph looks a bit suspect: is this real or some inconsistencies on my end or the websites/database end. It will have to do for now, because the answer may take some time. I may investigate more later."
   ]
  },
  {
   "cell_type": "code",
   "execution_count": 47,
   "metadata": {},
   "outputs": [
    {
     "data": {
      "text/plain": [
       "(Timestamp('1992-01-04 00:00:00'), Timestamp('2004-04-02 00:00:00'))"
      ]
     },
     "execution_count": 47,
     "metadata": {},
     "output_type": "execute_result"
    }
   ],
   "source": [
    "year_count.index[110], year_count.index[4500]"
   ]
  },
  {
   "cell_type": "code",
   "execution_count": 48,
   "metadata": {},
   "outputs": [
    {
     "data": {
      "text/plain": [
       "6530"
      ]
     },
     "execution_count": 48,
     "metadata": {},
     "output_type": "execute_result"
    }
   ],
   "source": [
    "len(year_count)"
   ]
  },
  {
   "cell_type": "code",
   "execution_count": 49,
   "metadata": {},
   "outputs": [
    {
     "data": {
      "text/plain": [
       "62.515034168564924"
      ]
     },
     "execution_count": 49,
     "metadata": {},
     "output_type": "execute_result"
    }
   ],
   "source": [
    "slope1 = (year_count['cumsum'].values[4500] - year_count['cumsum'].values[110]) / (4500 - 110)\n",
    "slope1"
   ]
  },
  {
   "cell_type": "code",
   "execution_count": 50,
   "metadata": {},
   "outputs": [
    {
     "data": {
      "text/plain": [
       "3.9310004928536224"
      ]
     },
     "execution_count": 50,
     "metadata": {},
     "output_type": "execute_result"
    }
   ],
   "source": [
    "slope2 = (year_count['cumsum'].values[6529] - year_count['cumsum'].values[4500]) / (6529 - 4500)\n",
    "slope2"
   ]
  },
  {
   "cell_type": "markdown",
   "metadata": {},
   "source": [
    "From 1992 to 2004, we see about 63 people new people registering and playing in a tournament every year. This has droped significantly down to 4 from 2004 - present"
   ]
  },
  {
   "cell_type": "markdown",
   "metadata": {
    "colab_type": "text",
    "id": "LH0OPNSzwDGz"
   },
   "source": [
    "# Average rating and standard deviation by year"
   ]
  },
  {
   "cell_type": "code",
   "execution_count": 51,
   "metadata": {
    "colab": {
     "base_uri": "https://localhost:8080/",
     "height": 988
    },
    "colab_type": "code",
    "id": "b6ws0ptTwX0u",
    "outputId": "b938bdf5-e82e-4a9d-deb3-982c987124b1"
   },
   "outputs": [],
   "source": [
    "ratings_df = pd.read_sql_query(\"SELECT date, user_events.reg_after, users.uid FROM users INNER JOIN user_events ON users.uid = user_events.user_id;\", conn)"
   ]
  },
  {
   "cell_type": "code",
   "execution_count": 108,
   "metadata": {},
   "outputs": [
    {
     "data": {
      "text/html": [
       "<div>\n",
       "<style scoped>\n",
       "    .dataframe tbody tr th:only-of-type {\n",
       "        vertical-align: middle;\n",
       "    }\n",
       "\n",
       "    .dataframe tbody tr th {\n",
       "        vertical-align: top;\n",
       "    }\n",
       "\n",
       "    .dataframe thead th {\n",
       "        text-align: right;\n",
       "    }\n",
       "</style>\n",
       "<table border=\"1\" class=\"dataframe\">\n",
       "  <thead>\n",
       "    <tr style=\"text-align: right;\">\n",
       "      <th></th>\n",
       "      <th>date</th>\n",
       "      <th>reg_after</th>\n",
       "      <th>uid</th>\n",
       "    </tr>\n",
       "  </thead>\n",
       "  <tbody>\n",
       "    <tr>\n",
       "      <th>0</th>\n",
       "      <td>1996-08-25</td>\n",
       "      <td>1385 (P5)</td>\n",
       "      <td>12683802</td>\n",
       "    </tr>\n",
       "    <tr>\n",
       "      <th>1</th>\n",
       "      <td>1994-12-10</td>\n",
       "      <td>735 (P8)</td>\n",
       "      <td>12632612</td>\n",
       "    </tr>\n",
       "    <tr>\n",
       "      <th>2</th>\n",
       "      <td>1994-11-06</td>\n",
       "      <td>711 (P4)</td>\n",
       "      <td>12632612</td>\n",
       "    </tr>\n",
       "    <tr>\n",
       "      <th>3</th>\n",
       "      <td>2001-02-10</td>\n",
       "      <td>576 (P5)</td>\n",
       "      <td>12831758</td>\n",
       "    </tr>\n",
       "    <tr>\n",
       "      <th>4</th>\n",
       "      <td>1993-04-15</td>\n",
       "      <td>None</td>\n",
       "      <td>12582004</td>\n",
       "    </tr>\n",
       "  </tbody>\n",
       "</table>\n",
       "</div>"
      ],
      "text/plain": [
       "         date  reg_after       uid\n",
       "0  1996-08-25  1385 (P5)  12683802\n",
       "1  1994-12-10   735 (P8)  12632612\n",
       "2  1994-11-06   711 (P4)  12632612\n",
       "3  2001-02-10   576 (P5)  12831758\n",
       "4  1993-04-15       None  12582004"
      ]
     },
     "execution_count": 108,
     "metadata": {},
     "output_type": "execute_result"
    }
   ],
   "source": [
    "ratings_df.head()"
   ]
  },
  {
   "cell_type": "code",
   "execution_count": 109,
   "metadata": {},
   "outputs": [],
   "source": [
    "ratings_date_df = pd.DataFrame()"
   ]
  },
  {
   "cell_type": "markdown",
   "metadata": {},
   "source": [
    "Rows are dates (one date column), columns is the rating for each uid (300k uid columns)"
   ]
  },
  {
   "cell_type": "code",
   "execution_count": 110,
   "metadata": {},
   "outputs": [],
   "source": [
    "dates = list(sorted(set(ratings_df['date'])))"
   ]
  },
  {
   "cell_type": "code",
   "execution_count": 111,
   "metadata": {},
   "outputs": [
    {
     "data": {
      "text/plain": [
       "10057"
      ]
     },
     "execution_count": 111,
     "metadata": {},
     "output_type": "execute_result"
    }
   ],
   "source": [
    "len(dates)"
   ]
  },
  {
   "cell_type": "code",
   "execution_count": 112,
   "metadata": {},
   "outputs": [
    {
     "data": {
      "text/plain": [
       "('1991-01-28', '2019-04-09')"
      ]
     },
     "execution_count": 112,
     "metadata": {},
     "output_type": "execute_result"
    }
   ],
   "source": [
    "dates[0], dates[-2]"
   ]
  },
  {
   "cell_type": "code",
   "execution_count": 113,
   "metadata": {},
   "outputs": [],
   "source": [
    "ratings_date_df['dates'] = dates"
   ]
  },
  {
   "cell_type": "code",
   "execution_count": 114,
   "metadata": {},
   "outputs": [
    {
     "data": {
      "text/html": [
       "<div>\n",
       "<style scoped>\n",
       "    .dataframe tbody tr th:only-of-type {\n",
       "        vertical-align: middle;\n",
       "    }\n",
       "\n",
       "    .dataframe tbody tr th {\n",
       "        vertical-align: top;\n",
       "    }\n",
       "\n",
       "    .dataframe thead th {\n",
       "        text-align: right;\n",
       "    }\n",
       "</style>\n",
       "<table border=\"1\" class=\"dataframe\">\n",
       "  <thead>\n",
       "    <tr style=\"text-align: right;\">\n",
       "      <th></th>\n",
       "      <th>dates</th>\n",
       "    </tr>\n",
       "  </thead>\n",
       "  <tbody>\n",
       "    <tr>\n",
       "      <th>0</th>\n",
       "      <td>1991-01-28</td>\n",
       "    </tr>\n",
       "    <tr>\n",
       "      <th>1</th>\n",
       "      <td>1991-01-31</td>\n",
       "    </tr>\n",
       "    <tr>\n",
       "      <th>2</th>\n",
       "      <td>1991-02-18</td>\n",
       "    </tr>\n",
       "    <tr>\n",
       "      <th>3</th>\n",
       "      <td>1991-02-26</td>\n",
       "    </tr>\n",
       "    <tr>\n",
       "      <th>4</th>\n",
       "      <td>1991-03-17</td>\n",
       "    </tr>\n",
       "  </tbody>\n",
       "</table>\n",
       "</div>"
      ],
      "text/plain": [
       "        dates\n",
       "0  1991-01-28\n",
       "1  1991-01-31\n",
       "2  1991-02-18\n",
       "3  1991-02-26\n",
       "4  1991-03-17"
      ]
     },
     "execution_count": 114,
     "metadata": {},
     "output_type": "execute_result"
    }
   ],
   "source": [
    "ratings_date_df.head()"
   ]
  },
  {
   "cell_type": "code",
   "execution_count": 115,
   "metadata": {},
   "outputs": [
    {
     "data": {
      "text/plain": [
       "3283074"
      ]
     },
     "execution_count": 115,
     "metadata": {},
     "output_type": "execute_result"
    }
   ],
   "source": [
    "len(ratings_df)"
   ]
  },
  {
   "cell_type": "markdown",
   "metadata": {},
   "source": [
    "Let's just keep track of rating by year, and the latest rating for that year"
   ]
  },
  {
   "cell_type": "code",
   "execution_count": 26,
   "metadata": {},
   "outputs": [
    {
     "name": "stdout",
     "output_type": "stream",
     "text": [
      "0\n",
      "100000\n",
      "200000\n",
      "300000\n",
      "400000\n",
      "500000\n",
      "600000\n",
      "700000\n",
      "800000\n",
      "900000\n",
      "1000000\n",
      "1100000\n",
      "1200000\n",
      "1300000\n",
      "1400000\n",
      "1500000\n",
      "1600000\n",
      "1700000\n",
      "1800000\n",
      "1900000\n",
      "2000000\n",
      "2100000\n",
      "2200000\n",
      "2300000\n",
      "2400000\n",
      "2500000\n",
      "2600000\n",
      "2700000\n",
      "2800000\n",
      "2900000\n",
      "3000000\n",
      "3100000\n",
      "3200000\n",
      "950.0583763122559  seconds\n"
     ]
    }
   ],
   "source": [
    "uid_date_d = {}\n",
    "start = time.time()\n",
    "for index, row in ratings_df.iterrows():\n",
    "    if index % 100000 == 0:\n",
    "        print(index)\n",
    "    if not row.uid in uid_date_d.keys():\n",
    "        uid_date_d[row.uid] = {}\n",
    "    year = row.date[:4]\n",
    "    #uid_date_d[row.uid][row.date] = row.reg_after\n",
    "    # get rid of provisional part\n",
    "    uid_date_d[row.uid][year] = int(row.reg_after.split(\" \")[0]) if row.reg_after else None\n",
    "end = time.time()\n",
    "print(end - start, \" seconds\")"
   ]
  },
  {
   "cell_type": "code",
   "execution_count": 36,
   "metadata": {},
   "outputs": [
    {
     "data": {
      "text/plain": [
       "290434"
      ]
     },
     "execution_count": 36,
     "metadata": {},
     "output_type": "execute_result"
    }
   ],
   "source": [
    "len(list(uid_date_d.keys()))"
   ]
  },
  {
   "cell_type": "code",
   "execution_count": 37,
   "metadata": {},
   "outputs": [
    {
     "data": {
      "text/plain": [
       "{'1996': 1385,\n",
       " '1991': 'NA',\n",
       " '1992': 'NA',\n",
       " '1993': 'NA',\n",
       " '1994': 'NA',\n",
       " '1995': 'NA',\n",
       " '1997': 1385,\n",
       " '1998': 1385,\n",
       " '1999': 1385,\n",
       " '2000': 1385,\n",
       " '2001': 1385,\n",
       " '2002': 1385,\n",
       " '2003': 1385,\n",
       " '2004': 1385,\n",
       " '2005': 1385,\n",
       " '2006': 1385,\n",
       " '2007': 1385,\n",
       " '2008': 1385,\n",
       " '2009': 1385,\n",
       " '2010': 1385,\n",
       " '2011': 1385,\n",
       " '2012': 1385,\n",
       " '2013': 1385,\n",
       " '2014': 1385,\n",
       " '2015': 1385,\n",
       " '2016': 1385,\n",
       " '2017': 1385,\n",
       " '2018': 1385,\n",
       " '2019': 1385}"
      ]
     },
     "execution_count": 37,
     "metadata": {},
     "output_type": "execute_result"
    }
   ],
   "source": [
    "uid_date_d[12683802]"
   ]
  },
  {
   "cell_type": "code",
   "execution_count": 38,
   "metadata": {},
   "outputs": [
    {
     "data": {
      "text/plain": [
       "1385"
      ]
     },
     "execution_count": 38,
     "metadata": {},
     "output_type": "execute_result"
    }
   ],
   "source": [
    "#uid_date_d[12683802]['1996'].split(\" \")[0]\n",
    "int(\"1385\")"
   ]
  },
  {
   "cell_type": "code",
   "execution_count": 39,
   "metadata": {},
   "outputs": [
    {
     "data": {
      "text/plain": [
       "'1385'"
      ]
     },
     "execution_count": 39,
     "metadata": {},
     "output_type": "execute_result"
    }
   ],
   "source": [
    "\"1385\".split(\" \")[0]"
   ]
  },
  {
   "cell_type": "code",
   "execution_count": 40,
   "metadata": {},
   "outputs": [],
   "source": [
    "uid_set = set(ratings_df['uid'])"
   ]
  },
  {
   "cell_type": "code",
   "execution_count": 41,
   "metadata": {},
   "outputs": [],
   "source": [
    "uids = list(uid_set)"
   ]
  },
  {
   "cell_type": "code",
   "execution_count": 42,
   "metadata": {},
   "outputs": [
    {
     "data": {
      "text/plain": [
       "290434"
      ]
     },
     "execution_count": 42,
     "metadata": {},
     "output_type": "execute_result"
    }
   ],
   "source": [
    "len(uids)"
   ]
  },
  {
   "cell_type": "code",
   "execution_count": 116,
   "metadata": {},
   "outputs": [
    {
     "data": {
      "text/plain": [
       "['1991',\n",
       " '1992',\n",
       " '1993',\n",
       " '1994',\n",
       " '1995',\n",
       " '1996',\n",
       " '1997',\n",
       " '1998',\n",
       " '1999',\n",
       " '2000',\n",
       " '2001',\n",
       " '2002',\n",
       " '2003',\n",
       " '2004',\n",
       " '2005',\n",
       " '2006',\n",
       " '2007',\n",
       " '2008',\n",
       " '2009',\n",
       " '2010',\n",
       " '2011',\n",
       " '2012',\n",
       " '2013',\n",
       " '2014',\n",
       " '2015',\n",
       " '2016',\n",
       " '2017',\n",
       " '2018',\n",
       " '2019']"
      ]
     },
     "execution_count": 116,
     "metadata": {},
     "output_type": "execute_result"
    }
   ],
   "source": [
    "# years: 1991 - 2019\n",
    "years = [str(x) for x in range(1991, 2020)]\n",
    "years"
   ]
  },
  {
   "cell_type": "code",
   "execution_count": 44,
   "metadata": {},
   "outputs": [],
   "source": [
    "for num, uid in enumerate(uids):\n",
    "    for index, year in enumerate(years):\n",
    "        if year not in uid_date_d[uid]:\n",
    "            try:\n",
    "                uid_date_d[uid][year] = uid_date_d[uid][years[index - 1]]\n",
    "            except:\n",
    "                uid_date_d[uid][year] = \"NA\"\n",
    "        elif uid_date_d[uid][year] == None:\n",
    "            try:\n",
    "                uid_date_d[uid][year] = uid_date_d[uid][years[index - 1]]\n",
    "            except:\n",
    "                uid_date_d[uid][year] = \"NA\""
   ]
  },
  {
   "cell_type": "code",
   "execution_count": 45,
   "metadata": {},
   "outputs": [],
   "source": [
    "pickle.dump(uid_date_d, open( \"uid_date_d.pickle\", \"wb\" ))"
   ]
  },
  {
   "cell_type": "code",
   "execution_count": 119,
   "metadata": {},
   "outputs": [],
   "source": [
    "uid_date_d = pickle.load( open( \"uid_date_d.pickle\", \"rb\" ) )"
   ]
  },
  {
   "cell_type": "code",
   "execution_count": 46,
   "metadata": {},
   "outputs": [
    {
     "name": "stdout",
     "output_type": "stream",
     "text": [
      "0\n",
      "10000\n",
      "20000\n",
      "30000\n",
      "40000\n",
      "50000\n",
      "60000\n",
      "70000\n",
      "80000\n",
      "90000\n",
      "100000\n",
      "110000\n",
      "120000\n",
      "130000\n",
      "140000\n",
      "150000\n",
      "160000\n",
      "170000\n",
      "180000\n",
      "190000\n",
      "200000\n",
      "210000\n",
      "220000\n",
      "230000\n",
      "240000\n",
      "250000\n",
      "260000\n",
      "270000\n",
      "280000\n",
      "290000\n",
      "6132.803323030472 seconds\n"
     ]
    }
   ],
   "source": [
    "df = pd.DataFrame(index=years)\n",
    "start = time.time()\n",
    "for num, uid in enumerate(uids):\n",
    "    if num % 10000 == 0:\n",
    "        print(num)\n",
    "    u = []\n",
    "    for year in years:\n",
    "        u.append(uid_date_d[uid][year])\n",
    "    df[uid] = u\n",
    "end = time.time()\n",
    "print(end - start, \"seconds\")"
   ]
  },
  {
   "cell_type": "code",
   "execution_count": 47,
   "metadata": {},
   "outputs": [
    {
     "data": {
      "text/plain": [
       "1991    1469.460505\n",
       "1992    1469.567591\n",
       "1993    1476.286349\n",
       "1994    1479.513102\n",
       "1995    1478.230063\n",
       "1996    1475.899347\n",
       "1997    1471.365812\n",
       "1998    1465.221455\n",
       "1999    1457.432788\n",
       "2000    1450.476871\n",
       "2001    1443.122789\n",
       "2002    1440.520764\n",
       "2003    1436.994135\n",
       "2004    1437.610538\n",
       "2005    1445.361082\n",
       "2006    1451.171223\n",
       "2007    1455.811560\n",
       "2008    1460.367420\n",
       "2009    1464.976540\n",
       "2010    1469.812222\n",
       "2011    1473.800965\n",
       "2012    1478.176615\n",
       "2013    1481.488033\n",
       "2014    1484.912118\n",
       "2015    1487.496926\n",
       "2016    1489.286444\n",
       "2017    1491.377069\n",
       "2018    1492.500993\n",
       "2019    1494.856873\n",
       "dtype: float64"
      ]
     },
     "execution_count": 47,
     "metadata": {},
     "output_type": "execute_result"
    }
   ],
   "source": [
    "df.mean(axis=1)"
   ]
  },
  {
   "cell_type": "code",
   "execution_count": 48,
   "metadata": {},
   "outputs": [],
   "source": [
    "df_aggs = df.copy(deep=True)\n",
    "df_aggs['mean'] = df.mean(axis=1)\n",
    "df_aggs['std'] = df.std(axis=1)"
   ]
  },
  {
   "cell_type": "code",
   "execution_count": 49,
   "metadata": {},
   "outputs": [
    {
     "data": {
      "text/html": [
       "<div>\n",
       "<style scoped>\n",
       "    .dataframe tbody tr th:only-of-type {\n",
       "        vertical-align: middle;\n",
       "    }\n",
       "\n",
       "    .dataframe tbody tr th {\n",
       "        vertical-align: top;\n",
       "    }\n",
       "\n",
       "    .dataframe thead th {\n",
       "        text-align: right;\n",
       "    }\n",
       "</style>\n",
       "<table border=\"1\" class=\"dataframe\">\n",
       "  <thead>\n",
       "    <tr style=\"text-align: right;\">\n",
       "      <th></th>\n",
       "      <th>12582912</th>\n",
       "      <th>12582913</th>\n",
       "      <th>12582914</th>\n",
       "      <th>12582916</th>\n",
       "      <th>12582917</th>\n",
       "      <th>12582918</th>\n",
       "      <th>12582919</th>\n",
       "      <th>12582920</th>\n",
       "      <th>12582921</th>\n",
       "      <th>12582922</th>\n",
       "      <th>...</th>\n",
       "      <th>12582904</th>\n",
       "      <th>12582905</th>\n",
       "      <th>12582906</th>\n",
       "      <th>12582907</th>\n",
       "      <th>12582908</th>\n",
       "      <th>12582909</th>\n",
       "      <th>12582910</th>\n",
       "      <th>12582911</th>\n",
       "      <th>mean</th>\n",
       "      <th>std</th>\n",
       "    </tr>\n",
       "  </thead>\n",
       "  <tbody>\n",
       "    <tr>\n",
       "      <th>1991</th>\n",
       "      <td>NA</td>\n",
       "      <td>NA</td>\n",
       "      <td>NA</td>\n",
       "      <td>NA</td>\n",
       "      <td>NA</td>\n",
       "      <td>NA</td>\n",
       "      <td>NA</td>\n",
       "      <td>NA</td>\n",
       "      <td>NA</td>\n",
       "      <td>NA</td>\n",
       "      <td>...</td>\n",
       "      <td>NA</td>\n",
       "      <td>NA</td>\n",
       "      <td>NA</td>\n",
       "      <td>NA</td>\n",
       "      <td>NA</td>\n",
       "      <td>NA</td>\n",
       "      <td>NA</td>\n",
       "      <td>NA</td>\n",
       "      <td>1469.460505</td>\n",
       "      <td>404.693575</td>\n",
       "    </tr>\n",
       "    <tr>\n",
       "      <th>1992</th>\n",
       "      <td>1451</td>\n",
       "      <td>2356</td>\n",
       "      <td>NA</td>\n",
       "      <td>1125</td>\n",
       "      <td>1535</td>\n",
       "      <td>1203</td>\n",
       "      <td>1237</td>\n",
       "      <td>1522</td>\n",
       "      <td>882</td>\n",
       "      <td>792</td>\n",
       "      <td>...</td>\n",
       "      <td>417</td>\n",
       "      <td>619</td>\n",
       "      <td>1528</td>\n",
       "      <td>1377</td>\n",
       "      <td>1765</td>\n",
       "      <td>1056</td>\n",
       "      <td>870</td>\n",
       "      <td>607</td>\n",
       "      <td>1469.567591</td>\n",
       "      <td>401.143367</td>\n",
       "    </tr>\n",
       "    <tr>\n",
       "      <th>1993</th>\n",
       "      <td>1434</td>\n",
       "      <td>2259</td>\n",
       "      <td>1213</td>\n",
       "      <td>1125</td>\n",
       "      <td>1535</td>\n",
       "      <td>1203</td>\n",
       "      <td>1237</td>\n",
       "      <td>1574</td>\n",
       "      <td>882</td>\n",
       "      <td>792</td>\n",
       "      <td>...</td>\n",
       "      <td>545</td>\n",
       "      <td>619</td>\n",
       "      <td>1501</td>\n",
       "      <td>1291</td>\n",
       "      <td>1355</td>\n",
       "      <td>756</td>\n",
       "      <td>1017</td>\n",
       "      <td>607</td>\n",
       "      <td>1476.286349</td>\n",
       "      <td>399.984928</td>\n",
       "    </tr>\n",
       "    <tr>\n",
       "      <th>1994</th>\n",
       "      <td>1485</td>\n",
       "      <td>2259</td>\n",
       "      <td>1125</td>\n",
       "      <td>1125</td>\n",
       "      <td>1535</td>\n",
       "      <td>1203</td>\n",
       "      <td>1237</td>\n",
       "      <td>1574</td>\n",
       "      <td>882</td>\n",
       "      <td>792</td>\n",
       "      <td>...</td>\n",
       "      <td>618</td>\n",
       "      <td>619</td>\n",
       "      <td>1477</td>\n",
       "      <td>1646</td>\n",
       "      <td>1355</td>\n",
       "      <td>756</td>\n",
       "      <td>1017</td>\n",
       "      <td>607</td>\n",
       "      <td>1479.513102</td>\n",
       "      <td>400.431339</td>\n",
       "    </tr>\n",
       "    <tr>\n",
       "      <th>1995</th>\n",
       "      <td>1485</td>\n",
       "      <td>2259</td>\n",
       "      <td>1125</td>\n",
       "      <td>1192</td>\n",
       "      <td>1535</td>\n",
       "      <td>1203</td>\n",
       "      <td>1237</td>\n",
       "      <td>1574</td>\n",
       "      <td>882</td>\n",
       "      <td>792</td>\n",
       "      <td>...</td>\n",
       "      <td>618</td>\n",
       "      <td>619</td>\n",
       "      <td>1481</td>\n",
       "      <td>1760</td>\n",
       "      <td>1355</td>\n",
       "      <td>781</td>\n",
       "      <td>1017</td>\n",
       "      <td>607</td>\n",
       "      <td>1478.230063</td>\n",
       "      <td>401.704975</td>\n",
       "    </tr>\n",
       "  </tbody>\n",
       "</table>\n",
       "<p>5 rows × 290436 columns</p>\n",
       "</div>"
      ],
      "text/plain": [
       "     12582912 12582913 12582914 12582916 12582917 12582918 12582919 12582920  \\\n",
       "1991       NA       NA       NA       NA       NA       NA       NA       NA   \n",
       "1992     1451     2356       NA     1125     1535     1203     1237     1522   \n",
       "1993     1434     2259     1213     1125     1535     1203     1237     1574   \n",
       "1994     1485     2259     1125     1125     1535     1203     1237     1574   \n",
       "1995     1485     2259     1125     1192     1535     1203     1237     1574   \n",
       "\n",
       "     12582921 12582922  ... 12582904 12582905 12582906 12582907 12582908  \\\n",
       "1991       NA       NA  ...       NA       NA       NA       NA       NA   \n",
       "1992      882      792  ...      417      619     1528     1377     1765   \n",
       "1993      882      792  ...      545      619     1501     1291     1355   \n",
       "1994      882      792  ...      618      619     1477     1646     1355   \n",
       "1995      882      792  ...      618      619     1481     1760     1355   \n",
       "\n",
       "     12582909 12582910 12582911         mean         std  \n",
       "1991       NA       NA       NA  1469.460505  404.693575  \n",
       "1992     1056      870      607  1469.567591  401.143367  \n",
       "1993      756     1017      607  1476.286349  399.984928  \n",
       "1994      756     1017      607  1479.513102  400.431339  \n",
       "1995      781     1017      607  1478.230063  401.704975  \n",
       "\n",
       "[5 rows x 290436 columns]"
      ]
     },
     "execution_count": 49,
     "metadata": {},
     "output_type": "execute_result"
    }
   ],
   "source": [
    "df_aggs.head()"
   ]
  },
  {
   "cell_type": "code",
   "execution_count": 50,
   "metadata": {},
   "outputs": [
    {
     "data": {
      "text/plain": [
       "Text(0, 0.5, 'Average rating')"
      ]
     },
     "execution_count": 50,
     "metadata": {},
     "output_type": "execute_result"
    },
    {
     "data": {
      "image/png": "[encoded data removed]",
      "text/plain": [
       "<Figure size 1440x360 with 1 Axes>"
      ]
     },
     "metadata": {},
     "output_type": "display_data"
    }
   ],
   "source": [
    "plt.figure(figsize=(20, 5))\n",
    "plt.plot(df_aggs.index, df_aggs['mean'].values)\n",
    "plt.title(\"Average rating per year\")\n",
    "plt.xlabel(\"Year\")\n",
    "plt.ylabel(\"Average rating\")"
   ]
  },
  {
   "cell_type": "markdown",
   "metadata": {},
   "source": [
    "The rating average appears to peak around 1994, dip down near 2003 and has been on the increase ever since."
   ]
  },
  {
   "cell_type": "code",
   "execution_count": 143,
   "metadata": {},
   "outputs": [],
   "source": [
    "df_aggs.to_csv(\"df_aggs.csv\")"
   ]
  },
  {
   "cell_type": "code",
   "execution_count": 96,
   "metadata": {},
   "outputs": [],
   "source": [
    "df.to_pickle(\"df_aggs.pkl\")"
   ]
  },
  {
   "cell_type": "code",
   "execution_count": 4,
   "metadata": {},
   "outputs": [],
   "source": [
    "df_aggs = pickle.load(open(\"df_aggs.pkl\",\"rb\"))"
   ]
  },
  {
   "cell_type": "code",
   "execution_count": 20,
   "metadata": {},
   "outputs": [],
   "source": [
    "df_aggs.replace(\"NA\", float('nan'), inplace=True)"
   ]
  },
  {
   "cell_type": "code",
   "execution_count": 120,
   "metadata": {},
   "outputs": [],
   "source": [
    "df_aggs = pd.read_csv(\"df_aggs.csv\", index_col=0)"
   ]
  },
  {
   "cell_type": "code",
   "execution_count": 6,
   "metadata": {},
   "outputs": [],
   "source": [
    "df_original = df_aggs.copy(deep=True)"
   ]
  },
  {
   "cell_type": "code",
   "execution_count": 121,
   "metadata": {},
   "outputs": [],
   "source": [
    "df_aggs = df_aggs.iloc[:, 0:-2]"
   ]
  },
  {
   "cell_type": "code",
   "execution_count": 22,
   "metadata": {},
   "outputs": [
    {
     "data": {
      "text/plain": [
       "(2206760, (29, 290434))"
      ]
     },
     "execution_count": 22,
     "metadata": {},
     "output_type": "execute_result"
    }
   ],
   "source": [
    "df_aggs.isnull().sum().sum(), df_aggs.shape"
   ]
  },
  {
   "cell_type": "code",
   "execution_count": 23,
   "metadata": {},
   "outputs": [
    {
     "data": {
      "text/plain": [
       "1991    1469.460505\n",
       "1992    1286.806318\n",
       "1993    1191.595125\n",
       "1994    1125.614566\n",
       "1995    1077.378530\n",
       "1996    1037.228633\n",
       "1997    1006.460670\n",
       "1998     976.385157\n",
       "1999     947.492651\n",
       "2000     918.462384\n",
       "2001     888.196273\n",
       "2002     861.308821\n",
       "2003     842.029773\n",
       "2004     836.162595\n",
       "2005     843.312802\n",
       "2006     847.765835\n",
       "2007     850.684329\n",
       "2008     852.789474\n",
       "2009     854.638472\n",
       "2010     856.243988\n",
       "2011     857.458140\n",
       "2012     858.545612\n",
       "2013     859.410848\n",
       "2014     860.268129\n",
       "2015     860.849392\n",
       "2016     861.306603\n",
       "2017     861.690709\n",
       "2018     861.951350\n",
       "2019     862.038904\n",
       "dtype: float64"
      ]
     },
     "execution_count": 23,
     "metadata": {},
     "output_type": "execute_result"
    }
   ],
   "source": [
    "df_aggs.mean(axis=1)"
   ]
  },
  {
   "cell_type": "markdown",
   "metadata": {},
   "source": [
    "# Rating by gender per year"
   ]
  },
  {
   "cell_type": "code",
   "execution_count": 32,
   "metadata": {},
   "outputs": [],
   "source": [
    "female_df = pd.read_sql_query(\"SELECT users.uid FROM users WHERE users.gender = 'F';\", conn)"
   ]
  },
  {
   "cell_type": "code",
   "execution_count": 33,
   "metadata": {},
   "outputs": [
    {
     "data": {
      "text/plain": [
       "46942"
      ]
     },
     "execution_count": 33,
     "metadata": {},
     "output_type": "execute_result"
    }
   ],
   "source": [
    "len(female_df)"
   ]
  },
  {
   "cell_type": "code",
   "execution_count": 34,
   "metadata": {},
   "outputs": [],
   "source": [
    "male_df = pd.read_sql_query(\"SELECT users.uid FROM users WHERE users.gender = 'M';\", conn)"
   ]
  },
  {
   "cell_type": "code",
   "execution_count": 35,
   "metadata": {},
   "outputs": [
    {
     "data": {
      "text/plain": [
       "401926"
      ]
     },
     "execution_count": 35,
     "metadata": {},
     "output_type": "execute_result"
    }
   ],
   "source": [
    "len(male_df)"
   ]
  },
  {
   "cell_type": "code",
   "execution_count": 36,
   "metadata": {},
   "outputs": [],
   "source": [
    "unknown_df = pd.read_sql_query(\"SELECT users.uid FROM users WHERE users.gender = 'U';\", conn)"
   ]
  },
  {
   "cell_type": "code",
   "execution_count": 37,
   "metadata": {},
   "outputs": [
    {
     "data": {
      "text/plain": [
       "39718"
      ]
     },
     "execution_count": 37,
     "metadata": {},
     "output_type": "execute_result"
    }
   ],
   "source": [
    "len(unknown_df)"
   ]
  },
  {
   "cell_type": "code",
   "execution_count": 38,
   "metadata": {},
   "outputs": [],
   "source": [
    "users_df = pd.read_sql_query(\"SELECT users.uid FROM users;\", conn)"
   ]
  },
  {
   "cell_type": "code",
   "execution_count": 39,
   "metadata": {},
   "outputs": [
    {
     "data": {
      "text/plain": [
       "(488586, 290434)"
      ]
     },
     "execution_count": 39,
     "metadata": {},
     "output_type": "execute_result"
    }
   ],
   "source": [
    "len(users_df), len(df_aggs.columns)"
   ]
  },
  {
   "cell_type": "code",
   "execution_count": 40,
   "metadata": {},
   "outputs": [],
   "source": [
    "female_uids = female_df['uid']\n",
    "male_uids = male_df['uid']\n",
    "unknown_uids = unknown_df['uid']\n",
    "#female_uids = [str(x) for x in female_uids]\n",
    "#male_uids = [str(x) for x in male_uids]\n",
    "#unknown_uids = [str(x) for x in unknown_uids]"
   ]
  },
  {
   "cell_type": "code",
   "execution_count": 41,
   "metadata": {},
   "outputs": [],
   "source": [
    "female_df = df_aggs[df_aggs.columns.intersection(female_uids)]\n",
    "male_df = df_aggs[df_aggs.columns.intersection(male_uids)]\n",
    "unknown_df = df_aggs[df_aggs.columns.intersection(unknown_uids)]"
   ]
  },
  {
   "cell_type": "code",
   "execution_count": 42,
   "metadata": {},
   "outputs": [
    {
     "data": {
      "text/plain": [
       "(290434, 290434)"
      ]
     },
     "execution_count": 42,
     "metadata": {},
     "output_type": "execute_result"
    }
   ],
   "source": [
    "len(female_df.columns) + len(male_df.columns) + len(unknown_df.columns), len(df_aggs.columns)"
   ]
  },
  {
   "cell_type": "code",
   "execution_count": 43,
   "metadata": {},
   "outputs": [],
   "source": [
    "male_df_aggs = male_df.copy(deep=True)\n",
    "#male_df_aggs['mean'] = male_df.mean(axis=1)\n",
    "male_df_aggs_mean = male_df.mean(axis=1)\n",
    "male_df_aggs_std = male_df.std(axis=1)\n",
    "#male_df_aggs['std'] = male_df.std(axis=1)\n",
    "#male_df_aggs['median'] = male_df.median(axis=1)\n",
    "male_df_aggs_med = male_df.median(axis=1)\n",
    "#male_df_aggs['max'] = male_df.max(axis=1)\n",
    "male_df_aggs_max = male_df.max(axis=1)\n",
    "#male_df_aggs['min'] = male_df.min(axis=1)\n",
    "male_df_aggs_mode = male_df.mode(axis=1)\n",
    "male_df_aggs['mean'] = male_df_aggs_mean\n",
    "male_df_aggs['std'] = male_df_aggs_std\n",
    "male_df_aggs['median'] = male_df_aggs_med\n",
    "male_df_aggs['max'] = male_df_aggs_max\n",
    "male_df_aggs['mode'] = male_df_aggs_mode"
   ]
  },
  {
   "cell_type": "code",
   "execution_count": 44,
   "metadata": {},
   "outputs": [],
   "source": [
    "female_df_aggs = female_df.copy(deep=True)\n",
    "female_df_aggs_mean = female_df.mean(axis=1)\n",
    "female_df_aggs_std = female_df.std(axis=1)\n",
    "female_df_aggs_med = female_df.median(axis=1)\n",
    "female_df_aggs_max = female_df.max(axis=1)\n",
    "#female_df_aggs_mode = female_df.mode(axis=1)\n",
    "female_df_aggs['mean'] = female_df_aggs_mean\n",
    "female_df_aggs['std'] = female_df_aggs_std\n",
    "female_df_aggs['median'] = female_df_aggs_med\n",
    "female_df_aggs['max'] = female_df_aggs_max\n",
    "#female_df_aggs['mode'] = female_df_aggs_mode"
   ]
  },
  {
   "cell_type": "code",
   "execution_count": 45,
   "metadata": {},
   "outputs": [],
   "source": [
    "unknown_df_aggs = unknown_df.copy(deep=True)\n",
    "unknown_df_aggs_mean = unknown_df.mean(axis=1)\n",
    "unknown_df_aggs_std = unknown_df.std(axis=1)\n",
    "unknown_df_aggs_med = unknown_df.median(axis=1)\n",
    "unknown_df_aggs_max = unknown_df.max(axis=1)\n",
    "#unknown_df_aggs_mode = unknown_df.mode(axis=1)\n",
    "unknown_df_aggs['mean'] = unknown_df_aggs_mean\n",
    "unknown_df_aggs['std'] = unknown_df_aggs_std\n",
    "unknown_df_aggs['median'] = unknown_df_aggs_med\n",
    "unknown_df_aggs['max'] = unknown_df_aggs_max\n",
    "#unknown_df_aggs['mode'] = unknown_df_aggs_mode"
   ]
  },
  {
   "cell_type": "code",
   "execution_count": 46,
   "metadata": {},
   "outputs": [],
   "source": [
    "df_aggs_mean = df_aggs.mean(axis=1)\n",
    "df_aggs_std = df_aggs.std(axis=1)\n",
    "df_aggs_med = df_aggs.median(axis=1)\n",
    "df_aggs_max = df_aggs.max(axis=1)\n",
    "#df_aggs_mode = df_aggs.mode(axis=1)\n",
    "df_aggs['mean'] = df_aggs_mean\n",
    "df_aggs['std'] = df_aggs_std\n",
    "df_aggs['median'] = df_aggs_med\n",
    "df_aggs['max'] = df_aggs_max\n",
    "#df_aggs['mode'] = df_aggs_mode"
   ]
  },
  {
   "cell_type": "code",
   "execution_count": 47,
   "metadata": {},
   "outputs": [
    {
     "data": {
      "image/png": "[encoded data removed]",
      "text/plain": [
       "<Figure size 1440x720 with 1 Axes>"
      ]
     },
     "metadata": {},
     "output_type": "display_data"
    }
   ],
   "source": [
    "plt.figure(figsize=(20, 10))\n",
    "plt.plot(male_df_aggs.index, male_df_aggs['mean'].values, label=\"male\")\n",
    "plt.plot(female_df_aggs.index, female_df_aggs['mean'].values, label=\"female\")\n",
    "plt.plot(df_aggs.index, df_aggs['mean'].values, label=\"all\")\n",
    "plt.plot(df_aggs.index, unknown_df_aggs['mean'].values, label=\"unknown\")\n",
    "plt.title(\"Average rating per year by gender\", fontsize=20)\n",
    "plt.xlabel(\"Year\", fontsize=15)\n",
    "plt.ylabel(\"Average rating\", fontsize=15)\n",
    "plt.legend()\n",
    "plt.savefig(\"average_rating_per_year.jpg\")"
   ]
  },
  {
   "cell_type": "markdown",
   "metadata": {},
   "source": [
    "There is a significant difference between the average male and female chess ratings and the difference, about 250 remains relatively consistent over this timeframe. The average for males is about 1450 and for females is about 1200."
   ]
  },
  {
   "cell_type": "code",
   "execution_count": 48,
   "metadata": {},
   "outputs": [
    {
     "data": {
      "image/png": "[encoded data removed]",
      "text/plain": [
       "<Figure size 1440x720 with 1 Axes>"
      ]
     },
     "metadata": {},
     "output_type": "display_data"
    }
   ],
   "source": [
    "plt.figure(figsize=(20, 10))\n",
    "plt.plot(male_df_aggs.index, male_df_aggs['median'].values, label=\"male\")\n",
    "plt.plot(female_df_aggs.index, female_df_aggs['median'].values, label=\"female\")\n",
    "plt.plot(unknown_df_aggs.index, unknown_df_aggs['median'].values, label=\"unknown\")\n",
    "plt.plot(df_aggs.index, df_aggs['median'].values, label=\"all\")\n",
    "#plt.errorbar(df_aggs.index, df_aggs['mean'].values, df_aggs['std'].values, label=\"average\")\n",
    "plt.title(\"Median rating per year by gender\", fontsize=20)\n",
    "plt.xlabel(\"Year\", fontsize=15)\n",
    "plt.ylabel(\"Median rating\", fontsize=15)\n",
    "plt.legend()\n",
    "plt.savefig(\"Median_rating_per_year.jpg\")"
   ]
  },
  {
   "cell_type": "code",
   "execution_count": 49,
   "metadata": {},
   "outputs": [
    {
     "data": {
      "image/png": "[encoded data removed]",
      "text/plain": [
       "<Figure size 1440x720 with 1 Axes>"
      ]
     },
     "metadata": {},
     "output_type": "display_data"
    }
   ],
   "source": [
    "plt.figure(figsize=(20, 10))\n",
    "plt.plot(male_df_aggs.index, male_df_aggs['max'].values, label=\"male\")\n",
    "plt.plot(female_df_aggs.index, female_df_aggs['max'].values, label=\"female\")\n",
    "plt.plot(unknown_df_aggs.index, unknown_df_aggs['max'].values, label=\"unknown\")\n",
    "plt.plot(df_aggs.index, df_aggs['max'].values, label=\"all\")\n",
    "#plt.errorbar(df_aggs.index, df_aggs['mean'].values, df_aggs['std'].values, label=\"average\")\n",
    "plt.title(\"Max rating per year by gender\", fontsize=20)\n",
    "plt.xlabel(\"Year\", fontsize=15)\n",
    "plt.ylabel(\"Max rating\", fontsize=15)\n",
    "plt.legend()\n",
    "plt.savefig(\"Max_rating_per_year.jpg\")"
   ]
  },
  {
   "cell_type": "markdown",
   "metadata": {},
   "source": [
    "Now we can understand why the average and median rating has not been going up because the max hasn't either. We should also consider that rating is similar to a log scale."
   ]
  },
  {
   "cell_type": "code",
   "execution_count": 50,
   "metadata": {},
   "outputs": [
    {
     "data": {
      "image/png": "[encoded data removed]",
      "text/plain": [
       "<Figure size 1440x720 with 1 Axes>"
      ]
     },
     "metadata": {},
     "output_type": "display_data"
    }
   ],
   "source": [
    "plt.figure(figsize=(20, 10))\n",
    "plt.plot(male_df_aggs.index, male_df_aggs['std'].values, label=\"male\")\n",
    "plt.plot(female_df_aggs.index, female_df_aggs['std'].values, label=\"female\")\n",
    "plt.plot(df_aggs.index, df_aggs['std'].values, label=\"all\")\n",
    "plt.plot(unknown_df_aggs.index, unknown_df_aggs['std'].values, label=\"unknown\")\n",
    "#plt.errorbar(df_aggs.index, df_aggs['mean'].values, df_aggs['std'].values, label=\"average\")\n",
    "plt.title(\"Standard deviation of rating per year by gender\", fontsize=20)\n",
    "plt.xlabel(\"Year\", fontsize=15)\n",
    "plt.ylabel(\"Min rating\", fontsize=15)\n",
    "plt.legend()\n",
    "plt.savefig(\"std_rating_per_year.jpg\")"
   ]
  },
  {
   "cell_type": "code",
   "execution_count": 51,
   "metadata": {},
   "outputs": [
    {
     "ename": "KeyError",
     "evalue": "'mode'",
     "output_type": "error",
     "traceback": [
      "\u001b[1;31m---------------------------------------------------------------------------\u001b[0m",
      "\u001b[1;31mKeyError\u001b[0m                                  Traceback (most recent call last)",
      "\u001b[1;32m~\\Anaconda3\\lib\\site-packages\\pandas\\core\\indexes\\base.py\u001b[0m in \u001b[0;36mget_loc\u001b[1;34m(self, key, method, tolerance)\u001b[0m\n\u001b[0;32m   2655\u001b[0m             \u001b[1;32mtry\u001b[0m\u001b[1;33m:\u001b[0m\u001b[1;33m\u001b[0m\u001b[0m\n\u001b[1;32m-> 2656\u001b[1;33m                 \u001b[1;32mreturn\u001b[0m \u001b[0mself\u001b[0m\u001b[1;33m.\u001b[0m\u001b[0m_engine\u001b[0m\u001b[1;33m.\u001b[0m\u001b[0mget_loc\u001b[0m\u001b[1;33m(\u001b[0m\u001b[0mkey\u001b[0m\u001b[1;33m)\u001b[0m\u001b[1;33m\u001b[0m\u001b[0m\n\u001b[0m\u001b[0;32m   2657\u001b[0m             \u001b[1;32mexcept\u001b[0m \u001b[0mKeyError\u001b[0m\u001b[1;33m:\u001b[0m\u001b[1;33m\u001b[0m\u001b[0m\n",
      "\u001b[1;32mpandas\\_libs\\index.pyx\u001b[0m in \u001b[0;36mpandas._libs.index.IndexEngine.get_loc\u001b[1;34m()\u001b[0m\n",
      "\u001b[1;32mpandas\\_libs\\index.pyx\u001b[0m in \u001b[0;36mpandas._libs.index.IndexEngine.get_loc\u001b[1;34m()\u001b[0m\n",
      "\u001b[1;32mpandas\\_libs\\hashtable_class_helper.pxi\u001b[0m in \u001b[0;36mpandas._libs.hashtable.PyObjectHashTable.get_item\u001b[1;34m()\u001b[0m\n",
      "\u001b[1;32mpandas\\_libs\\hashtable_class_helper.pxi\u001b[0m in \u001b[0;36mpandas._libs.hashtable.PyObjectHashTable.get_item\u001b[1;34m()\u001b[0m\n",
      "\u001b[1;31mKeyError\u001b[0m: 'mode'",
      "\nDuring handling of the above exception, another exception occurred:\n",
      "\u001b[1;31mKeyError\u001b[0m                                  Traceback (most recent call last)",
      "\u001b[1;32m<ipython-input-51-e6f3d43247fe>\u001b[0m in \u001b[0;36m<module>\u001b[1;34m()\u001b[0m\n\u001b[0;32m      1\u001b[0m \u001b[0mplt\u001b[0m\u001b[1;33m.\u001b[0m\u001b[0mfigure\u001b[0m\u001b[1;33m(\u001b[0m\u001b[0mfigsize\u001b[0m\u001b[1;33m=\u001b[0m\u001b[1;33m(\u001b[0m\u001b[1;36m20\u001b[0m\u001b[1;33m,\u001b[0m \u001b[1;36m10\u001b[0m\u001b[1;33m)\u001b[0m\u001b[1;33m)\u001b[0m\u001b[1;33m\u001b[0m\u001b[0m\n\u001b[0;32m      2\u001b[0m \u001b[0mplt\u001b[0m\u001b[1;33m.\u001b[0m\u001b[0mplot\u001b[0m\u001b[1;33m(\u001b[0m\u001b[0mmale_df_aggs\u001b[0m\u001b[1;33m.\u001b[0m\u001b[0mindex\u001b[0m\u001b[1;33m,\u001b[0m \u001b[0mmale_df_aggs\u001b[0m\u001b[1;33m[\u001b[0m\u001b[1;34m'mode'\u001b[0m\u001b[1;33m]\u001b[0m\u001b[1;33m.\u001b[0m\u001b[0mvalues\u001b[0m\u001b[1;33m,\u001b[0m \u001b[0mlabel\u001b[0m\u001b[1;33m=\u001b[0m\u001b[1;34m\"male\"\u001b[0m\u001b[1;33m)\u001b[0m\u001b[1;33m\u001b[0m\u001b[0m\n\u001b[1;32m----> 3\u001b[1;33m \u001b[0mplt\u001b[0m\u001b[1;33m.\u001b[0m\u001b[0mplot\u001b[0m\u001b[1;33m(\u001b[0m\u001b[0mfemale_df_aggs\u001b[0m\u001b[1;33m.\u001b[0m\u001b[0mindex\u001b[0m\u001b[1;33m,\u001b[0m \u001b[0mfemale_df_aggs\u001b[0m\u001b[1;33m[\u001b[0m\u001b[1;34m'mode'\u001b[0m\u001b[1;33m]\u001b[0m\u001b[1;33m.\u001b[0m\u001b[0mvalues\u001b[0m\u001b[1;33m,\u001b[0m \u001b[0mlabel\u001b[0m\u001b[1;33m=\u001b[0m\u001b[1;34m\"female\"\u001b[0m\u001b[1;33m)\u001b[0m\u001b[1;33m\u001b[0m\u001b[0m\n\u001b[0m\u001b[0;32m      4\u001b[0m \u001b[0mplt\u001b[0m\u001b[1;33m.\u001b[0m\u001b[0mplot\u001b[0m\u001b[1;33m(\u001b[0m\u001b[0mdf_aggs\u001b[0m\u001b[1;33m.\u001b[0m\u001b[0mindex\u001b[0m\u001b[1;33m,\u001b[0m \u001b[0mdf_aggs\u001b[0m\u001b[1;33m[\u001b[0m\u001b[1;34m'mode'\u001b[0m\u001b[1;33m]\u001b[0m\u001b[1;33m.\u001b[0m\u001b[0mvalues\u001b[0m\u001b[1;33m,\u001b[0m \u001b[0mlabel\u001b[0m\u001b[1;33m=\u001b[0m\u001b[1;34m\"all\"\u001b[0m\u001b[1;33m)\u001b[0m\u001b[1;33m\u001b[0m\u001b[0m\n\u001b[0;32m      5\u001b[0m \u001b[0mplt\u001b[0m\u001b[1;33m.\u001b[0m\u001b[0mplot\u001b[0m\u001b[1;33m(\u001b[0m\u001b[0munknown_df_aggs\u001b[0m\u001b[1;33m.\u001b[0m\u001b[0mindex\u001b[0m\u001b[1;33m,\u001b[0m \u001b[0munknown_df_aggs\u001b[0m\u001b[1;33m[\u001b[0m\u001b[1;34m'mode'\u001b[0m\u001b[1;33m]\u001b[0m\u001b[1;33m.\u001b[0m\u001b[0mvalues\u001b[0m\u001b[1;33m,\u001b[0m \u001b[0mlabel\u001b[0m\u001b[1;33m=\u001b[0m\u001b[1;34m\"unknown\"\u001b[0m\u001b[1;33m)\u001b[0m\u001b[1;33m\u001b[0m\u001b[0m\n",
      "\u001b[1;32m~\\Anaconda3\\lib\\site-packages\\pandas\\core\\frame.py\u001b[0m in \u001b[0;36m__getitem__\u001b[1;34m(self, key)\u001b[0m\n\u001b[0;32m   2925\u001b[0m             \u001b[1;32mif\u001b[0m \u001b[0mself\u001b[0m\u001b[1;33m.\u001b[0m\u001b[0mcolumns\u001b[0m\u001b[1;33m.\u001b[0m\u001b[0mnlevels\u001b[0m \u001b[1;33m>\u001b[0m \u001b[1;36m1\u001b[0m\u001b[1;33m:\u001b[0m\u001b[1;33m\u001b[0m\u001b[0m\n\u001b[0;32m   2926\u001b[0m                 \u001b[1;32mreturn\u001b[0m \u001b[0mself\u001b[0m\u001b[1;33m.\u001b[0m\u001b[0m_getitem_multilevel\u001b[0m\u001b[1;33m(\u001b[0m\u001b[0mkey\u001b[0m\u001b[1;33m)\u001b[0m\u001b[1;33m\u001b[0m\u001b[0m\n\u001b[1;32m-> 2927\u001b[1;33m             \u001b[0mindexer\u001b[0m \u001b[1;33m=\u001b[0m \u001b[0mself\u001b[0m\u001b[1;33m.\u001b[0m\u001b[0mcolumns\u001b[0m\u001b[1;33m.\u001b[0m\u001b[0mget_loc\u001b[0m\u001b[1;33m(\u001b[0m\u001b[0mkey\u001b[0m\u001b[1;33m)\u001b[0m\u001b[1;33m\u001b[0m\u001b[0m\n\u001b[0m\u001b[0;32m   2928\u001b[0m             \u001b[1;32mif\u001b[0m \u001b[0mis_integer\u001b[0m\u001b[1;33m(\u001b[0m\u001b[0mindexer\u001b[0m\u001b[1;33m)\u001b[0m\u001b[1;33m:\u001b[0m\u001b[1;33m\u001b[0m\u001b[0m\n\u001b[0;32m   2929\u001b[0m                 \u001b[0mindexer\u001b[0m \u001b[1;33m=\u001b[0m \u001b[1;33m[\u001b[0m\u001b[0mindexer\u001b[0m\u001b[1;33m]\u001b[0m\u001b[1;33m\u001b[0m\u001b[0m\n",
      "\u001b[1;32m~\\Anaconda3\\lib\\site-packages\\pandas\\core\\indexes\\base.py\u001b[0m in \u001b[0;36mget_loc\u001b[1;34m(self, key, method, tolerance)\u001b[0m\n\u001b[0;32m   2656\u001b[0m                 \u001b[1;32mreturn\u001b[0m \u001b[0mself\u001b[0m\u001b[1;33m.\u001b[0m\u001b[0m_engine\u001b[0m\u001b[1;33m.\u001b[0m\u001b[0mget_loc\u001b[0m\u001b[1;33m(\u001b[0m\u001b[0mkey\u001b[0m\u001b[1;33m)\u001b[0m\u001b[1;33m\u001b[0m\u001b[0m\n\u001b[0;32m   2657\u001b[0m             \u001b[1;32mexcept\u001b[0m \u001b[0mKeyError\u001b[0m\u001b[1;33m:\u001b[0m\u001b[1;33m\u001b[0m\u001b[0m\n\u001b[1;32m-> 2658\u001b[1;33m                 \u001b[1;32mreturn\u001b[0m \u001b[0mself\u001b[0m\u001b[1;33m.\u001b[0m\u001b[0m_engine\u001b[0m\u001b[1;33m.\u001b[0m\u001b[0mget_loc\u001b[0m\u001b[1;33m(\u001b[0m\u001b[0mself\u001b[0m\u001b[1;33m.\u001b[0m\u001b[0m_maybe_cast_indexer\u001b[0m\u001b[1;33m(\u001b[0m\u001b[0mkey\u001b[0m\u001b[1;33m)\u001b[0m\u001b[1;33m)\u001b[0m\u001b[1;33m\u001b[0m\u001b[0m\n\u001b[0m\u001b[0;32m   2659\u001b[0m         \u001b[0mindexer\u001b[0m \u001b[1;33m=\u001b[0m \u001b[0mself\u001b[0m\u001b[1;33m.\u001b[0m\u001b[0mget_indexer\u001b[0m\u001b[1;33m(\u001b[0m\u001b[1;33m[\u001b[0m\u001b[0mkey\u001b[0m\u001b[1;33m]\u001b[0m\u001b[1;33m,\u001b[0m \u001b[0mmethod\u001b[0m\u001b[1;33m=\u001b[0m\u001b[0mmethod\u001b[0m\u001b[1;33m,\u001b[0m \u001b[0mtolerance\u001b[0m\u001b[1;33m=\u001b[0m\u001b[0mtolerance\u001b[0m\u001b[1;33m)\u001b[0m\u001b[1;33m\u001b[0m\u001b[0m\n\u001b[0;32m   2660\u001b[0m         \u001b[1;32mif\u001b[0m \u001b[0mindexer\u001b[0m\u001b[1;33m.\u001b[0m\u001b[0mndim\u001b[0m \u001b[1;33m>\u001b[0m \u001b[1;36m1\u001b[0m \u001b[1;32mor\u001b[0m \u001b[0mindexer\u001b[0m\u001b[1;33m.\u001b[0m\u001b[0msize\u001b[0m \u001b[1;33m>\u001b[0m \u001b[1;36m1\u001b[0m\u001b[1;33m:\u001b[0m\u001b[1;33m\u001b[0m\u001b[0m\n",
      "\u001b[1;32mpandas\\_libs\\index.pyx\u001b[0m in \u001b[0;36mpandas._libs.index.IndexEngine.get_loc\u001b[1;34m()\u001b[0m\n",
      "\u001b[1;32mpandas\\_libs\\index.pyx\u001b[0m in \u001b[0;36mpandas._libs.index.IndexEngine.get_loc\u001b[1;34m()\u001b[0m\n",
      "\u001b[1;32mpandas\\_libs\\hashtable_class_helper.pxi\u001b[0m in \u001b[0;36mpandas._libs.hashtable.PyObjectHashTable.get_item\u001b[1;34m()\u001b[0m\n",
      "\u001b[1;32mpandas\\_libs\\hashtable_class_helper.pxi\u001b[0m in \u001b[0;36mpandas._libs.hashtable.PyObjectHashTable.get_item\u001b[1;34m()\u001b[0m\n",
      "\u001b[1;31mKeyError\u001b[0m: 'mode'"
     ]
    },
    {
     "data": {
      "image/png": "[encoded data removed]",
      "text/plain": [
       "<Figure size 1440x720 with 1 Axes>"
      ]
     },
     "metadata": {},
     "output_type": "display_data"
    }
   ],
   "source": [
    "plt.figure(figsize=(20, 10))\n",
    "plt.plot(male_df_aggs.index, male_df_aggs['mode'].values, label=\"male\")\n",
    "plt.plot(female_df_aggs.index, female_df_aggs['mode'].values, label=\"female\")\n",
    "plt.plot(df_aggs.index, df_aggs['mode'].values, label=\"all\")\n",
    "plt.plot(unknown_df_aggs.index, unknown_df_aggs['mode'].values, label=\"unknown\")\n",
    "#plt.errorbar(df_aggs.index, df_aggs['mean'].values, df_aggs['std'].values, label=\"average\")\n",
    "plt.title(\"Mode of rating per year by gender\", fontsize=20)\n",
    "plt.xlabel(\"Year\", fontsize=15)\n",
    "plt.ylabel(\"Min rating\", fontsize=15)\n",
    "plt.legend()\n",
    "plt.savefig(\"mode_rating_per_year.jpg\")"
   ]
  },
  {
   "cell_type": "code",
   "execution_count": 61,
   "metadata": {},
   "outputs": [
    {
     "name": "stderr",
     "output_type": "stream",
     "text": [
      "C:\\Users\\Michael\\Anaconda3\\lib\\site-packages\\scipy\\stats\\stats.py:1713: FutureWarning: Using a non-tuple sequence for multidimensional indexing is deprecated; use `arr[tuple(seq)]` instead of `arr[seq]`. In the future this will be interpreted as an array index, `arr[np.array(seq)]`, which will result either in an error or a different result.\n",
      "  return np.add.reduce(sorted[indexer] * weights, axis=axis) / sumval\n"
     ]
    },
    {
     "data": {
      "image/png": "[encoded data removed]",
      "text/plain": [
       "<Figure size 1440x720 with 1 Axes>"
      ]
     },
     "metadata": {},
     "output_type": "display_data"
    }
   ],
   "source": [
    "plt.figure(figsize=(20, 10))\n",
    "labels = [\"all\", \"male\", \"female\", \"unknown\"]\n",
    "for index, df in enumerate([df_aggs, male_df_aggs, female_df_aggs, unknown_df_aggs]):\n",
    "    ratings_2019 = df.iloc[28, :]\n",
    "    ratings_2019.isnull().sum()\n",
    "    ratings_2019_clean = ratings_2019.dropna()\n",
    "    count = 0\n",
    "    ratings_list = []\n",
    "    for row in ratings_2019_clean:\n",
    "        if row == \"NA\":\n",
    "            count += 1\n",
    "        else:\n",
    "            ratings_list.append(row)\n",
    "    sns.distplot(ratings_list, label=labels[index], bins=30)\n",
    "    plt.title(\"Distribution of ratings\", fontsize=20)\n",
    "    plt.xlabel(\"Rating\", fontsize=15)\n",
    "    plt.ylabel(\"Percentage\", fontsize=15)\n",
    "plt.legend()\n",
    "plt.savefig(\"rating_distributions.jpg\")"
   ]
  },
  {
   "cell_type": "markdown",
   "metadata": {},
   "source": [
    "## df_aggs to sql"
   ]
  },
  {
   "cell_type": "code",
   "execution_count": 4,
   "metadata": {},
   "outputs": [],
   "source": [
    "df_aggs = pd.read_csv(\"df_aggs.csv\")"
   ]
  },
  {
   "cell_type": "code",
   "execution_count": 11,
   "metadata": {},
   "outputs": [],
   "source": [
    "df_aggs.rename(index=str, columns={\"Unnamed: 0\": \"date\"}, inplace=True)"
   ]
  },
  {
   "cell_type": "code",
   "execution_count": 12,
   "metadata": {},
   "outputs": [
    {
     "data": {
      "text/html": [
       "<div>\n",
       "<style scoped>\n",
       "    .dataframe tbody tr th:only-of-type {\n",
       "        vertical-align: middle;\n",
       "    }\n",
       "\n",
       "    .dataframe tbody tr th {\n",
       "        vertical-align: top;\n",
       "    }\n",
       "\n",
       "    .dataframe thead th {\n",
       "        text-align: right;\n",
       "    }\n",
       "</style>\n",
       "<table border=\"1\" class=\"dataframe\">\n",
       "  <thead>\n",
       "    <tr style=\"text-align: right;\">\n",
       "      <th></th>\n",
       "      <th>date</th>\n",
       "      <th>12582912</th>\n",
       "      <th>12582913</th>\n",
       "      <th>12582914</th>\n",
       "      <th>12582916</th>\n",
       "      <th>12582917</th>\n",
       "      <th>12582918</th>\n",
       "      <th>12582919</th>\n",
       "      <th>12582920</th>\n",
       "      <th>12582921</th>\n",
       "      <th>...</th>\n",
       "      <th>12582904</th>\n",
       "      <th>12582905</th>\n",
       "      <th>12582906</th>\n",
       "      <th>12582907</th>\n",
       "      <th>12582908</th>\n",
       "      <th>12582909</th>\n",
       "      <th>12582910</th>\n",
       "      <th>12582911</th>\n",
       "      <th>mean</th>\n",
       "      <th>std</th>\n",
       "    </tr>\n",
       "  </thead>\n",
       "  <tbody>\n",
       "    <tr>\n",
       "      <th>0</th>\n",
       "      <td>1991</td>\n",
       "      <td>NaN</td>\n",
       "      <td>NaN</td>\n",
       "      <td>NaN</td>\n",
       "      <td>NaN</td>\n",
       "      <td>NaN</td>\n",
       "      <td>NaN</td>\n",
       "      <td>NaN</td>\n",
       "      <td>NaN</td>\n",
       "      <td>NaN</td>\n",
       "      <td>...</td>\n",
       "      <td>NaN</td>\n",
       "      <td>NaN</td>\n",
       "      <td>NaN</td>\n",
       "      <td>NaN</td>\n",
       "      <td>NaN</td>\n",
       "      <td>NaN</td>\n",
       "      <td>NaN</td>\n",
       "      <td>NaN</td>\n",
       "      <td>1460.779968</td>\n",
       "      <td>401.268542</td>\n",
       "    </tr>\n",
       "    <tr>\n",
       "      <th>1</th>\n",
       "      <td>1992</td>\n",
       "      <td>1451.0</td>\n",
       "      <td>2356.0</td>\n",
       "      <td>NaN</td>\n",
       "      <td>1125.0</td>\n",
       "      <td>1535.0</td>\n",
       "      <td>1203.0</td>\n",
       "      <td>1237.0</td>\n",
       "      <td>1522.0</td>\n",
       "      <td>882.0</td>\n",
       "      <td>...</td>\n",
       "      <td>417.0</td>\n",
       "      <td>619.0</td>\n",
       "      <td>1528.0</td>\n",
       "      <td>1377.0</td>\n",
       "      <td>1765.0</td>\n",
       "      <td>1056.0</td>\n",
       "      <td>870.0</td>\n",
       "      <td>607.0</td>\n",
       "      <td>1462.073849</td>\n",
       "      <td>397.810118</td>\n",
       "    </tr>\n",
       "    <tr>\n",
       "      <th>2</th>\n",
       "      <td>1993</td>\n",
       "      <td>1434.0</td>\n",
       "      <td>2259.0</td>\n",
       "      <td>1213.0</td>\n",
       "      <td>1125.0</td>\n",
       "      <td>1535.0</td>\n",
       "      <td>1203.0</td>\n",
       "      <td>1237.0</td>\n",
       "      <td>1574.0</td>\n",
       "      <td>882.0</td>\n",
       "      <td>...</td>\n",
       "      <td>545.0</td>\n",
       "      <td>619.0</td>\n",
       "      <td>1501.0</td>\n",
       "      <td>1291.0</td>\n",
       "      <td>1355.0</td>\n",
       "      <td>756.0</td>\n",
       "      <td>1017.0</td>\n",
       "      <td>607.0</td>\n",
       "      <td>1469.781914</td>\n",
       "      <td>397.131193</td>\n",
       "    </tr>\n",
       "    <tr>\n",
       "      <th>3</th>\n",
       "      <td>1994</td>\n",
       "      <td>1485.0</td>\n",
       "      <td>2259.0</td>\n",
       "      <td>1125.0</td>\n",
       "      <td>1125.0</td>\n",
       "      <td>1535.0</td>\n",
       "      <td>1203.0</td>\n",
       "      <td>1237.0</td>\n",
       "      <td>1574.0</td>\n",
       "      <td>882.0</td>\n",
       "      <td>...</td>\n",
       "      <td>618.0</td>\n",
       "      <td>619.0</td>\n",
       "      <td>1477.0</td>\n",
       "      <td>1646.0</td>\n",
       "      <td>1355.0</td>\n",
       "      <td>756.0</td>\n",
       "      <td>1017.0</td>\n",
       "      <td>607.0</td>\n",
       "      <td>1473.684966</td>\n",
       "      <td>397.726332</td>\n",
       "    </tr>\n",
       "    <tr>\n",
       "      <th>4</th>\n",
       "      <td>1995</td>\n",
       "      <td>1485.0</td>\n",
       "      <td>2259.0</td>\n",
       "      <td>1125.0</td>\n",
       "      <td>1192.0</td>\n",
       "      <td>1535.0</td>\n",
       "      <td>1203.0</td>\n",
       "      <td>1237.0</td>\n",
       "      <td>1574.0</td>\n",
       "      <td>882.0</td>\n",
       "      <td>...</td>\n",
       "      <td>618.0</td>\n",
       "      <td>619.0</td>\n",
       "      <td>1481.0</td>\n",
       "      <td>1760.0</td>\n",
       "      <td>1355.0</td>\n",
       "      <td>781.0</td>\n",
       "      <td>1017.0</td>\n",
       "      <td>607.0</td>\n",
       "      <td>1472.955166</td>\n",
       "      <td>399.040183</td>\n",
       "    </tr>\n",
       "  </tbody>\n",
       "</table>\n",
       "<p>5 rows × 290437 columns</p>\n",
       "</div>"
      ],
      "text/plain": [
       "   date  12582912  12582913  12582914  12582916  12582917  12582918  12582919  \\\n",
       "0  1991       NaN       NaN       NaN       NaN       NaN       NaN       NaN   \n",
       "1  1992    1451.0    2356.0       NaN    1125.0    1535.0    1203.0    1237.0   \n",
       "2  1993    1434.0    2259.0    1213.0    1125.0    1535.0    1203.0    1237.0   \n",
       "3  1994    1485.0    2259.0    1125.0    1125.0    1535.0    1203.0    1237.0   \n",
       "4  1995    1485.0    2259.0    1125.0    1192.0    1535.0    1203.0    1237.0   \n",
       "\n",
       "   12582920  12582921  ...  12582904  12582905  12582906  12582907  12582908  \\\n",
       "0       NaN       NaN  ...       NaN       NaN       NaN       NaN       NaN   \n",
       "1    1522.0     882.0  ...     417.0     619.0    1528.0    1377.0    1765.0   \n",
       "2    1574.0     882.0  ...     545.0     619.0    1501.0    1291.0    1355.0   \n",
       "3    1574.0     882.0  ...     618.0     619.0    1477.0    1646.0    1355.0   \n",
       "4    1574.0     882.0  ...     618.0     619.0    1481.0    1760.0    1355.0   \n",
       "\n",
       "   12582909  12582910  12582911         mean         std  \n",
       "0       NaN       NaN       NaN  1460.779968  401.268542  \n",
       "1    1056.0     870.0     607.0  1462.073849  397.810118  \n",
       "2     756.0    1017.0     607.0  1469.781914  397.131193  \n",
       "3     756.0    1017.0     607.0  1473.684966  397.726332  \n",
       "4     781.0    1017.0     607.0  1472.955166  399.040183  \n",
       "\n",
       "[5 rows x 290437 columns]"
      ]
     },
     "execution_count": 12,
     "metadata": {},
     "output_type": "execute_result"
    }
   ],
   "source": [
    "df_aggs.head()"
   ]
  },
  {
   "cell_type": "code",
   "execution_count": 14,
   "metadata": {},
   "outputs": [],
   "source": [
    "df_aggs.to_csv(\"dates_uids.csv\")"
   ]
  },
  {
   "cell_type": "code",
   "execution_count": 45,
   "metadata": {},
   "outputs": [],
   "source": [
    "ratings = [[] for _ in range(len(df_aggs['date']))]"
   ]
  },
  {
   "cell_type": "code",
   "execution_count": 46,
   "metadata": {},
   "outputs": [],
   "source": [
    "for i in range(len(df_aggs['date'])):\n",
    "    ratings[i] = df_aggs.iloc[i, 1:].values"
   ]
  },
  {
   "cell_type": "code",
   "execution_count": 47,
   "metadata": {},
   "outputs": [
    {
     "data": {
      "text/plain": [
       "[array([          nan,           nan,           nan, ...,           nan,\n",
       "        1460.77996845,  401.26854195]),\n",
       " array([1451.        , 2356.        ,           nan, ...,  607.        ,\n",
       "        1462.07384857,  397.81011759]),\n",
       " array([1434.        , 2259.        , 1213.        , ...,  607.        ,\n",
       "        1469.78191437,  397.13119251]),\n",
       " array([1485.        , 2259.        , 1125.        , ...,  607.        ,\n",
       "        1473.6849663 ,  397.72633198]),\n",
       " array([1485.        , 2259.        , 1125.        , ...,  607.        ,\n",
       "        1472.95516569,  399.04018256]),\n",
       " array([1485.        , 2259.        , 1211.        , ...,  607.        ,\n",
       "        1471.15156811,  400.25859023]),\n",
       " array([1485.        , 2259.        , 1235.        , ...,  607.        ,\n",
       "        1467.1391498 ,  401.63868689]),\n",
       " array([1485.        , 2259.        , 1251.        , ...,  607.        ,\n",
       "        1461.41577372,  402.55863253]),\n",
       " array([1485.        , 2259.        , 1243.        , ...,  607.        ,\n",
       "        1454.13803061,  402.50945216]),\n",
       " array([1485.        , 2259.        , 1292.        , ...,  607.        ,\n",
       "        1447.79120246,  401.80819094]),\n",
       " array([1485.        , 2259.        , 1316.        , ...,  607.        ,\n",
       "        1440.97235243,  402.24018351]),\n",
       " array([1485.        , 2259.        , 1399.        , ...,  607.        ,\n",
       "        1439.0977587 ,  402.57214676]),\n",
       " array([1485.        , 2259.        , 1389.        , ...,  607.        ,\n",
       "        1436.01701197,  402.75299467]),\n",
       " array([1485.        , 2259.        , 1389.        , ...,  607.        ,\n",
       "        1437.28468468,  402.28687575]),\n",
       " array([1485.        , 2259.        , 1458.        , ...,  607.        ,\n",
       "        1445.23674979,  398.61107189]),\n",
       " array([1485.        , 2259.        , 1451.        , ...,  607.        ,\n",
       "        1451.08822972,  397.47237748]),\n",
       " array([1485.        , 2259.        , 1443.        , ...,  607.        ,\n",
       "        1455.75717669,  397.03387025]),\n",
       " array([1485.        , 2259.        , 1429.        , ...,  607.        ,\n",
       "        1460.37728521,  397.30520217]),\n",
       " array([1485.        , 2259.        , 1414.        , ...,  607.        ,\n",
       "        1464.97329293,  398.12485066]),\n",
       " array([1485.        , 2259.        , 1433.        , ...,  607.        ,\n",
       "        1469.79602273,  400.22975344]),\n",
       " array([1485.        , 2259.        , 1427.        , ...,  607.        ,\n",
       "        1473.78892045,  401.4899576 ]),\n",
       " array([1485.        , 2259.        , 1451.        , ...,  607.        ,\n",
       "        1478.16912879,  402.55708024]),\n",
       " array([1485.        , 2259.        , 1453.        , ...,  607.        ,\n",
       "        1481.50681689,  403.85952726]),\n",
       " array([1485.        , 2259.        , 1485.        , ...,  607.        ,\n",
       "        1485.0506389 ,  405.70052937]),\n",
       " array([1485.        , 2259.        , 1414.        , ...,  607.        ,\n",
       "        1487.63691434,  406.76020174]),\n",
       " array([1485.        , 2259.        , 1414.        , ...,  607.        ,\n",
       "        1489.39078175,  407.01243418]),\n",
       " array([1485.        , 2259.        , 1433.        , ...,  607.        ,\n",
       "        1491.45575849,  406.40606556]),\n",
       " array([1485.        , 2259.        , 1425.        , ...,  607.        ,\n",
       "        1492.50099328,  405.59684752]),\n",
       " array([1485.        , 2259.        , 1425.        , ...,  607.        ,\n",
       "        1494.85687258,  403.58740048])]"
      ]
     },
     "execution_count": 47,
     "metadata": {},
     "output_type": "execute_result"
    }
   ],
   "source": [
    "ratings"
   ]
  },
  {
   "cell_type": "code",
   "execution_count": 48,
   "metadata": {},
   "outputs": [],
   "source": [
    "uid_date_ratings = pd.DataFrame()"
   ]
  },
  {
   "cell_type": "code",
   "execution_count": 51,
   "metadata": {},
   "outputs": [],
   "source": [
    "uid_date_ratings['uids'] = df_aggs.columns[1:]\n",
    "for i in range(len(df_aggs['date'])):\n",
    "    uid_date_ratings[df_aggs['date'][i]] = ratings[i]"
   ]
  },
  {
   "cell_type": "code",
   "execution_count": 52,
   "metadata": {},
   "outputs": [
    {
     "data": {
      "text/html": [
       "<div>\n",
       "<style scoped>\n",
       "    .dataframe tbody tr th:only-of-type {\n",
       "        vertical-align: middle;\n",
       "    }\n",
       "\n",
       "    .dataframe tbody tr th {\n",
       "        vertical-align: top;\n",
       "    }\n",
       "\n",
       "    .dataframe thead th {\n",
       "        text-align: right;\n",
       "    }\n",
       "</style>\n",
       "<table border=\"1\" class=\"dataframe\">\n",
       "  <thead>\n",
       "    <tr style=\"text-align: right;\">\n",
       "      <th></th>\n",
       "      <th>uids</th>\n",
       "      <th>1991</th>\n",
       "      <th>1992</th>\n",
       "      <th>1993</th>\n",
       "      <th>1994</th>\n",
       "      <th>1995</th>\n",
       "      <th>1996</th>\n",
       "      <th>1997</th>\n",
       "      <th>1998</th>\n",
       "      <th>1999</th>\n",
       "      <th>...</th>\n",
       "      <th>2010</th>\n",
       "      <th>2011</th>\n",
       "      <th>2012</th>\n",
       "      <th>2013</th>\n",
       "      <th>2014</th>\n",
       "      <th>2015</th>\n",
       "      <th>2016</th>\n",
       "      <th>2017</th>\n",
       "      <th>2018</th>\n",
       "      <th>2019</th>\n",
       "    </tr>\n",
       "  </thead>\n",
       "  <tbody>\n",
       "    <tr>\n",
       "      <th>0</th>\n",
       "      <td>12582912</td>\n",
       "      <td>NaN</td>\n",
       "      <td>1451.0</td>\n",
       "      <td>1434.0</td>\n",
       "      <td>1485.0</td>\n",
       "      <td>1485.0</td>\n",
       "      <td>1485.0</td>\n",
       "      <td>1485.0</td>\n",
       "      <td>1485.0</td>\n",
       "      <td>1485.0</td>\n",
       "      <td>...</td>\n",
       "      <td>1485.0</td>\n",
       "      <td>1485.0</td>\n",
       "      <td>1485.0</td>\n",
       "      <td>1485.0</td>\n",
       "      <td>1485.0</td>\n",
       "      <td>1485.0</td>\n",
       "      <td>1485.0</td>\n",
       "      <td>1485.0</td>\n",
       "      <td>1485.0</td>\n",
       "      <td>1485.0</td>\n",
       "    </tr>\n",
       "    <tr>\n",
       "      <th>1</th>\n",
       "      <td>12582913</td>\n",
       "      <td>NaN</td>\n",
       "      <td>2356.0</td>\n",
       "      <td>2259.0</td>\n",
       "      <td>2259.0</td>\n",
       "      <td>2259.0</td>\n",
       "      <td>2259.0</td>\n",
       "      <td>2259.0</td>\n",
       "      <td>2259.0</td>\n",
       "      <td>2259.0</td>\n",
       "      <td>...</td>\n",
       "      <td>2259.0</td>\n",
       "      <td>2259.0</td>\n",
       "      <td>2259.0</td>\n",
       "      <td>2259.0</td>\n",
       "      <td>2259.0</td>\n",
       "      <td>2259.0</td>\n",
       "      <td>2259.0</td>\n",
       "      <td>2259.0</td>\n",
       "      <td>2259.0</td>\n",
       "      <td>2259.0</td>\n",
       "    </tr>\n",
       "    <tr>\n",
       "      <th>2</th>\n",
       "      <td>12582914</td>\n",
       "      <td>NaN</td>\n",
       "      <td>NaN</td>\n",
       "      <td>1213.0</td>\n",
       "      <td>1125.0</td>\n",
       "      <td>1125.0</td>\n",
       "      <td>1211.0</td>\n",
       "      <td>1235.0</td>\n",
       "      <td>1251.0</td>\n",
       "      <td>1243.0</td>\n",
       "      <td>...</td>\n",
       "      <td>1433.0</td>\n",
       "      <td>1427.0</td>\n",
       "      <td>1451.0</td>\n",
       "      <td>1453.0</td>\n",
       "      <td>1485.0</td>\n",
       "      <td>1414.0</td>\n",
       "      <td>1414.0</td>\n",
       "      <td>1433.0</td>\n",
       "      <td>1425.0</td>\n",
       "      <td>1425.0</td>\n",
       "    </tr>\n",
       "    <tr>\n",
       "      <th>3</th>\n",
       "      <td>12582916</td>\n",
       "      <td>NaN</td>\n",
       "      <td>1125.0</td>\n",
       "      <td>1125.0</td>\n",
       "      <td>1125.0</td>\n",
       "      <td>1192.0</td>\n",
       "      <td>1192.0</td>\n",
       "      <td>1192.0</td>\n",
       "      <td>1192.0</td>\n",
       "      <td>1192.0</td>\n",
       "      <td>...</td>\n",
       "      <td>1192.0</td>\n",
       "      <td>1192.0</td>\n",
       "      <td>1192.0</td>\n",
       "      <td>1192.0</td>\n",
       "      <td>1192.0</td>\n",
       "      <td>1192.0</td>\n",
       "      <td>1192.0</td>\n",
       "      <td>1192.0</td>\n",
       "      <td>1192.0</td>\n",
       "      <td>1192.0</td>\n",
       "    </tr>\n",
       "    <tr>\n",
       "      <th>4</th>\n",
       "      <td>12582917</td>\n",
       "      <td>NaN</td>\n",
       "      <td>1535.0</td>\n",
       "      <td>1535.0</td>\n",
       "      <td>1535.0</td>\n",
       "      <td>1535.0</td>\n",
       "      <td>1535.0</td>\n",
       "      <td>1535.0</td>\n",
       "      <td>1535.0</td>\n",
       "      <td>1535.0</td>\n",
       "      <td>...</td>\n",
       "      <td>1518.0</td>\n",
       "      <td>1518.0</td>\n",
       "      <td>1518.0</td>\n",
       "      <td>1518.0</td>\n",
       "      <td>1518.0</td>\n",
       "      <td>1518.0</td>\n",
       "      <td>1518.0</td>\n",
       "      <td>1518.0</td>\n",
       "      <td>1518.0</td>\n",
       "      <td>1518.0</td>\n",
       "    </tr>\n",
       "  </tbody>\n",
       "</table>\n",
       "<p>5 rows × 30 columns</p>\n",
       "</div>"
      ],
      "text/plain": [
       "       uids  1991    1992    1993    1994    1995    1996    1997    1998  \\\n",
       "0  12582912   NaN  1451.0  1434.0  1485.0  1485.0  1485.0  1485.0  1485.0   \n",
       "1  12582913   NaN  2356.0  2259.0  2259.0  2259.0  2259.0  2259.0  2259.0   \n",
       "2  12582914   NaN     NaN  1213.0  1125.0  1125.0  1211.0  1235.0  1251.0   \n",
       "3  12582916   NaN  1125.0  1125.0  1125.0  1192.0  1192.0  1192.0  1192.0   \n",
       "4  12582917   NaN  1535.0  1535.0  1535.0  1535.0  1535.0  1535.0  1535.0   \n",
       "\n",
       "     1999  ...    2010    2011    2012    2013    2014    2015    2016  \\\n",
       "0  1485.0  ...  1485.0  1485.0  1485.0  1485.0  1485.0  1485.0  1485.0   \n",
       "1  2259.0  ...  2259.0  2259.0  2259.0  2259.0  2259.0  2259.0  2259.0   \n",
       "2  1243.0  ...  1433.0  1427.0  1451.0  1453.0  1485.0  1414.0  1414.0   \n",
       "3  1192.0  ...  1192.0  1192.0  1192.0  1192.0  1192.0  1192.0  1192.0   \n",
       "4  1535.0  ...  1518.0  1518.0  1518.0  1518.0  1518.0  1518.0  1518.0   \n",
       "\n",
       "     2017    2018    2019  \n",
       "0  1485.0  1485.0  1485.0  \n",
       "1  2259.0  2259.0  2259.0  \n",
       "2  1433.0  1425.0  1425.0  \n",
       "3  1192.0  1192.0  1192.0  \n",
       "4  1518.0  1518.0  1518.0  \n",
       "\n",
       "[5 rows x 30 columns]"
      ]
     },
     "execution_count": 52,
     "metadata": {},
     "output_type": "execute_result"
    }
   ],
   "source": [
    "uid_date_ratings.head()"
   ]
  },
  {
   "cell_type": "code",
   "execution_count": 57,
   "metadata": {},
   "outputs": [],
   "source": [
    "uid_date_ratings.to_csv(\"uid_date_ratings.csv\", index=False)"
   ]
  },
  {
   "cell_type": "markdown",
   "metadata": {},
   "source": [
    "# Looking at the number of tournaments per state"
   ]
  },
  {
   "cell_type": "code",
   "execution_count": 8,
   "metadata": {},
   "outputs": [],
   "source": [
    "events_df = pd.read_sql_query(\"SELECT state, COUNT(*) FROM events_dim GROUP BY state ORDER BY COUNT(*) DESC LIMIT 100;\", conn)"
   ]
  },
  {
   "cell_type": "code",
   "execution_count": 9,
   "metadata": {},
   "outputs": [
    {
     "data": {
      "text/html": [
       "<div>\n",
       "<style scoped>\n",
       "    .dataframe tbody tr th:only-of-type {\n",
       "        vertical-align: middle;\n",
       "    }\n",
       "\n",
       "    .dataframe tbody tr th {\n",
       "        vertical-align: top;\n",
       "    }\n",
       "\n",
       "    .dataframe thead th {\n",
       "        text-align: right;\n",
       "    }\n",
       "</style>\n",
       "<table border=\"1\" class=\"dataframe\">\n",
       "  <thead>\n",
       "    <tr style=\"text-align: right;\">\n",
       "      <th></th>\n",
       "      <th>state</th>\n",
       "      <th>COUNT(*)</th>\n",
       "    </tr>\n",
       "  </thead>\n",
       "  <tbody>\n",
       "    <tr>\n",
       "      <th>0</th>\n",
       "      <td>NY</td>\n",
       "      <td>24598</td>\n",
       "    </tr>\n",
       "    <tr>\n",
       "      <th>1</th>\n",
       "      <td>CA</td>\n",
       "      <td>20329</td>\n",
       "    </tr>\n",
       "    <tr>\n",
       "      <th>2</th>\n",
       "      <td>TX</td>\n",
       "      <td>16094</td>\n",
       "    </tr>\n",
       "    <tr>\n",
       "      <th>3</th>\n",
       "      <td>PA</td>\n",
       "      <td>10730</td>\n",
       "    </tr>\n",
       "    <tr>\n",
       "      <th>4</th>\n",
       "      <td>NJ</td>\n",
       "      <td>8560</td>\n",
       "    </tr>\n",
       "    <tr>\n",
       "      <th>5</th>\n",
       "      <td>OH</td>\n",
       "      <td>8320</td>\n",
       "    </tr>\n",
       "    <tr>\n",
       "      <th>6</th>\n",
       "      <td>AZ</td>\n",
       "      <td>7180</td>\n",
       "    </tr>\n",
       "    <tr>\n",
       "      <th>7</th>\n",
       "      <td>IL</td>\n",
       "      <td>6867</td>\n",
       "    </tr>\n",
       "    <tr>\n",
       "      <th>8</th>\n",
       "      <td>MA</td>\n",
       "      <td>6591</td>\n",
       "    </tr>\n",
       "    <tr>\n",
       "      <th>9</th>\n",
       "      <td>FL</td>\n",
       "      <td>6299</td>\n",
       "    </tr>\n",
       "    <tr>\n",
       "      <th>10</th>\n",
       "      <td>GA</td>\n",
       "      <td>5453</td>\n",
       "    </tr>\n",
       "    <tr>\n",
       "      <th>11</th>\n",
       "      <td>MN</td>\n",
       "      <td>4689</td>\n",
       "    </tr>\n",
       "    <tr>\n",
       "      <th>12</th>\n",
       "      <td>VA</td>\n",
       "      <td>4395</td>\n",
       "    </tr>\n",
       "    <tr>\n",
       "      <th>13</th>\n",
       "      <td>MI</td>\n",
       "      <td>4364</td>\n",
       "    </tr>\n",
       "    <tr>\n",
       "      <th>14</th>\n",
       "      <td>NC</td>\n",
       "      <td>4239</td>\n",
       "    </tr>\n",
       "    <tr>\n",
       "      <th>15</th>\n",
       "      <td>TN</td>\n",
       "      <td>4157</td>\n",
       "    </tr>\n",
       "    <tr>\n",
       "      <th>16</th>\n",
       "      <td>MD</td>\n",
       "      <td>4115</td>\n",
       "    </tr>\n",
       "    <tr>\n",
       "      <th>17</th>\n",
       "      <td>MO</td>\n",
       "      <td>3867</td>\n",
       "    </tr>\n",
       "    <tr>\n",
       "      <th>18</th>\n",
       "      <td>KY</td>\n",
       "      <td>3817</td>\n",
       "    </tr>\n",
       "    <tr>\n",
       "      <th>19</th>\n",
       "      <td>IN</td>\n",
       "      <td>3752</td>\n",
       "    </tr>\n",
       "    <tr>\n",
       "      <th>20</th>\n",
       "      <td>LA</td>\n",
       "      <td>3451</td>\n",
       "    </tr>\n",
       "    <tr>\n",
       "      <th>21</th>\n",
       "      <td>NV</td>\n",
       "      <td>3244</td>\n",
       "    </tr>\n",
       "    <tr>\n",
       "      <th>22</th>\n",
       "      <td>CO</td>\n",
       "      <td>3109</td>\n",
       "    </tr>\n",
       "    <tr>\n",
       "      <th>23</th>\n",
       "      <td>WA</td>\n",
       "      <td>2989</td>\n",
       "    </tr>\n",
       "    <tr>\n",
       "      <th>24</th>\n",
       "      <td>WI</td>\n",
       "      <td>2871</td>\n",
       "    </tr>\n",
       "    <tr>\n",
       "      <th>25</th>\n",
       "      <td>CT</td>\n",
       "      <td>2768</td>\n",
       "    </tr>\n",
       "    <tr>\n",
       "      <th>26</th>\n",
       "      <td>OR</td>\n",
       "      <td>2015</td>\n",
       "    </tr>\n",
       "    <tr>\n",
       "      <th>27</th>\n",
       "      <td>IA</td>\n",
       "      <td>1873</td>\n",
       "    </tr>\n",
       "    <tr>\n",
       "      <th>28</th>\n",
       "      <td>UT</td>\n",
       "      <td>1684</td>\n",
       "    </tr>\n",
       "    <tr>\n",
       "      <th>29</th>\n",
       "      <td>AL</td>\n",
       "      <td>1421</td>\n",
       "    </tr>\n",
       "    <tr>\n",
       "      <th>...</th>\n",
       "      <td>...</td>\n",
       "      <td>...</td>\n",
       "    </tr>\n",
       "    <tr>\n",
       "      <th>70</th>\n",
       "      <td>NOR</td>\n",
       "      <td>27</td>\n",
       "    </tr>\n",
       "    <tr>\n",
       "      <th>71</th>\n",
       "      <td>JAPAN</td>\n",
       "      <td>25</td>\n",
       "    </tr>\n",
       "    <tr>\n",
       "      <th>72</th>\n",
       "      <td>SRB</td>\n",
       "      <td>25</td>\n",
       "    </tr>\n",
       "    <tr>\n",
       "      <th>73</th>\n",
       "      <td>BERMUDA</td>\n",
       "      <td>22</td>\n",
       "    </tr>\n",
       "    <tr>\n",
       "      <th>74</th>\n",
       "      <td>TUR</td>\n",
       "      <td>19</td>\n",
       "    </tr>\n",
       "    <tr>\n",
       "      <th>75</th>\n",
       "      <td>ISL</td>\n",
       "      <td>17</td>\n",
       "    </tr>\n",
       "    <tr>\n",
       "      <th>76</th>\n",
       "      <td>THA</td>\n",
       "      <td>16</td>\n",
       "    </tr>\n",
       "    <tr>\n",
       "      <th>77</th>\n",
       "      <td>$100 (NY</td>\n",
       "      <td>14</td>\n",
       "    </tr>\n",
       "    <tr>\n",
       "      <th>78</th>\n",
       "      <td>AUS</td>\n",
       "      <td>14</td>\n",
       "    </tr>\n",
       "    <tr>\n",
       "      <th>79</th>\n",
       "      <td>BEL</td>\n",
       "      <td>14</td>\n",
       "    </tr>\n",
       "    <tr>\n",
       "      <th>80</th>\n",
       "      <td>DEN</td>\n",
       "      <td>14</td>\n",
       "    </tr>\n",
       "    <tr>\n",
       "      <th>81</th>\n",
       "      <td>CHN</td>\n",
       "      <td>13</td>\n",
       "    </tr>\n",
       "    <tr>\n",
       "      <th>82</th>\n",
       "      <td>N</td>\n",
       "      <td>13</td>\n",
       "    </tr>\n",
       "    <tr>\n",
       "      <th>83</th>\n",
       "      <td>POL</td>\n",
       "      <td>13</td>\n",
       "    </tr>\n",
       "    <tr>\n",
       "      <th>84</th>\n",
       "      <td>AZE</td>\n",
       "      <td>12</td>\n",
       "    </tr>\n",
       "    <tr>\n",
       "      <th>85</th>\n",
       "      <td>BRA</td>\n",
       "      <td>12</td>\n",
       "    </tr>\n",
       "    <tr>\n",
       "      <th>86</th>\n",
       "      <td>FIN</td>\n",
       "      <td>12</td>\n",
       "    </tr>\n",
       "    <tr>\n",
       "      <th>87</th>\n",
       "      <td>UZB</td>\n",
       "      <td>12</td>\n",
       "    </tr>\n",
       "    <tr>\n",
       "      <th>88</th>\n",
       "      <td>VI</td>\n",
       "      <td>12</td>\n",
       "    </tr>\n",
       "    <tr>\n",
       "      <th>89</th>\n",
       "      <td>BUL</td>\n",
       "      <td>11</td>\n",
       "    </tr>\n",
       "    <tr>\n",
       "      <th>90</th>\n",
       "      <td>CRO</td>\n",
       "      <td>11</td>\n",
       "    </tr>\n",
       "    <tr>\n",
       "      <th>91</th>\n",
       "      <td>MEDIUM) (IL</td>\n",
       "      <td>11</td>\n",
       "    </tr>\n",
       "    <tr>\n",
       "      <th>92</th>\n",
       "      <td>ROU</td>\n",
       "      <td>11</td>\n",
       "    </tr>\n",
       "    <tr>\n",
       "      <th>93</th>\n",
       "      <td>ISD</td>\n",
       "      <td>10</td>\n",
       "    </tr>\n",
       "    <tr>\n",
       "      <th>94</th>\n",
       "      <td>LAT</td>\n",
       "      <td>10</td>\n",
       "    </tr>\n",
       "    <tr>\n",
       "      <th>95</th>\n",
       "      <td>POR</td>\n",
       "      <td>10</td>\n",
       "    </tr>\n",
       "    <tr>\n",
       "      <th>96</th>\n",
       "      <td>UAE</td>\n",
       "      <td>10</td>\n",
       "    </tr>\n",
       "    <tr>\n",
       "      <th>97</th>\n",
       "      <td>AUT</td>\n",
       "      <td>9</td>\n",
       "    </tr>\n",
       "    <tr>\n",
       "      <th>98</th>\n",
       "      <td>GAME/30) (AZ</td>\n",
       "      <td>9</td>\n",
       "    </tr>\n",
       "    <tr>\n",
       "      <th>99</th>\n",
       "      <td>HUNGARY</td>\n",
       "      <td>9</td>\n",
       "    </tr>\n",
       "  </tbody>\n",
       "</table>\n",
       "<p>100 rows × 2 columns</p>\n",
       "</div>"
      ],
      "text/plain": [
       "           state  COUNT(*)\n",
       "0             NY     24598\n",
       "1             CA     20329\n",
       "2             TX     16094\n",
       "3             PA     10730\n",
       "4             NJ      8560\n",
       "5             OH      8320\n",
       "6             AZ      7180\n",
       "7             IL      6867\n",
       "8             MA      6591\n",
       "9             FL      6299\n",
       "10            GA      5453\n",
       "11            MN      4689\n",
       "12            VA      4395\n",
       "13            MI      4364\n",
       "14            NC      4239\n",
       "15            TN      4157\n",
       "16            MD      4115\n",
       "17            MO      3867\n",
       "18            KY      3817\n",
       "19            IN      3752\n",
       "20            LA      3451\n",
       "21            NV      3244\n",
       "22            CO      3109\n",
       "23            WA      2989\n",
       "24            WI      2871\n",
       "25            CT      2768\n",
       "26            OR      2015\n",
       "27            IA      1873\n",
       "28            UT      1684\n",
       "29            AL      1421\n",
       "..           ...       ...\n",
       "70           NOR        27\n",
       "71         JAPAN        25\n",
       "72           SRB        25\n",
       "73       BERMUDA        22\n",
       "74           TUR        19\n",
       "75           ISL        17\n",
       "76           THA        16\n",
       "77      $100 (NY        14\n",
       "78           AUS        14\n",
       "79           BEL        14\n",
       "80           DEN        14\n",
       "81           CHN        13\n",
       "82             N        13\n",
       "83           POL        13\n",
       "84           AZE        12\n",
       "85           BRA        12\n",
       "86           FIN        12\n",
       "87           UZB        12\n",
       "88            VI        12\n",
       "89           BUL        11\n",
       "90           CRO        11\n",
       "91   MEDIUM) (IL        11\n",
       "92           ROU        11\n",
       "93           ISD        10\n",
       "94           LAT        10\n",
       "95           POR        10\n",
       "96           UAE        10\n",
       "97           AUT         9\n",
       "98  GAME/30) (AZ         9\n",
       "99       HUNGARY         9\n",
       "\n",
       "[100 rows x 2 columns]"
      ]
     },
     "execution_count": 9,
     "metadata": {},
     "output_type": "execute_result"
    }
   ],
   "source": [
    "events_df"
   ]
  },
  {
   "cell_type": "markdown",
   "metadata": {},
   "source": [
    "Looks like I messed up getting the states"
   ]
  },
  {
   "cell_type": "code",
   "execution_count": 10,
   "metadata": {},
   "outputs": [],
   "source": [
    "events_df = pd.read_sql_query(\"SELECT * FROM events_dim;\", conn)"
   ]
  },
  {
   "cell_type": "code",
   "execution_count": 21,
   "metadata": {},
   "outputs": [
    {
     "data": {
      "text/plain": [
       "202409"
      ]
     },
     "execution_count": 21,
     "metadata": {},
     "output_type": "execute_result"
    }
   ],
   "source": [
    "len(events_df)"
   ]
  },
  {
   "cell_type": "code",
   "execution_count": 19,
   "metadata": {},
   "outputs": [],
   "source": [
    "states = []\n",
    "for s in events_df['state']:\n",
    "    adding = s.split()[-1][-2:]\n",
    "    if len(s) == 2:\n",
    "        states.append(s)\n",
    "#     if adding == \"-3\":\n",
    "#         print(s)\n",
    "#     states.append(adding)"
   ]
  },
  {
   "cell_type": "code",
   "execution_count": 20,
   "metadata": {},
   "outputs": [
    {
     "data": {
      "text/plain": [
       "199129"
      ]
     },
     "execution_count": 20,
     "metadata": {},
     "output_type": "execute_result"
    }
   ],
   "source": [
    "len(states)"
   ]
  },
  {
   "cell_type": "code",
   "execution_count": 23,
   "metadata": {},
   "outputs": [
    {
     "data": {
      "text/plain": [
       "0.016204813027088715"
      ]
     },
     "execution_count": 23,
     "metadata": {},
     "output_type": "execute_result"
    }
   ],
   "source": [
    "(len(events_df) - len(states)) / len(events_df)"
   ]
  },
  {
   "cell_type": "code",
   "execution_count": 29,
   "metadata": {},
   "outputs": [
    {
     "data": {
      "text/html": [
       "<div>\n",
       "<style scoped>\n",
       "    .dataframe tbody tr th:only-of-type {\n",
       "        vertical-align: middle;\n",
       "    }\n",
       "\n",
       "    .dataframe tbody tr th {\n",
       "        vertical-align: top;\n",
       "    }\n",
       "\n",
       "    .dataframe thead th {\n",
       "        text-align: right;\n",
       "    }\n",
       "</style>\n",
       "<table border=\"1\" class=\"dataframe\">\n",
       "  <thead>\n",
       "    <tr style=\"text-align: right;\">\n",
       "      <th></th>\n",
       "      <th>event_id</th>\n",
       "      <th>date</th>\n",
       "      <th>state</th>\n",
       "      <th>event_name</th>\n",
       "    </tr>\n",
       "  </thead>\n",
       "  <tbody>\n",
       "    <tr>\n",
       "      <th>0</th>\n",
       "      <td>199101282140</td>\n",
       "      <td>1991-01-28</td>\n",
       "      <td>CA</td>\n",
       "      <td>MISSION OAKS WINTER ACTION</td>\n",
       "    </tr>\n",
       "    <tr>\n",
       "      <th>1</th>\n",
       "      <td>199101310270</td>\n",
       "      <td>1991-01-31</td>\n",
       "      <td>MA</td>\n",
       "      <td>JANUARY TOURNAMENT</td>\n",
       "    </tr>\n",
       "    <tr>\n",
       "      <th>2</th>\n",
       "      <td>199102182150</td>\n",
       "      <td>1991-02-18</td>\n",
       "      <td>CA</td>\n",
       "      <td>FEB CARMICHAEL TOUR</td>\n",
       "    </tr>\n",
       "    <tr>\n",
       "      <th>3</th>\n",
       "      <td>199102260280</td>\n",
       "      <td>1991-02-26</td>\n",
       "      <td>MA</td>\n",
       "      <td>FRAMINGHAM FEB 4 SEC SWISS</td>\n",
       "    </tr>\n",
       "    <tr>\n",
       "      <th>4</th>\n",
       "      <td>199103170680</td>\n",
       "      <td>1991-03-17</td>\n",
       "      <td>NY</td>\n",
       "      <td>H.C.E.S. #40</td>\n",
       "    </tr>\n",
       "  </tbody>\n",
       "</table>\n",
       "</div>"
      ],
      "text/plain": [
       "       event_id        date state                  event_name\n",
       "0  199101282140  1991-01-28    CA  MISSION OAKS WINTER ACTION\n",
       "1  199101310270  1991-01-31    MA          JANUARY TOURNAMENT\n",
       "2  199102182150  1991-02-18    CA         FEB CARMICHAEL TOUR\n",
       "3  199102260280  1991-02-26    MA  FRAMINGHAM FEB 4 SEC SWISS\n",
       "4  199103170680  1991-03-17    NY                H.C.E.S. #40"
      ]
     },
     "execution_count": 29,
     "metadata": {},
     "output_type": "execute_result"
    }
   ],
   "source": [
    "events_df.head()"
   ]
  },
  {
   "cell_type": "code",
   "execution_count": 30,
   "metadata": {},
   "outputs": [],
   "source": [
    "# events_df_cleaned = pd.DataFrame()\n",
    "# events_df_cleaned['event_id'] = events_df['event_id']\n",
    "# events_df_cleaned['date'] = events_df['date']\n",
    "# events_df_cleaned['event_name'] = events_df['event_name']\n",
    "# events_df_cleaned['state'] = events_df['state']"
   ]
  },
  {
   "cell_type": "code",
   "execution_count": 38,
   "metadata": {},
   "outputs": [],
   "source": [
    "events_df_cleaned = pd.read_sql_query(\"SELECT * FROM events_dim WHERE length(state) = 2;\", conn)"
   ]
  },
  {
   "cell_type": "code",
   "execution_count": 41,
   "metadata": {},
   "outputs": [
    {
     "data": {
      "text/plain": [
       "True"
      ]
     },
     "execution_count": 41,
     "metadata": {},
     "output_type": "execute_result"
    }
   ],
   "source": [
    "len(events_df_cleaned) == len(states)"
   ]
  },
  {
   "cell_type": "markdown",
   "metadata": {},
   "source": [
    "Got the state incorrectly about 1.6% of the time, let's get rid of the incorrect ones for now, but maybe will rewrite the scraping during the summer. This happened because there is no set format for entering in the state of a tournament in the database unfortunately."
   ]
  },
  {
   "cell_type": "code",
   "execution_count": 42,
   "metadata": {},
   "outputs": [],
   "source": [
    "events_df_cleaned.to_sql('events_dim_cleaned', con=conn, if_exists='append', index=False)"
   ]
  },
  {
   "cell_type": "markdown",
   "metadata": {},
   "source": [
    "# Correlation between chess players in each state and number of tournaments"
   ]
  },
  {
   "cell_type": "code",
   "execution_count": 86,
   "metadata": {},
   "outputs": [],
   "source": [
    "users_state = pd.read_sql_query(\"SELECT COUNT(uid), state FROM users GROUP BY state ORDER BY COUNT(uid) DESC;\", conn)"
   ]
  },
  {
   "cell_type": "code",
   "execution_count": 87,
   "metadata": {},
   "outputs": [
    {
     "data": {
      "text/html": [
       "<div>\n",
       "<style scoped>\n",
       "    .dataframe tbody tr th:only-of-type {\n",
       "        vertical-align: middle;\n",
       "    }\n",
       "\n",
       "    .dataframe tbody tr th {\n",
       "        vertical-align: top;\n",
       "    }\n",
       "\n",
       "    .dataframe thead th {\n",
       "        text-align: right;\n",
       "    }\n",
       "</style>\n",
       "<table border=\"1\" class=\"dataframe\">\n",
       "  <thead>\n",
       "    <tr style=\"text-align: right;\">\n",
       "      <th></th>\n",
       "      <th>COUNT(uid)</th>\n",
       "      <th>state</th>\n",
       "    </tr>\n",
       "  </thead>\n",
       "  <tbody>\n",
       "    <tr>\n",
       "      <th>0</th>\n",
       "      <td>51125</td>\n",
       "      <td>CA</td>\n",
       "    </tr>\n",
       "    <tr>\n",
       "      <th>1</th>\n",
       "      <td>49802</td>\n",
       "      <td>NY</td>\n",
       "    </tr>\n",
       "    <tr>\n",
       "      <th>2</th>\n",
       "      <td>35380</td>\n",
       "      <td>TX</td>\n",
       "    </tr>\n",
       "    <tr>\n",
       "      <th>3</th>\n",
       "      <td>28796</td>\n",
       "      <td>IL</td>\n",
       "    </tr>\n",
       "    <tr>\n",
       "      <th>4</th>\n",
       "      <td>23794</td>\n",
       "      <td>FL</td>\n",
       "    </tr>\n",
       "  </tbody>\n",
       "</table>\n",
       "</div>"
      ],
      "text/plain": [
       "   COUNT(uid) state\n",
       "0       51125    CA\n",
       "1       49802    NY\n",
       "2       35380    TX\n",
       "3       28796    IL\n",
       "4       23794    FL"
      ]
     },
     "execution_count": 87,
     "metadata": {},
     "output_type": "execute_result"
    }
   ],
   "source": [
    "users_state.head()"
   ]
  },
  {
   "cell_type": "markdown",
   "metadata": {},
   "source": [
    "All users, vs. the joins in Tableau reduces the data"
   ]
  },
  {
   "cell_type": "code",
   "execution_count": 88,
   "metadata": {},
   "outputs": [],
   "source": [
    "events_state = pd.read_sql_query(\"SELECT COUNT('event id'), state FROM events_dim_cleaned GROUP BY state ORDER BY COUNT('event id') DESC;\", conn)"
   ]
  },
  {
   "cell_type": "code",
   "execution_count": 89,
   "metadata": {},
   "outputs": [
    {
     "data": {
      "text/html": [
       "<div>\n",
       "<style scoped>\n",
       "    .dataframe tbody tr th:only-of-type {\n",
       "        vertical-align: middle;\n",
       "    }\n",
       "\n",
       "    .dataframe tbody tr th {\n",
       "        vertical-align: top;\n",
       "    }\n",
       "\n",
       "    .dataframe thead th {\n",
       "        text-align: right;\n",
       "    }\n",
       "</style>\n",
       "<table border=\"1\" class=\"dataframe\">\n",
       "  <thead>\n",
       "    <tr style=\"text-align: right;\">\n",
       "      <th></th>\n",
       "      <th>COUNT('event id')</th>\n",
       "      <th>state</th>\n",
       "    </tr>\n",
       "  </thead>\n",
       "  <tbody>\n",
       "    <tr>\n",
       "      <th>0</th>\n",
       "      <td>24598</td>\n",
       "      <td>NY</td>\n",
       "    </tr>\n",
       "    <tr>\n",
       "      <th>1</th>\n",
       "      <td>20329</td>\n",
       "      <td>CA</td>\n",
       "    </tr>\n",
       "    <tr>\n",
       "      <th>2</th>\n",
       "      <td>16094</td>\n",
       "      <td>TX</td>\n",
       "    </tr>\n",
       "    <tr>\n",
       "      <th>3</th>\n",
       "      <td>10730</td>\n",
       "      <td>PA</td>\n",
       "    </tr>\n",
       "    <tr>\n",
       "      <th>4</th>\n",
       "      <td>8560</td>\n",
       "      <td>NJ</td>\n",
       "    </tr>\n",
       "  </tbody>\n",
       "</table>\n",
       "</div>"
      ],
      "text/plain": [
       "   COUNT('event id') state\n",
       "0              24598    NY\n",
       "1              20329    CA\n",
       "2              16094    TX\n",
       "3              10730    PA\n",
       "4               8560    NJ"
      ]
     },
     "execution_count": 89,
     "metadata": {},
     "output_type": "execute_result"
    }
   ],
   "source": [
    "events_state.head()"
   ]
  },
  {
   "cell_type": "code",
   "execution_count": 90,
   "metadata": {},
   "outputs": [
    {
     "data": {
      "text/html": [
       "<div>\n",
       "<style scoped>\n",
       "    .dataframe tbody tr th:only-of-type {\n",
       "        vertical-align: middle;\n",
       "    }\n",
       "\n",
       "    .dataframe tbody tr th {\n",
       "        vertical-align: top;\n",
       "    }\n",
       "\n",
       "    .dataframe thead th {\n",
       "        text-align: right;\n",
       "    }\n",
       "</style>\n",
       "<table border=\"1\" class=\"dataframe\">\n",
       "  <thead>\n",
       "    <tr style=\"text-align: right;\">\n",
       "      <th></th>\n",
       "      <th>COUNT('event id')</th>\n",
       "    </tr>\n",
       "    <tr>\n",
       "      <th>state</th>\n",
       "      <th></th>\n",
       "    </tr>\n",
       "  </thead>\n",
       "  <tbody>\n",
       "    <tr>\n",
       "      <th>NY</th>\n",
       "      <td>24598</td>\n",
       "    </tr>\n",
       "    <tr>\n",
       "      <th>CA</th>\n",
       "      <td>20329</td>\n",
       "    </tr>\n",
       "    <tr>\n",
       "      <th>TX</th>\n",
       "      <td>16094</td>\n",
       "    </tr>\n",
       "    <tr>\n",
       "      <th>PA</th>\n",
       "      <td>10730</td>\n",
       "    </tr>\n",
       "    <tr>\n",
       "      <th>NJ</th>\n",
       "      <td>8560</td>\n",
       "    </tr>\n",
       "    <tr>\n",
       "      <th>OH</th>\n",
       "      <td>8320</td>\n",
       "    </tr>\n",
       "    <tr>\n",
       "      <th>AZ</th>\n",
       "      <td>7180</td>\n",
       "    </tr>\n",
       "    <tr>\n",
       "      <th>IL</th>\n",
       "      <td>6867</td>\n",
       "    </tr>\n",
       "    <tr>\n",
       "      <th>MA</th>\n",
       "      <td>6591</td>\n",
       "    </tr>\n",
       "    <tr>\n",
       "      <th>FL</th>\n",
       "      <td>6299</td>\n",
       "    </tr>\n",
       "    <tr>\n",
       "      <th>GA</th>\n",
       "      <td>5453</td>\n",
       "    </tr>\n",
       "    <tr>\n",
       "      <th>MN</th>\n",
       "      <td>4689</td>\n",
       "    </tr>\n",
       "    <tr>\n",
       "      <th>VA</th>\n",
       "      <td>4395</td>\n",
       "    </tr>\n",
       "    <tr>\n",
       "      <th>MI</th>\n",
       "      <td>4364</td>\n",
       "    </tr>\n",
       "    <tr>\n",
       "      <th>NC</th>\n",
       "      <td>4239</td>\n",
       "    </tr>\n",
       "    <tr>\n",
       "      <th>TN</th>\n",
       "      <td>4157</td>\n",
       "    </tr>\n",
       "    <tr>\n",
       "      <th>MD</th>\n",
       "      <td>4115</td>\n",
       "    </tr>\n",
       "    <tr>\n",
       "      <th>MO</th>\n",
       "      <td>3867</td>\n",
       "    </tr>\n",
       "    <tr>\n",
       "      <th>KY</th>\n",
       "      <td>3817</td>\n",
       "    </tr>\n",
       "    <tr>\n",
       "      <th>IN</th>\n",
       "      <td>3752</td>\n",
       "    </tr>\n",
       "    <tr>\n",
       "      <th>LA</th>\n",
       "      <td>3451</td>\n",
       "    </tr>\n",
       "    <tr>\n",
       "      <th>NV</th>\n",
       "      <td>3244</td>\n",
       "    </tr>\n",
       "    <tr>\n",
       "      <th>CO</th>\n",
       "      <td>3109</td>\n",
       "    </tr>\n",
       "    <tr>\n",
       "      <th>WA</th>\n",
       "      <td>2989</td>\n",
       "    </tr>\n",
       "    <tr>\n",
       "      <th>WI</th>\n",
       "      <td>2871</td>\n",
       "    </tr>\n",
       "    <tr>\n",
       "      <th>CT</th>\n",
       "      <td>2768</td>\n",
       "    </tr>\n",
       "    <tr>\n",
       "      <th>OR</th>\n",
       "      <td>2015</td>\n",
       "    </tr>\n",
       "    <tr>\n",
       "      <th>IA</th>\n",
       "      <td>1873</td>\n",
       "    </tr>\n",
       "    <tr>\n",
       "      <th>UT</th>\n",
       "      <td>1684</td>\n",
       "    </tr>\n",
       "    <tr>\n",
       "      <th>AL</th>\n",
       "      <td>1421</td>\n",
       "    </tr>\n",
       "    <tr>\n",
       "      <th>...</th>\n",
       "      <td>...</td>\n",
       "    </tr>\n",
       "    <tr>\n",
       "      <th>AE</th>\n",
       "      <td>40</td>\n",
       "    </tr>\n",
       "    <tr>\n",
       "      <th>VI</th>\n",
       "      <td>12</td>\n",
       "    </tr>\n",
       "    <tr>\n",
       "      <th>JA</th>\n",
       "      <td>8</td>\n",
       "    </tr>\n",
       "    <tr>\n",
       "      <th>CN</th>\n",
       "      <td>7</td>\n",
       "    </tr>\n",
       "    <tr>\n",
       "      <th>GU</th>\n",
       "      <td>7</td>\n",
       "    </tr>\n",
       "    <tr>\n",
       "      <th>KO</th>\n",
       "      <td>6</td>\n",
       "    </tr>\n",
       "    <tr>\n",
       "      <th>QC</th>\n",
       "      <td>6</td>\n",
       "    </tr>\n",
       "    <tr>\n",
       "      <th>NP</th>\n",
       "      <td>3</td>\n",
       "    </tr>\n",
       "    <tr>\n",
       "      <th>NT</th>\n",
       "      <td>3</td>\n",
       "    </tr>\n",
       "    <tr>\n",
       "      <th>AS</th>\n",
       "      <td>2</td>\n",
       "    </tr>\n",
       "    <tr>\n",
       "      <th>LO</th>\n",
       "      <td>2</td>\n",
       "    </tr>\n",
       "    <tr>\n",
       "      <th>NA</th>\n",
       "      <td>2</td>\n",
       "    </tr>\n",
       "    <tr>\n",
       "      <th>QU</th>\n",
       "      <td>2</td>\n",
       "    </tr>\n",
       "    <tr>\n",
       "      <th>FM</th>\n",
       "      <td>1</td>\n",
       "    </tr>\n",
       "    <tr>\n",
       "      <th>GE</th>\n",
       "      <td>1</td>\n",
       "    </tr>\n",
       "    <tr>\n",
       "      <th>HN</th>\n",
       "      <td>1</td>\n",
       "    </tr>\n",
       "    <tr>\n",
       "      <th>IR</th>\n",
       "      <td>1</td>\n",
       "    </tr>\n",
       "    <tr>\n",
       "      <th>JP</th>\n",
       "      <td>1</td>\n",
       "    </tr>\n",
       "    <tr>\n",
       "      <th>KA</th>\n",
       "      <td>1</td>\n",
       "    </tr>\n",
       "    <tr>\n",
       "      <th>MP</th>\n",
       "      <td>1</td>\n",
       "    </tr>\n",
       "    <tr>\n",
       "      <th>NB</th>\n",
       "      <td>1</td>\n",
       "    </tr>\n",
       "    <tr>\n",
       "      <th>NF</th>\n",
       "      <td>1</td>\n",
       "    </tr>\n",
       "    <tr>\n",
       "      <th>NN</th>\n",
       "      <td>1</td>\n",
       "    </tr>\n",
       "    <tr>\n",
       "      <th>OG</th>\n",
       "      <td>1</td>\n",
       "    </tr>\n",
       "    <tr>\n",
       "      <th>ON</th>\n",
       "      <td>1</td>\n",
       "    </tr>\n",
       "    <tr>\n",
       "      <th>OS</th>\n",
       "      <td>1</td>\n",
       "    </tr>\n",
       "    <tr>\n",
       "      <th>TE</th>\n",
       "      <td>1</td>\n",
       "    </tr>\n",
       "    <tr>\n",
       "      <th>US</th>\n",
       "      <td>1</td>\n",
       "    </tr>\n",
       "    <tr>\n",
       "      <th>ca</th>\n",
       "      <td>1</td>\n",
       "    </tr>\n",
       "    <tr>\n",
       "      <th>pa</th>\n",
       "      <td>1</td>\n",
       "    </tr>\n",
       "  </tbody>\n",
       "</table>\n",
       "<p>82 rows × 1 columns</p>\n",
       "</div>"
      ],
      "text/plain": [
       "       COUNT('event id')\n",
       "state                   \n",
       "NY                 24598\n",
       "CA                 20329\n",
       "TX                 16094\n",
       "PA                 10730\n",
       "NJ                  8560\n",
       "OH                  8320\n",
       "AZ                  7180\n",
       "IL                  6867\n",
       "MA                  6591\n",
       "FL                  6299\n",
       "GA                  5453\n",
       "MN                  4689\n",
       "VA                  4395\n",
       "MI                  4364\n",
       "NC                  4239\n",
       "TN                  4157\n",
       "MD                  4115\n",
       "MO                  3867\n",
       "KY                  3817\n",
       "IN                  3752\n",
       "LA                  3451\n",
       "NV                  3244\n",
       "CO                  3109\n",
       "WA                  2989\n",
       "WI                  2871\n",
       "CT                  2768\n",
       "OR                  2015\n",
       "IA                  1873\n",
       "UT                  1684\n",
       "AL                  1421\n",
       "...                  ...\n",
       "AE                    40\n",
       "VI                    12\n",
       "JA                     8\n",
       "CN                     7\n",
       "GU                     7\n",
       "KO                     6\n",
       "QC                     6\n",
       "NP                     3\n",
       "NT                     3\n",
       "AS                     2\n",
       "LO                     2\n",
       "NA                     2\n",
       "QU                     2\n",
       "FM                     1\n",
       "GE                     1\n",
       "HN                     1\n",
       "IR                     1\n",
       "JP                     1\n",
       "KA                     1\n",
       "MP                     1\n",
       "NB                     1\n",
       "NF                     1\n",
       "NN                     1\n",
       "OG                     1\n",
       "ON                     1\n",
       "OS                     1\n",
       "TE                     1\n",
       "US                     1\n",
       "ca                     1\n",
       "pa                     1\n",
       "\n",
       "[82 rows x 1 columns]"
      ]
     },
     "execution_count": 90,
     "metadata": {},
     "output_type": "execute_result"
    }
   ],
   "source": [
    "events_state.set_index('state')"
   ]
  },
  {
   "cell_type": "code",
   "execution_count": 91,
   "metadata": {},
   "outputs": [
    {
     "data": {
      "text/html": [
       "<div>\n",
       "<style scoped>\n",
       "    .dataframe tbody tr th:only-of-type {\n",
       "        vertical-align: middle;\n",
       "    }\n",
       "\n",
       "    .dataframe tbody tr th {\n",
       "        vertical-align: top;\n",
       "    }\n",
       "\n",
       "    .dataframe thead th {\n",
       "        text-align: right;\n",
       "    }\n",
       "</style>\n",
       "<table border=\"1\" class=\"dataframe\">\n",
       "  <thead>\n",
       "    <tr style=\"text-align: right;\">\n",
       "      <th></th>\n",
       "      <th>COUNT('event id')</th>\n",
       "    </tr>\n",
       "    <tr>\n",
       "      <th>state</th>\n",
       "      <th></th>\n",
       "    </tr>\n",
       "  </thead>\n",
       "  <tbody>\n",
       "    <tr>\n",
       "      <th>NY</th>\n",
       "      <td>24598</td>\n",
       "    </tr>\n",
       "    <tr>\n",
       "      <th>CA</th>\n",
       "      <td>20329</td>\n",
       "    </tr>\n",
       "    <tr>\n",
       "      <th>TX</th>\n",
       "      <td>16094</td>\n",
       "    </tr>\n",
       "    <tr>\n",
       "      <th>PA</th>\n",
       "      <td>10730</td>\n",
       "    </tr>\n",
       "    <tr>\n",
       "      <th>NJ</th>\n",
       "      <td>8560</td>\n",
       "    </tr>\n",
       "    <tr>\n",
       "      <th>OH</th>\n",
       "      <td>8320</td>\n",
       "    </tr>\n",
       "    <tr>\n",
       "      <th>AZ</th>\n",
       "      <td>7180</td>\n",
       "    </tr>\n",
       "    <tr>\n",
       "      <th>IL</th>\n",
       "      <td>6867</td>\n",
       "    </tr>\n",
       "    <tr>\n",
       "      <th>MA</th>\n",
       "      <td>6591</td>\n",
       "    </tr>\n",
       "    <tr>\n",
       "      <th>FL</th>\n",
       "      <td>6299</td>\n",
       "    </tr>\n",
       "    <tr>\n",
       "      <th>GA</th>\n",
       "      <td>5453</td>\n",
       "    </tr>\n",
       "    <tr>\n",
       "      <th>MN</th>\n",
       "      <td>4689</td>\n",
       "    </tr>\n",
       "    <tr>\n",
       "      <th>VA</th>\n",
       "      <td>4395</td>\n",
       "    </tr>\n",
       "    <tr>\n",
       "      <th>MI</th>\n",
       "      <td>4364</td>\n",
       "    </tr>\n",
       "    <tr>\n",
       "      <th>NC</th>\n",
       "      <td>4239</td>\n",
       "    </tr>\n",
       "    <tr>\n",
       "      <th>TN</th>\n",
       "      <td>4157</td>\n",
       "    </tr>\n",
       "    <tr>\n",
       "      <th>MD</th>\n",
       "      <td>4115</td>\n",
       "    </tr>\n",
       "    <tr>\n",
       "      <th>MO</th>\n",
       "      <td>3867</td>\n",
       "    </tr>\n",
       "    <tr>\n",
       "      <th>KY</th>\n",
       "      <td>3817</td>\n",
       "    </tr>\n",
       "    <tr>\n",
       "      <th>IN</th>\n",
       "      <td>3752</td>\n",
       "    </tr>\n",
       "    <tr>\n",
       "      <th>LA</th>\n",
       "      <td>3451</td>\n",
       "    </tr>\n",
       "    <tr>\n",
       "      <th>NV</th>\n",
       "      <td>3244</td>\n",
       "    </tr>\n",
       "    <tr>\n",
       "      <th>CO</th>\n",
       "      <td>3109</td>\n",
       "    </tr>\n",
       "    <tr>\n",
       "      <th>WA</th>\n",
       "      <td>2989</td>\n",
       "    </tr>\n",
       "    <tr>\n",
       "      <th>WI</th>\n",
       "      <td>2871</td>\n",
       "    </tr>\n",
       "    <tr>\n",
       "      <th>CT</th>\n",
       "      <td>2768</td>\n",
       "    </tr>\n",
       "    <tr>\n",
       "      <th>OR</th>\n",
       "      <td>2015</td>\n",
       "    </tr>\n",
       "    <tr>\n",
       "      <th>IA</th>\n",
       "      <td>1873</td>\n",
       "    </tr>\n",
       "    <tr>\n",
       "      <th>UT</th>\n",
       "      <td>1684</td>\n",
       "    </tr>\n",
       "    <tr>\n",
       "      <th>AL</th>\n",
       "      <td>1421</td>\n",
       "    </tr>\n",
       "    <tr>\n",
       "      <th>...</th>\n",
       "      <td>...</td>\n",
       "    </tr>\n",
       "    <tr>\n",
       "      <th>AE</th>\n",
       "      <td>40</td>\n",
       "    </tr>\n",
       "    <tr>\n",
       "      <th>VI</th>\n",
       "      <td>12</td>\n",
       "    </tr>\n",
       "    <tr>\n",
       "      <th>JA</th>\n",
       "      <td>8</td>\n",
       "    </tr>\n",
       "    <tr>\n",
       "      <th>CN</th>\n",
       "      <td>7</td>\n",
       "    </tr>\n",
       "    <tr>\n",
       "      <th>GU</th>\n",
       "      <td>7</td>\n",
       "    </tr>\n",
       "    <tr>\n",
       "      <th>KO</th>\n",
       "      <td>6</td>\n",
       "    </tr>\n",
       "    <tr>\n",
       "      <th>QC</th>\n",
       "      <td>6</td>\n",
       "    </tr>\n",
       "    <tr>\n",
       "      <th>NP</th>\n",
       "      <td>3</td>\n",
       "    </tr>\n",
       "    <tr>\n",
       "      <th>NT</th>\n",
       "      <td>3</td>\n",
       "    </tr>\n",
       "    <tr>\n",
       "      <th>AS</th>\n",
       "      <td>2</td>\n",
       "    </tr>\n",
       "    <tr>\n",
       "      <th>LO</th>\n",
       "      <td>2</td>\n",
       "    </tr>\n",
       "    <tr>\n",
       "      <th>NA</th>\n",
       "      <td>2</td>\n",
       "    </tr>\n",
       "    <tr>\n",
       "      <th>QU</th>\n",
       "      <td>2</td>\n",
       "    </tr>\n",
       "    <tr>\n",
       "      <th>FM</th>\n",
       "      <td>1</td>\n",
       "    </tr>\n",
       "    <tr>\n",
       "      <th>GE</th>\n",
       "      <td>1</td>\n",
       "    </tr>\n",
       "    <tr>\n",
       "      <th>HN</th>\n",
       "      <td>1</td>\n",
       "    </tr>\n",
       "    <tr>\n",
       "      <th>IR</th>\n",
       "      <td>1</td>\n",
       "    </tr>\n",
       "    <tr>\n",
       "      <th>JP</th>\n",
       "      <td>1</td>\n",
       "    </tr>\n",
       "    <tr>\n",
       "      <th>KA</th>\n",
       "      <td>1</td>\n",
       "    </tr>\n",
       "    <tr>\n",
       "      <th>MP</th>\n",
       "      <td>1</td>\n",
       "    </tr>\n",
       "    <tr>\n",
       "      <th>NB</th>\n",
       "      <td>1</td>\n",
       "    </tr>\n",
       "    <tr>\n",
       "      <th>NF</th>\n",
       "      <td>1</td>\n",
       "    </tr>\n",
       "    <tr>\n",
       "      <th>NN</th>\n",
       "      <td>1</td>\n",
       "    </tr>\n",
       "    <tr>\n",
       "      <th>OG</th>\n",
       "      <td>1</td>\n",
       "    </tr>\n",
       "    <tr>\n",
       "      <th>ON</th>\n",
       "      <td>1</td>\n",
       "    </tr>\n",
       "    <tr>\n",
       "      <th>OS</th>\n",
       "      <td>1</td>\n",
       "    </tr>\n",
       "    <tr>\n",
       "      <th>TE</th>\n",
       "      <td>1</td>\n",
       "    </tr>\n",
       "    <tr>\n",
       "      <th>US</th>\n",
       "      <td>1</td>\n",
       "    </tr>\n",
       "    <tr>\n",
       "      <th>ca</th>\n",
       "      <td>1</td>\n",
       "    </tr>\n",
       "    <tr>\n",
       "      <th>pa</th>\n",
       "      <td>1</td>\n",
       "    </tr>\n",
       "  </tbody>\n",
       "</table>\n",
       "<p>82 rows × 1 columns</p>\n",
       "</div>"
      ],
      "text/plain": [
       "       COUNT('event id')\n",
       "state                   \n",
       "NY                 24598\n",
       "CA                 20329\n",
       "TX                 16094\n",
       "PA                 10730\n",
       "NJ                  8560\n",
       "OH                  8320\n",
       "AZ                  7180\n",
       "IL                  6867\n",
       "MA                  6591\n",
       "FL                  6299\n",
       "GA                  5453\n",
       "MN                  4689\n",
       "VA                  4395\n",
       "MI                  4364\n",
       "NC                  4239\n",
       "TN                  4157\n",
       "MD                  4115\n",
       "MO                  3867\n",
       "KY                  3817\n",
       "IN                  3752\n",
       "LA                  3451\n",
       "NV                  3244\n",
       "CO                  3109\n",
       "WA                  2989\n",
       "WI                  2871\n",
       "CT                  2768\n",
       "OR                  2015\n",
       "IA                  1873\n",
       "UT                  1684\n",
       "AL                  1421\n",
       "...                  ...\n",
       "AE                    40\n",
       "VI                    12\n",
       "JA                     8\n",
       "CN                     7\n",
       "GU                     7\n",
       "KO                     6\n",
       "QC                     6\n",
       "NP                     3\n",
       "NT                     3\n",
       "AS                     2\n",
       "LO                     2\n",
       "NA                     2\n",
       "QU                     2\n",
       "FM                     1\n",
       "GE                     1\n",
       "HN                     1\n",
       "IR                     1\n",
       "JP                     1\n",
       "KA                     1\n",
       "MP                     1\n",
       "NB                     1\n",
       "NF                     1\n",
       "NN                     1\n",
       "OG                     1\n",
       "ON                     1\n",
       "OS                     1\n",
       "TE                     1\n",
       "US                     1\n",
       "ca                     1\n",
       "pa                     1\n",
       "\n",
       "[82 rows x 1 columns]"
      ]
     },
     "execution_count": 91,
     "metadata": {},
     "output_type": "execute_result"
    }
   ],
   "source": [
    "events_state.set_index('state')"
   ]
  },
  {
   "cell_type": "code",
   "execution_count": 92,
   "metadata": {},
   "outputs": [],
   "source": [
    "users_events_state = pd.merge(users_state, events_state, how='inner')"
   ]
  },
  {
   "cell_type": "code",
   "execution_count": 94,
   "metadata": {},
   "outputs": [
    {
     "data": {
      "text/html": [
       "<div>\n",
       "<style scoped>\n",
       "    .dataframe tbody tr th:only-of-type {\n",
       "        vertical-align: middle;\n",
       "    }\n",
       "\n",
       "    .dataframe tbody tr th {\n",
       "        vertical-align: top;\n",
       "    }\n",
       "\n",
       "    .dataframe thead th {\n",
       "        text-align: right;\n",
       "    }\n",
       "</style>\n",
       "<table border=\"1\" class=\"dataframe\">\n",
       "  <thead>\n",
       "    <tr style=\"text-align: right;\">\n",
       "      <th></th>\n",
       "      <th>COUNT(uid)</th>\n",
       "      <th>COUNT('event id')</th>\n",
       "    </tr>\n",
       "    <tr>\n",
       "      <th>state</th>\n",
       "      <th></th>\n",
       "      <th></th>\n",
       "    </tr>\n",
       "  </thead>\n",
       "  <tbody>\n",
       "    <tr>\n",
       "      <th>CA</th>\n",
       "      <td>51125</td>\n",
       "      <td>20329</td>\n",
       "    </tr>\n",
       "    <tr>\n",
       "      <th>NY</th>\n",
       "      <td>49802</td>\n",
       "      <td>24598</td>\n",
       "    </tr>\n",
       "    <tr>\n",
       "      <th>TX</th>\n",
       "      <td>35380</td>\n",
       "      <td>16094</td>\n",
       "    </tr>\n",
       "    <tr>\n",
       "      <th>IL</th>\n",
       "      <td>28796</td>\n",
       "      <td>6867</td>\n",
       "    </tr>\n",
       "    <tr>\n",
       "      <th>FL</th>\n",
       "      <td>23794</td>\n",
       "      <td>6299</td>\n",
       "    </tr>\n",
       "    <tr>\n",
       "      <th>NJ</th>\n",
       "      <td>18729</td>\n",
       "      <td>8560</td>\n",
       "    </tr>\n",
       "    <tr>\n",
       "      <th>PA</th>\n",
       "      <td>17878</td>\n",
       "      <td>10730</td>\n",
       "    </tr>\n",
       "    <tr>\n",
       "      <th>AZ</th>\n",
       "      <td>17854</td>\n",
       "      <td>7180</td>\n",
       "    </tr>\n",
       "    <tr>\n",
       "      <th>OH</th>\n",
       "      <td>16111</td>\n",
       "      <td>8320</td>\n",
       "    </tr>\n",
       "    <tr>\n",
       "      <th>MI</th>\n",
       "      <td>14714</td>\n",
       "      <td>4364</td>\n",
       "    </tr>\n",
       "    <tr>\n",
       "      <th>VA</th>\n",
       "      <td>13876</td>\n",
       "      <td>4395</td>\n",
       "    </tr>\n",
       "    <tr>\n",
       "      <th>IN</th>\n",
       "      <td>12806</td>\n",
       "      <td>3752</td>\n",
       "    </tr>\n",
       "    <tr>\n",
       "      <th>MA</th>\n",
       "      <td>12000</td>\n",
       "      <td>6591</td>\n",
       "    </tr>\n",
       "    <tr>\n",
       "      <th>WA</th>\n",
       "      <td>10847</td>\n",
       "      <td>2989</td>\n",
       "    </tr>\n",
       "    <tr>\n",
       "      <th>TN</th>\n",
       "      <td>10496</td>\n",
       "      <td>4157</td>\n",
       "    </tr>\n",
       "    <tr>\n",
       "      <th>NC</th>\n",
       "      <td>10307</td>\n",
       "      <td>4239</td>\n",
       "    </tr>\n",
       "    <tr>\n",
       "      <th>MD</th>\n",
       "      <td>10228</td>\n",
       "      <td>4115</td>\n",
       "    </tr>\n",
       "    <tr>\n",
       "      <th>KY</th>\n",
       "      <td>10152</td>\n",
       "      <td>3817</td>\n",
       "    </tr>\n",
       "    <tr>\n",
       "      <th>GA</th>\n",
       "      <td>9548</td>\n",
       "      <td>5453</td>\n",
       "    </tr>\n",
       "    <tr>\n",
       "      <th>MO</th>\n",
       "      <td>6786</td>\n",
       "      <td>3867</td>\n",
       "    </tr>\n",
       "    <tr>\n",
       "      <th>CT</th>\n",
       "      <td>6658</td>\n",
       "      <td>2768</td>\n",
       "    </tr>\n",
       "    <tr>\n",
       "      <th>CO</th>\n",
       "      <td>6260</td>\n",
       "      <td>3109</td>\n",
       "    </tr>\n",
       "    <tr>\n",
       "      <th>MN</th>\n",
       "      <td>5859</td>\n",
       "      <td>4689</td>\n",
       "    </tr>\n",
       "    <tr>\n",
       "      <th>NM</th>\n",
       "      <td>5698</td>\n",
       "      <td>1009</td>\n",
       "    </tr>\n",
       "    <tr>\n",
       "      <th>UT</th>\n",
       "      <td>5332</td>\n",
       "      <td>1684</td>\n",
       "    </tr>\n",
       "    <tr>\n",
       "      <th>WI</th>\n",
       "      <td>5229</td>\n",
       "      <td>2871</td>\n",
       "    </tr>\n",
       "    <tr>\n",
       "      <th>OR</th>\n",
       "      <td>5214</td>\n",
       "      <td>2015</td>\n",
       "    </tr>\n",
       "    <tr>\n",
       "      <th>LA</th>\n",
       "      <td>5018</td>\n",
       "      <td>3451</td>\n",
       "    </tr>\n",
       "    <tr>\n",
       "      <th>AL</th>\n",
       "      <td>4812</td>\n",
       "      <td>1421</td>\n",
       "    </tr>\n",
       "    <tr>\n",
       "      <th>NV</th>\n",
       "      <td>4366</td>\n",
       "      <td>3244</td>\n",
       "    </tr>\n",
       "    <tr>\n",
       "      <th>...</th>\n",
       "      <td>...</td>\n",
       "      <td>...</td>\n",
       "    </tr>\n",
       "    <tr>\n",
       "      <th>KS</th>\n",
       "      <td>3197</td>\n",
       "      <td>585</td>\n",
       "    </tr>\n",
       "    <tr>\n",
       "      <th>WV</th>\n",
       "      <td>3081</td>\n",
       "      <td>799</td>\n",
       "    </tr>\n",
       "    <tr>\n",
       "      <th>SC</th>\n",
       "      <td>2910</td>\n",
       "      <td>1170</td>\n",
       "    </tr>\n",
       "    <tr>\n",
       "      <th>NE</th>\n",
       "      <td>2900</td>\n",
       "      <td>860</td>\n",
       "    </tr>\n",
       "    <tr>\n",
       "      <th>NH</th>\n",
       "      <td>2642</td>\n",
       "      <td>868</td>\n",
       "    </tr>\n",
       "    <tr>\n",
       "      <th>MS</th>\n",
       "      <td>2365</td>\n",
       "      <td>617</td>\n",
       "    </tr>\n",
       "    <tr>\n",
       "      <th>AR</th>\n",
       "      <td>1795</td>\n",
       "      <td>737</td>\n",
       "    </tr>\n",
       "    <tr>\n",
       "      <th>SD</th>\n",
       "      <td>1712</td>\n",
       "      <td>456</td>\n",
       "    </tr>\n",
       "    <tr>\n",
       "      <th>RI</th>\n",
       "      <td>1648</td>\n",
       "      <td>1217</td>\n",
       "    </tr>\n",
       "    <tr>\n",
       "      <th>ID</th>\n",
       "      <td>1547</td>\n",
       "      <td>492</td>\n",
       "    </tr>\n",
       "    <tr>\n",
       "      <th>DC</th>\n",
       "      <td>1507</td>\n",
       "      <td>1396</td>\n",
       "    </tr>\n",
       "    <tr>\n",
       "      <th>VT</th>\n",
       "      <td>1506</td>\n",
       "      <td>303</td>\n",
       "    </tr>\n",
       "    <tr>\n",
       "      <th>HI</th>\n",
       "      <td>1355</td>\n",
       "      <td>380</td>\n",
       "    </tr>\n",
       "    <tr>\n",
       "      <th>AK</th>\n",
       "      <td>1329</td>\n",
       "      <td>379</td>\n",
       "    </tr>\n",
       "    <tr>\n",
       "      <th>ND</th>\n",
       "      <td>691</td>\n",
       "      <td>300</td>\n",
       "    </tr>\n",
       "    <tr>\n",
       "      <th>DE</th>\n",
       "      <td>674</td>\n",
       "      <td>586</td>\n",
       "    </tr>\n",
       "    <tr>\n",
       "      <th>MT</th>\n",
       "      <td>645</td>\n",
       "      <td>810</td>\n",
       "    </tr>\n",
       "    <tr>\n",
       "      <th>WY</th>\n",
       "      <td>484</td>\n",
       "      <td>186</td>\n",
       "    </tr>\n",
       "    <tr>\n",
       "      <th>AE</th>\n",
       "      <td>423</td>\n",
       "      <td>40</td>\n",
       "    </tr>\n",
       "    <tr>\n",
       "      <th>AP</th>\n",
       "      <td>350</td>\n",
       "      <td>85</td>\n",
       "    </tr>\n",
       "    <tr>\n",
       "      <th>ON</th>\n",
       "      <td>152</td>\n",
       "      <td>1</td>\n",
       "    </tr>\n",
       "    <tr>\n",
       "      <th>VI</th>\n",
       "      <td>140</td>\n",
       "      <td>12</td>\n",
       "    </tr>\n",
       "    <tr>\n",
       "      <th>GU</th>\n",
       "      <td>67</td>\n",
       "      <td>7</td>\n",
       "    </tr>\n",
       "    <tr>\n",
       "      <th>QC</th>\n",
       "      <td>67</td>\n",
       "      <td>6</td>\n",
       "    </tr>\n",
       "    <tr>\n",
       "      <th>MP</th>\n",
       "      <td>22</td>\n",
       "      <td>1</td>\n",
       "    </tr>\n",
       "    <tr>\n",
       "      <th>NB</th>\n",
       "      <td>9</td>\n",
       "      <td>1</td>\n",
       "    </tr>\n",
       "    <tr>\n",
       "      <th>AS</th>\n",
       "      <td>6</td>\n",
       "      <td>2</td>\n",
       "    </tr>\n",
       "    <tr>\n",
       "      <th>NA</th>\n",
       "      <td>5</td>\n",
       "      <td>2</td>\n",
       "    </tr>\n",
       "    <tr>\n",
       "      <th>NP</th>\n",
       "      <td>3</td>\n",
       "      <td>3</td>\n",
       "    </tr>\n",
       "    <tr>\n",
       "      <th>CN</th>\n",
       "      <td>2</td>\n",
       "      <td>7</td>\n",
       "    </tr>\n",
       "  </tbody>\n",
       "</table>\n",
       "<p>63 rows × 2 columns</p>\n",
       "</div>"
      ],
      "text/plain": [
       "       COUNT(uid)  COUNT('event id')\n",
       "state                               \n",
       "CA          51125              20329\n",
       "NY          49802              24598\n",
       "TX          35380              16094\n",
       "IL          28796               6867\n",
       "FL          23794               6299\n",
       "NJ          18729               8560\n",
       "PA          17878              10730\n",
       "AZ          17854               7180\n",
       "OH          16111               8320\n",
       "MI          14714               4364\n",
       "VA          13876               4395\n",
       "IN          12806               3752\n",
       "MA          12000               6591\n",
       "WA          10847               2989\n",
       "TN          10496               4157\n",
       "NC          10307               4239\n",
       "MD          10228               4115\n",
       "KY          10152               3817\n",
       "GA           9548               5453\n",
       "MO           6786               3867\n",
       "CT           6658               2768\n",
       "CO           6260               3109\n",
       "MN           5859               4689\n",
       "NM           5698               1009\n",
       "UT           5332               1684\n",
       "WI           5229               2871\n",
       "OR           5214               2015\n",
       "LA           5018               3451\n",
       "AL           4812               1421\n",
       "NV           4366               3244\n",
       "...           ...                ...\n",
       "KS           3197                585\n",
       "WV           3081                799\n",
       "SC           2910               1170\n",
       "NE           2900                860\n",
       "NH           2642                868\n",
       "MS           2365                617\n",
       "AR           1795                737\n",
       "SD           1712                456\n",
       "RI           1648               1217\n",
       "ID           1547                492\n",
       "DC           1507               1396\n",
       "VT           1506                303\n",
       "HI           1355                380\n",
       "AK           1329                379\n",
       "ND            691                300\n",
       "DE            674                586\n",
       "MT            645                810\n",
       "WY            484                186\n",
       "AE            423                 40\n",
       "AP            350                 85\n",
       "ON            152                  1\n",
       "VI            140                 12\n",
       "GU             67                  7\n",
       "QC             67                  6\n",
       "MP             22                  1\n",
       "NB              9                  1\n",
       "AS              6                  2\n",
       "NA              5                  2\n",
       "NP              3                  3\n",
       "CN              2                  7\n",
       "\n",
       "[63 rows x 2 columns]"
      ]
     },
     "execution_count": 94,
     "metadata": {},
     "output_type": "execute_result"
    }
   ],
   "source": [
    "users_events_state.set_index('state')"
   ]
  },
  {
   "cell_type": "code",
   "execution_count": 95,
   "metadata": {},
   "outputs": [],
   "source": [
    "users_events_state = users_events_state.rename(index=str, columns={\"COUNT(uid)\": \"uid_count\", \"COUNT('event id')\": \"event_count\"})"
   ]
  },
  {
   "cell_type": "code",
   "execution_count": 107,
   "metadata": {},
   "outputs": [
    {
     "data": {
      "image/png": "[encoded data removed]",
      "text/plain": [
       "<Figure size 1440x720 with 1 Axes>"
      ]
     },
     "metadata": {},
     "output_type": "display_data"
    }
   ],
   "source": [
    "plt.figure(figsize=(20, 10))\n",
    "#users_events_state.plot.scatter('uid_count', 'event_count')\n",
    "plt.scatter(users_events_state['uid_count'], users_events_state['event_count'])\n",
    "plt.title(\"Number of Events vs. Number of Chess Players in each State\", fontsize=20)\n",
    "plt.ylabel(\"Number of Events\", fontsize=15)\n",
    "plt.xlabel(\"Number of Chess Players\", fontsize=15)\n",
    "plt.savefig(\"events_chess_players_state.jpg\")"
   ]
  },
  {
   "cell_type": "code",
   "execution_count": 38,
   "metadata": {},
   "outputs": [
    {
     "data": {
      "text/html": [
       "<div>\n",
       "<style scoped>\n",
       "    .dataframe tbody tr th:only-of-type {\n",
       "        vertical-align: middle;\n",
       "    }\n",
       "\n",
       "    .dataframe tbody tr th {\n",
       "        vertical-align: top;\n",
       "    }\n",
       "\n",
       "    .dataframe thead th {\n",
       "        text-align: right;\n",
       "    }\n",
       "</style>\n",
       "<table border=\"1\" class=\"dataframe\">\n",
       "  <thead>\n",
       "    <tr style=\"text-align: right;\">\n",
       "      <th></th>\n",
       "      <th>uid_count</th>\n",
       "      <th>event_count</th>\n",
       "    </tr>\n",
       "  </thead>\n",
       "  <tbody>\n",
       "    <tr>\n",
       "      <th>uid_count</th>\n",
       "      <td>1.000000</td>\n",
       "      <td>0.961486</td>\n",
       "    </tr>\n",
       "    <tr>\n",
       "      <th>event_count</th>\n",
       "      <td>0.961486</td>\n",
       "      <td>1.000000</td>\n",
       "    </tr>\n",
       "  </tbody>\n",
       "</table>\n",
       "</div>"
      ],
      "text/plain": [
       "             uid_count  event_count\n",
       "uid_count     1.000000     0.961486\n",
       "event_count   0.961486     1.000000"
      ]
     },
     "execution_count": 38,
     "metadata": {},
     "output_type": "execute_result"
    }
   ],
   "source": [
    "users_events_state.corr()"
   ]
  },
  {
   "cell_type": "markdown",
   "metadata": {
    "colab_type": "text",
    "id": "Qf10sjW7wY4C"
   },
   "source": [
    "# Close Connection"
   ]
  },
  {
   "cell_type": "code",
   "execution_count": 0,
   "metadata": {
    "colab": {},
    "colab_type": "code",
    "id": "WlxicEaCrurM"
   },
   "outputs": [],
   "source": [
    "conn.close()"
   ]
  }
 ],
 "metadata": {
  "accelerator": "GPU",
  "colab": {
   "collapsed_sections": [],
   "name": "chess_exploration.ipynb",
   "provenance": [],
   "version": "0.3.2"
  },
  "kernelspec": {
   "display_name": "Python 3",
   "language": "python",
   "name": "python3"
  },
  "language_info": {
   "codemirror_mode": {
    "name": "ipython",
    "version": 3
   },
   "file_extension": ".py",
   "mimetype": "text/x-python",
   "name": "python",
   "nbconvert_exporter": "python",
   "pygments_lexer": "ipython3",
   "version": "3.6.5"
  }
 },
 "nbformat": 4,
 "nbformat_minor": 1
}
